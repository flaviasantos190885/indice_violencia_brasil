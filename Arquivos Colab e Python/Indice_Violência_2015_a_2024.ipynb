{
  "nbformat": 4,
  "nbformat_minor": 0,
  "metadata": {
    "colab": {
      "provenance": [],
      "collapsed_sections": [
        "AEQx4J81x1ik",
        "Wh1yW0--xyBo",
        "cnHmHR_LSt_D",
        "PXFHyBVO-UU3"
      ]
    },
    "kernelspec": {
      "name": "python3",
      "display_name": "Python 3"
    },
    "language_info": {
      "name": "python"
    }
  },
  "cells": [
    {
      "cell_type": "markdown",
      "source": [
        "#Índice de Violência - 2015 a 2024"
      ],
      "metadata": {
        "id": "i6A6m3t-maso"
      }
    },
    {
      "cell_type": "markdown",
      "source": [
        "##Instalações e Importações"
      ],
      "metadata": {
        "id": "AEQx4J81x1ik"
      }
    },
    {
      "cell_type": "code",
      "source": [
        "!pip install pandas numpy plotly\n",
        "!pip install dash dash-core-components dash-html-components dash-table\n",
        "!pip install tensorflow\n",
        "!pip install keras\n",
        "!pip install scikit-learn\n"
      ],
      "metadata": {
        "colab": {
          "base_uri": "https://localhost:8080/"
        },
        "collapsed": true,
        "id": "cbM7dASIp9M-",
        "outputId": "a6edca3e-6e27-4e6f-8159-bfd8f1db9c48"
      },
      "execution_count": null,
      "outputs": [
        {
          "output_type": "stream",
          "name": "stdout",
          "text": [
            "Requirement already satisfied: pandas in /usr/local/lib/python3.11/dist-packages (2.2.2)\n",
            "Requirement already satisfied: numpy in /usr/local/lib/python3.11/dist-packages (2.0.2)\n",
            "Requirement already satisfied: plotly in /usr/local/lib/python3.11/dist-packages (5.24.1)\n",
            "Requirement already satisfied: python-dateutil>=2.8.2 in /usr/local/lib/python3.11/dist-packages (from pandas) (2.9.0.post0)\n",
            "Requirement already satisfied: pytz>=2020.1 in /usr/local/lib/python3.11/dist-packages (from pandas) (2025.2)\n",
            "Requirement already satisfied: tzdata>=2022.7 in /usr/local/lib/python3.11/dist-packages (from pandas) (2025.2)\n",
            "Requirement already satisfied: tenacity>=6.2.0 in /usr/local/lib/python3.11/dist-packages (from plotly) (8.5.0)\n",
            "Requirement already satisfied: packaging in /usr/local/lib/python3.11/dist-packages (from plotly) (25.0)\n",
            "Requirement already satisfied: six>=1.5 in /usr/local/lib/python3.11/dist-packages (from python-dateutil>=2.8.2->pandas) (1.17.0)\n",
            "Collecting dash\n",
            "  Downloading dash-3.2.0-py3-none-any.whl.metadata (10 kB)\n",
            "Collecting dash-core-components\n",
            "  Downloading dash_core_components-2.0.0-py3-none-any.whl.metadata (2.9 kB)\n",
            "Collecting dash-html-components\n",
            "  Downloading dash_html_components-2.0.0-py3-none-any.whl.metadata (3.8 kB)\n",
            "Collecting dash-table\n",
            "  Downloading dash_table-5.0.0-py3-none-any.whl.metadata (2.4 kB)\n",
            "Requirement already satisfied: Flask<3.2,>=1.0.4 in /usr/local/lib/python3.11/dist-packages (from dash) (3.1.1)\n",
            "Requirement already satisfied: Werkzeug<3.2 in /usr/local/lib/python3.11/dist-packages (from dash) (3.1.3)\n",
            "Requirement already satisfied: plotly>=5.0.0 in /usr/local/lib/python3.11/dist-packages (from dash) (5.24.1)\n",
            "Requirement already satisfied: importlib-metadata in /usr/local/lib/python3.11/dist-packages (from dash) (8.7.0)\n",
            "Requirement already satisfied: typing-extensions>=4.1.1 in /usr/local/lib/python3.11/dist-packages (from dash) (4.14.1)\n",
            "Requirement already satisfied: requests in /usr/local/lib/python3.11/dist-packages (from dash) (2.32.3)\n",
            "Collecting retrying (from dash)\n",
            "  Downloading retrying-1.4.2-py3-none-any.whl.metadata (5.5 kB)\n",
            "Requirement already satisfied: nest-asyncio in /usr/local/lib/python3.11/dist-packages (from dash) (1.6.0)\n",
            "Requirement already satisfied: setuptools in /usr/local/lib/python3.11/dist-packages (from dash) (75.2.0)\n",
            "Requirement already satisfied: blinker>=1.9.0 in /usr/local/lib/python3.11/dist-packages (from Flask<3.2,>=1.0.4->dash) (1.9.0)\n",
            "Requirement already satisfied: click>=8.1.3 in /usr/local/lib/python3.11/dist-packages (from Flask<3.2,>=1.0.4->dash) (8.2.1)\n",
            "Requirement already satisfied: itsdangerous>=2.2.0 in /usr/local/lib/python3.11/dist-packages (from Flask<3.2,>=1.0.4->dash) (2.2.0)\n",
            "Requirement already satisfied: jinja2>=3.1.2 in /usr/local/lib/python3.11/dist-packages (from Flask<3.2,>=1.0.4->dash) (3.1.6)\n",
            "Requirement already satisfied: markupsafe>=2.1.1 in /usr/local/lib/python3.11/dist-packages (from Flask<3.2,>=1.0.4->dash) (3.0.2)\n",
            "Requirement already satisfied: tenacity>=6.2.0 in /usr/local/lib/python3.11/dist-packages (from plotly>=5.0.0->dash) (8.5.0)\n",
            "Requirement already satisfied: packaging in /usr/local/lib/python3.11/dist-packages (from plotly>=5.0.0->dash) (25.0)\n",
            "Requirement already satisfied: zipp>=3.20 in /usr/local/lib/python3.11/dist-packages (from importlib-metadata->dash) (3.23.0)\n",
            "Requirement already satisfied: charset-normalizer<4,>=2 in /usr/local/lib/python3.11/dist-packages (from requests->dash) (3.4.2)\n",
            "Requirement already satisfied: idna<4,>=2.5 in /usr/local/lib/python3.11/dist-packages (from requests->dash) (3.10)\n",
            "Requirement already satisfied: urllib3<3,>=1.21.1 in /usr/local/lib/python3.11/dist-packages (from requests->dash) (2.5.0)\n",
            "Requirement already satisfied: certifi>=2017.4.17 in /usr/local/lib/python3.11/dist-packages (from requests->dash) (2025.8.3)\n",
            "Downloading dash-3.2.0-py3-none-any.whl (7.9 MB)\n",
            "\u001b[2K   \u001b[90m━━━━━━━━━━━━━━━━━━━━━━━━━━━━━━━━━━━━━━━━\u001b[0m \u001b[32m7.9/7.9 MB\u001b[0m \u001b[31m28.8 MB/s\u001b[0m eta \u001b[36m0:00:00\u001b[0m\n",
            "\u001b[?25hDownloading dash_core_components-2.0.0-py3-none-any.whl (3.8 kB)\n",
            "Downloading dash_html_components-2.0.0-py3-none-any.whl (4.1 kB)\n",
            "Downloading dash_table-5.0.0-py3-none-any.whl (3.9 kB)\n",
            "Downloading retrying-1.4.2-py3-none-any.whl (10 kB)\n",
            "Installing collected packages: dash-table, dash-html-components, dash-core-components, retrying, dash\n",
            "Successfully installed dash-3.2.0 dash-core-components-2.0.0 dash-html-components-2.0.0 dash-table-5.0.0 retrying-1.4.2\n",
            "Requirement already satisfied: tensorflow in /usr/local/lib/python3.11/dist-packages (2.19.0)\n",
            "Requirement already satisfied: absl-py>=1.0.0 in /usr/local/lib/python3.11/dist-packages (from tensorflow) (1.4.0)\n",
            "Requirement already satisfied: astunparse>=1.6.0 in /usr/local/lib/python3.11/dist-packages (from tensorflow) (1.6.3)\n",
            "Requirement already satisfied: flatbuffers>=24.3.25 in /usr/local/lib/python3.11/dist-packages (from tensorflow) (25.2.10)\n",
            "Requirement already satisfied: gast!=0.5.0,!=0.5.1,!=0.5.2,>=0.2.1 in /usr/local/lib/python3.11/dist-packages (from tensorflow) (0.6.0)\n",
            "Requirement already satisfied: google-pasta>=0.1.1 in /usr/local/lib/python3.11/dist-packages (from tensorflow) (0.2.0)\n",
            "Requirement already satisfied: libclang>=13.0.0 in /usr/local/lib/python3.11/dist-packages (from tensorflow) (18.1.1)\n",
            "Requirement already satisfied: opt-einsum>=2.3.2 in /usr/local/lib/python3.11/dist-packages (from tensorflow) (3.4.0)\n",
            "Requirement already satisfied: packaging in /usr/local/lib/python3.11/dist-packages (from tensorflow) (25.0)\n",
            "Requirement already satisfied: protobuf!=4.21.0,!=4.21.1,!=4.21.2,!=4.21.3,!=4.21.4,!=4.21.5,<6.0.0dev,>=3.20.3 in /usr/local/lib/python3.11/dist-packages (from tensorflow) (5.29.5)\n",
            "Requirement already satisfied: requests<3,>=2.21.0 in /usr/local/lib/python3.11/dist-packages (from tensorflow) (2.32.3)\n",
            "Requirement already satisfied: setuptools in /usr/local/lib/python3.11/dist-packages (from tensorflow) (75.2.0)\n",
            "Requirement already satisfied: six>=1.12.0 in /usr/local/lib/python3.11/dist-packages (from tensorflow) (1.17.0)\n",
            "Requirement already satisfied: termcolor>=1.1.0 in /usr/local/lib/python3.11/dist-packages (from tensorflow) (3.1.0)\n",
            "Requirement already satisfied: typing-extensions>=3.6.6 in /usr/local/lib/python3.11/dist-packages (from tensorflow) (4.14.1)\n",
            "Requirement already satisfied: wrapt>=1.11.0 in /usr/local/lib/python3.11/dist-packages (from tensorflow) (1.17.2)\n",
            "Requirement already satisfied: grpcio<2.0,>=1.24.3 in /usr/local/lib/python3.11/dist-packages (from tensorflow) (1.74.0)\n",
            "Requirement already satisfied: tensorboard~=2.19.0 in /usr/local/lib/python3.11/dist-packages (from tensorflow) (2.19.0)\n",
            "Requirement already satisfied: keras>=3.5.0 in /usr/local/lib/python3.11/dist-packages (from tensorflow) (3.10.0)\n",
            "Requirement already satisfied: numpy<2.2.0,>=1.26.0 in /usr/local/lib/python3.11/dist-packages (from tensorflow) (2.0.2)\n",
            "Requirement already satisfied: h5py>=3.11.0 in /usr/local/lib/python3.11/dist-packages (from tensorflow) (3.14.0)\n",
            "Requirement already satisfied: ml-dtypes<1.0.0,>=0.5.1 in /usr/local/lib/python3.11/dist-packages (from tensorflow) (0.5.3)\n",
            "Requirement already satisfied: tensorflow-io-gcs-filesystem>=0.23.1 in /usr/local/lib/python3.11/dist-packages (from tensorflow) (0.37.1)\n",
            "Requirement already satisfied: wheel<1.0,>=0.23.0 in /usr/local/lib/python3.11/dist-packages (from astunparse>=1.6.0->tensorflow) (0.45.1)\n",
            "Requirement already satisfied: rich in /usr/local/lib/python3.11/dist-packages (from keras>=3.5.0->tensorflow) (13.9.4)\n",
            "Requirement already satisfied: namex in /usr/local/lib/python3.11/dist-packages (from keras>=3.5.0->tensorflow) (0.1.0)\n",
            "Requirement already satisfied: optree in /usr/local/lib/python3.11/dist-packages (from keras>=3.5.0->tensorflow) (0.17.0)\n",
            "Requirement already satisfied: charset-normalizer<4,>=2 in /usr/local/lib/python3.11/dist-packages (from requests<3,>=2.21.0->tensorflow) (3.4.2)\n",
            "Requirement already satisfied: idna<4,>=2.5 in /usr/local/lib/python3.11/dist-packages (from requests<3,>=2.21.0->tensorflow) (3.10)\n",
            "Requirement already satisfied: urllib3<3,>=1.21.1 in /usr/local/lib/python3.11/dist-packages (from requests<3,>=2.21.0->tensorflow) (2.5.0)\n",
            "Requirement already satisfied: certifi>=2017.4.17 in /usr/local/lib/python3.11/dist-packages (from requests<3,>=2.21.0->tensorflow) (2025.8.3)\n",
            "Requirement already satisfied: markdown>=2.6.8 in /usr/local/lib/python3.11/dist-packages (from tensorboard~=2.19.0->tensorflow) (3.8.2)\n",
            "Requirement already satisfied: tensorboard-data-server<0.8.0,>=0.7.0 in /usr/local/lib/python3.11/dist-packages (from tensorboard~=2.19.0->tensorflow) (0.7.2)\n",
            "Requirement already satisfied: werkzeug>=1.0.1 in /usr/local/lib/python3.11/dist-packages (from tensorboard~=2.19.0->tensorflow) (3.1.3)\n",
            "Requirement already satisfied: MarkupSafe>=2.1.1 in /usr/local/lib/python3.11/dist-packages (from werkzeug>=1.0.1->tensorboard~=2.19.0->tensorflow) (3.0.2)\n",
            "Requirement already satisfied: markdown-it-py>=2.2.0 in /usr/local/lib/python3.11/dist-packages (from rich->keras>=3.5.0->tensorflow) (3.0.0)\n",
            "Requirement already satisfied: pygments<3.0.0,>=2.13.0 in /usr/local/lib/python3.11/dist-packages (from rich->keras>=3.5.0->tensorflow) (2.19.2)\n",
            "Requirement already satisfied: mdurl~=0.1 in /usr/local/lib/python3.11/dist-packages (from markdown-it-py>=2.2.0->rich->keras>=3.5.0->tensorflow) (0.1.2)\n",
            "Requirement already satisfied: keras in /usr/local/lib/python3.11/dist-packages (3.10.0)\n",
            "Requirement already satisfied: absl-py in /usr/local/lib/python3.11/dist-packages (from keras) (1.4.0)\n",
            "Requirement already satisfied: numpy in /usr/local/lib/python3.11/dist-packages (from keras) (2.0.2)\n",
            "Requirement already satisfied: rich in /usr/local/lib/python3.11/dist-packages (from keras) (13.9.4)\n",
            "Requirement already satisfied: namex in /usr/local/lib/python3.11/dist-packages (from keras) (0.1.0)\n",
            "Requirement already satisfied: h5py in /usr/local/lib/python3.11/dist-packages (from keras) (3.14.0)\n",
            "Requirement already satisfied: optree in /usr/local/lib/python3.11/dist-packages (from keras) (0.17.0)\n",
            "Requirement already satisfied: ml-dtypes in /usr/local/lib/python3.11/dist-packages (from keras) (0.5.3)\n",
            "Requirement already satisfied: packaging in /usr/local/lib/python3.11/dist-packages (from keras) (25.0)\n",
            "Requirement already satisfied: typing-extensions>=4.6.0 in /usr/local/lib/python3.11/dist-packages (from optree->keras) (4.14.1)\n",
            "Requirement already satisfied: markdown-it-py>=2.2.0 in /usr/local/lib/python3.11/dist-packages (from rich->keras) (3.0.0)\n",
            "Requirement already satisfied: pygments<3.0.0,>=2.13.0 in /usr/local/lib/python3.11/dist-packages (from rich->keras) (2.19.2)\n",
            "Requirement already satisfied: mdurl~=0.1 in /usr/local/lib/python3.11/dist-packages (from markdown-it-py>=2.2.0->rich->keras) (0.1.2)\n",
            "Requirement already satisfied: scikit-learn in /usr/local/lib/python3.11/dist-packages (1.6.1)\n",
            "Requirement already satisfied: numpy>=1.19.5 in /usr/local/lib/python3.11/dist-packages (from scikit-learn) (2.0.2)\n",
            "Requirement already satisfied: scipy>=1.6.0 in /usr/local/lib/python3.11/dist-packages (from scikit-learn) (1.16.1)\n",
            "Requirement already satisfied: joblib>=1.2.0 in /usr/local/lib/python3.11/dist-packages (from scikit-learn) (1.5.1)\n",
            "Requirement already satisfied: threadpoolctl>=3.1.0 in /usr/local/lib/python3.11/dist-packages (from scikit-learn) (3.6.0)\n"
          ]
        }
      ]
    },
    {
      "cell_type": "code",
      "source": [
        "import pandas as pd\n",
        "import numpy as np\n",
        "import plotly.express as px\n",
        "from google.colab import drive\n",
        "from dash import Dash, dcc, html, Input, Output, dash_table"
      ],
      "metadata": {
        "id": "3fW9eh8jrR4a"
      },
      "execution_count": null,
      "outputs": []
    },
    {
      "cell_type": "markdown",
      "source": [
        "##Dados"
      ],
      "metadata": {
        "id": "x6pNBdtxpdgV"
      }
    },
    {
      "cell_type": "markdown",
      "source": [
        "###Conversão\n"
      ],
      "metadata": {
        "id": "Wh1yW0--xyBo"
      }
    },
    {
      "cell_type": "code",
      "source": [
        "# Mountar Google Drive\n",
        "drive.mount('/content/drive')"
      ],
      "metadata": {
        "colab": {
          "base_uri": "https://localhost:8080/"
        },
        "id": "sMf0OzTD1Fok",
        "outputId": "b81b571e-546c-4fc0-bf99-a1609b288a87"
      },
      "execution_count": null,
      "outputs": [
        {
          "output_type": "stream",
          "name": "stdout",
          "text": [
            "Mounted at /content/drive\n"
          ]
        }
      ]
    },
    {
      "cell_type": "code",
      "source": [
        "# Arquivos de 2015 até 2025\n",
        "file_paths = [\n",
        "    \"/content/drive/MyDrive/TCC/TCC Final/dados/BancoVDE 2015.xlsx\",\n",
        "    \"/content/drive/MyDrive/TCC/TCC Final/dados/BancoVDE 2016.xlsx\",\n",
        "    \"/content/drive/MyDrive/TCC/TCC Final/dados/BancoVDE 2017.xlsx\",\n",
        "    \"/content/drive/MyDrive/TCC/TCC Final/dados/BancoVDE 2018.xlsx\",\n",
        "    \"/content/drive/MyDrive/TCC/TCC Final/dados/BancoVDE 2019.xlsx\",\n",
        "    \"/content/drive/MyDrive/TCC/TCC Final/dados/BancoVDE 2020.xlsx\",\n",
        "    \"/content/drive/MyDrive/TCC/TCC Final/dados/BancoVDE 2021.xlsx\",\n",
        "    \"/content/drive/MyDrive/TCC/TCC Final/dados/BancoVDE 2022.xlsx\",\n",
        "    \"/content/drive/MyDrive/TCC/TCC Final/dados/BancoVDE 2023.xlsx\",\n",
        "    \"/content/drive/MyDrive/TCC/TCC Final/dados/BancoVDE 2024.xlsx\",\n",
        "    # \"/content/drive/MyDrive/TCC/TCC Final/dados/BancoVDE 2025.xlsx\"\n",
        "]\n",
        "\n",
        "# Ler todos os arquivos e concatenar\n",
        "dataframes = [pd.read_excel(path) for path in file_paths]\n",
        "df_completo = pd.concat(dataframes, ignore_index=True)"
      ],
      "metadata": {
        "id": "ECIc9kFLrDan"
      },
      "execution_count": null,
      "outputs": []
    },
    {
      "cell_type": "code",
      "source": [
        "# Salvar o DataFrame completo como CSV (sem limite de linhas)\n",
        "df_completo.to_csv(\"/content/BancoVDE_2015_2024_Completo.csv\", index=False, encoding=\"utf-8-sig\")\n",
        "print(\"Todos os arquivos foram salvos.\")"
      ],
      "metadata": {
        "id": "E5TSB6ihrGo_",
        "colab": {
          "base_uri": "https://localhost:8080/"
        },
        "outputId": "b811d127-d29d-4cef-bb08-3adfe2a81f70"
      },
      "execution_count": null,
      "outputs": [
        {
          "output_type": "stream",
          "name": "stdout",
          "text": [
            "Todos os arquivos foram salvos.\n"
          ]
        }
      ]
    },
    {
      "cell_type": "code",
      "source": [
        "# Carregar o arquivo CSV\n",
        "df_completo = pd.read_csv('/content/BancoVDE_2015_2024_Completo.csv')"
      ],
      "metadata": {
        "id": "sztQtZkLeTmg",
        "colab": {
          "base_uri": "https://localhost:8080/"
        },
        "outputId": "4d9f3dbf-da87-4068-9cd5-f9bbb74d3551"
      },
      "execution_count": null,
      "outputs": [
        {
          "output_type": "stream",
          "name": "stderr",
          "text": [
            "/tmp/ipython-input-3679536605.py:2: DtypeWarning: Columns (4,5,6) have mixed types. Specify dtype option on import or set low_memory=False.\n",
            "  df_completo = pd.read_csv('/content/BancoVDE_2015_2024_Completo.csv')\n"
          ]
        }
      ]
    },
    {
      "cell_type": "code",
      "source": [
        "print(df_completo.head(100))"
      ],
      "metadata": {
        "colab": {
          "base_uri": "https://localhost:8080/"
        },
        "id": "yXpg92O9uvh4",
        "outputId": "97fa8608-2863-43fd-e681-6e5f701b37e5"
      },
      "execution_count": null,
      "outputs": [
        {
          "output_type": "stream",
          "name": "stdout",
          "text": [
            "    uf      municipio                evento data_referencia agente arma  \\\n",
            "0   AC  NÃO INFORMADO  Apreensão de Cocaína      2015-01-01    NaN  NaN   \n",
            "1   AL  NÃO INFORMADO  Apreensão de Cocaína      2015-01-01    NaN  NaN   \n",
            "2   AM  NÃO INFORMADO  Apreensão de Cocaína      2015-01-01    NaN  NaN   \n",
            "3   AP  NÃO INFORMADO  Apreensão de Cocaína      2015-01-01    NaN  NaN   \n",
            "4   BA  NÃO INFORMADO  Apreensão de Cocaína      2015-01-01    NaN  NaN   \n",
            "..  ..            ...                   ...             ...    ...  ...   \n",
            "95  RJ  NÃO INFORMADO  Apreensão de Cocaína      2015-04-01    NaN  NaN   \n",
            "96  RN  NÃO INFORMADO  Apreensão de Cocaína      2015-04-01    NaN  NaN   \n",
            "97  RO  NÃO INFORMADO  Apreensão de Cocaína      2015-04-01    NaN  NaN   \n",
            "98  RR  NÃO INFORMADO  Apreensão de Cocaína      2015-04-01    NaN  NaN   \n",
            "99  RS  NÃO INFORMADO  Apreensão de Cocaína      2015-04-01    NaN  NaN   \n",
            "\n",
            "   faixa_etaria  feminino  masculino  nao_informado  total_vitima  total  \\\n",
            "0           NaN       NaN        NaN            NaN           NaN    NaN   \n",
            "1           NaN       NaN        NaN            NaN           NaN    NaN   \n",
            "2           NaN       NaN        NaN            NaN           NaN    NaN   \n",
            "3           NaN       NaN        NaN            NaN           NaN    NaN   \n",
            "4           NaN       NaN        NaN            NaN           NaN    NaN   \n",
            "..          ...       ...        ...            ...           ...    ...   \n",
            "95          NaN       NaN        NaN            NaN           NaN    NaN   \n",
            "96          NaN       NaN        NaN            NaN           NaN    NaN   \n",
            "97          NaN       NaN        NaN            NaN           NaN    NaN   \n",
            "98          NaN       NaN        NaN            NaN           NaN    NaN   \n",
            "99          NaN       NaN        NaN            NaN           NaN    NaN   \n",
            "\n",
            "    total_peso abrangencia    formulario  \n",
            "0          NaN    Estadual  Formulário 5  \n",
            "1       19.890    Estadual  Formulário 5  \n",
            "2       40.660    Estadual  Formulário 5  \n",
            "3        0.127    Estadual  Formulário 5  \n",
            "4       16.100    Estadual  Formulário 5  \n",
            "..         ...         ...           ...  \n",
            "95         NaN    Estadual  Formulário 5  \n",
            "96         NaN    Estadual  Formulário 5  \n",
            "97         NaN    Estadual  Formulário 5  \n",
            "98       1.355    Estadual  Formulário 5  \n",
            "99      77.954    Estadual  Formulário 5  \n",
            "\n",
            "[100 rows x 15 columns]\n"
          ]
        }
      ]
    },
    {
      "cell_type": "markdown",
      "source": [
        "###Tratamento"
      ],
      "metadata": {
        "id": "cnHmHR_LSt_D"
      }
    },
    {
      "cell_type": "markdown",
      "source": [
        "Copia - df_completo"
      ],
      "metadata": {
        "id": "AN9LmA3M02cl"
      }
    },
    {
      "cell_type": "code",
      "source": [
        "#Criar uma cópia do DataFrame original\n",
        "df_copia = df_completo.copy()"
      ],
      "metadata": {
        "id": "2W_V-iIshA1U"
      },
      "execution_count": null,
      "outputs": []
    },
    {
      "cell_type": "code",
      "source": [
        "print(df_copia.head(1000))"
      ],
      "metadata": {
        "colab": {
          "base_uri": "https://localhost:8080/"
        },
        "id": "RXJyZcM8s3V_",
        "outputId": "a07e33ad-f5b0-4fb9-bea1-196a87a4f267",
        "collapsed": true
      },
      "execution_count": null,
      "outputs": [
        {
          "output_type": "stream",
          "name": "stdout",
          "text": [
            "     uf      municipio                   evento data_referencia agente  \\\n",
            "0    AC  NÃO INFORMADO     Apreensão de Cocaína      2015-01-01    NaN   \n",
            "1    AL  NÃO INFORMADO     Apreensão de Cocaína      2015-01-01    NaN   \n",
            "2    AM  NÃO INFORMADO     Apreensão de Cocaína      2015-01-01    NaN   \n",
            "3    AP  NÃO INFORMADO     Apreensão de Cocaína      2015-01-01    NaN   \n",
            "4    BA  NÃO INFORMADO     Apreensão de Cocaína      2015-01-01    NaN   \n",
            "..   ..            ...                      ...             ...    ...   \n",
            "995  PI  NÃO INFORMADO  Arma de Fogo Apreendida      2015-02-01    NaN   \n",
            "996  PI  NÃO INFORMADO  Arma de Fogo Apreendida      2015-02-01    NaN   \n",
            "997  PI  NÃO INFORMADO  Arma de Fogo Apreendida      2015-02-01    NaN   \n",
            "998  PI  NÃO INFORMADO  Arma de Fogo Apreendida      2015-02-01    NaN   \n",
            "999  PI  NÃO INFORMADO  Arma de Fogo Apreendida      2015-02-01    NaN   \n",
            "\n",
            "             arma faixa_etaria  feminino  masculino  nao_informado  \\\n",
            "0             NaN          NaN       NaN        NaN            NaN   \n",
            "1             NaN          NaN       NaN        NaN            NaN   \n",
            "2             NaN          NaN       NaN        NaN            NaN   \n",
            "3             NaN          NaN       NaN        NaN            NaN   \n",
            "4             NaN          NaN       NaN        NaN            NaN   \n",
            "..            ...          ...       ...        ...            ...   \n",
            "995         Fuzil          NaN       NaN        NaN            NaN   \n",
            "996  Metralhadora          NaN       NaN        NaN            NaN   \n",
            "997         Outra          NaN       NaN        NaN            NaN   \n",
            "998       Pistola          NaN       NaN        NaN            NaN   \n",
            "999      Revolver          NaN       NaN        NaN            NaN   \n",
            "\n",
            "     total_vitima  total  total_peso abrangencia    formulario  \n",
            "0             NaN    NaN         NaN    Estadual  Formulário 5  \n",
            "1             NaN    NaN      19.890    Estadual  Formulário 5  \n",
            "2             NaN    NaN      40.660    Estadual  Formulário 5  \n",
            "3             NaN    NaN       0.127    Estadual  Formulário 5  \n",
            "4             NaN    NaN      16.100    Estadual  Formulário 5  \n",
            "..            ...    ...         ...         ...           ...  \n",
            "995           NaN    0.0         NaN    Estadual  Formulário 6  \n",
            "996           NaN    0.0         NaN    Estadual  Formulário 6  \n",
            "997           NaN    6.0         NaN    Estadual  Formulário 6  \n",
            "998           NaN    0.0         NaN    Estadual  Formulário 6  \n",
            "999           NaN    1.0         NaN    Estadual  Formulário 6  \n",
            "\n",
            "[1000 rows x 15 columns]\n"
          ]
        }
      ]
    },
    {
      "cell_type": "code",
      "source": [
        "# Adiciona colunas de Ano e Mês\n",
        "df_copia['data_referencia'] = pd.to_datetime(df_copia['data_referencia'])\n",
        "df_copia['Ano'] = df_copia['data_referencia'].dt.year\n",
        "df_copia['Mes'] = df_copia['data_referencia'].dt.month_name()\n",
        "\n",
        "# Traduz nomes dos meses\n",
        "meses_pt = {\n",
        "    'January': 'Janeiro', 'February': 'Fevereiro', 'March': 'Março', 'April': 'Abril',\n",
        "    'May': 'Maio', 'June': 'Junho', 'July': 'Julho', 'August': 'Agosto',\n",
        "    'September': 'Setembro', 'October': 'Outubro', 'November': 'Novembro', 'December': 'Dezembro'\n",
        "}\n",
        "df_copia['Mes'] = df_copia['Mes'].map(meses_pt)\n"
      ],
      "metadata": {
        "id": "qPxirpCx775g"
      },
      "execution_count": null,
      "outputs": []
    },
    {
      "cell_type": "code",
      "source": [
        "print(df_copia.head(1000))"
      ],
      "metadata": {
        "colab": {
          "base_uri": "https://localhost:8080/"
        },
        "id": "GVot1iJm8Uag",
        "outputId": "792e09aa-7d49-43f1-e895-2bf01cc95785"
      },
      "execution_count": null,
      "outputs": [
        {
          "output_type": "stream",
          "name": "stdout",
          "text": [
            "     uf      municipio                   evento data_referencia agente  \\\n",
            "0    AC  NÃO INFORMADO     Apreensão de Cocaína      2015-01-01    NaN   \n",
            "1    AL  NÃO INFORMADO     Apreensão de Cocaína      2015-01-01    NaN   \n",
            "2    AM  NÃO INFORMADO     Apreensão de Cocaína      2015-01-01    NaN   \n",
            "3    AP  NÃO INFORMADO     Apreensão de Cocaína      2015-01-01    NaN   \n",
            "4    BA  NÃO INFORMADO     Apreensão de Cocaína      2015-01-01    NaN   \n",
            "..   ..            ...                      ...             ...    ...   \n",
            "995  PI  NÃO INFORMADO  Arma de Fogo Apreendida      2015-02-01    NaN   \n",
            "996  PI  NÃO INFORMADO  Arma de Fogo Apreendida      2015-02-01    NaN   \n",
            "997  PI  NÃO INFORMADO  Arma de Fogo Apreendida      2015-02-01    NaN   \n",
            "998  PI  NÃO INFORMADO  Arma de Fogo Apreendida      2015-02-01    NaN   \n",
            "999  PI  NÃO INFORMADO  Arma de Fogo Apreendida      2015-02-01    NaN   \n",
            "\n",
            "             arma faixa_etaria  feminino  masculino  nao_informado  \\\n",
            "0             NaN          NaN       NaN        NaN            NaN   \n",
            "1             NaN          NaN       NaN        NaN            NaN   \n",
            "2             NaN          NaN       NaN        NaN            NaN   \n",
            "3             NaN          NaN       NaN        NaN            NaN   \n",
            "4             NaN          NaN       NaN        NaN            NaN   \n",
            "..            ...          ...       ...        ...            ...   \n",
            "995         Fuzil          NaN       NaN        NaN            NaN   \n",
            "996  Metralhadora          NaN       NaN        NaN            NaN   \n",
            "997         Outra          NaN       NaN        NaN            NaN   \n",
            "998       Pistola          NaN       NaN        NaN            NaN   \n",
            "999      Revolver          NaN       NaN        NaN            NaN   \n",
            "\n",
            "     total_vitima  total  total_peso abrangencia    formulario   Ano  \\\n",
            "0             NaN    NaN         NaN    Estadual  Formulário 5  2015   \n",
            "1             NaN    NaN      19.890    Estadual  Formulário 5  2015   \n",
            "2             NaN    NaN      40.660    Estadual  Formulário 5  2015   \n",
            "3             NaN    NaN       0.127    Estadual  Formulário 5  2015   \n",
            "4             NaN    NaN      16.100    Estadual  Formulário 5  2015   \n",
            "..            ...    ...         ...         ...           ...   ...   \n",
            "995           NaN    0.0         NaN    Estadual  Formulário 6  2015   \n",
            "996           NaN    0.0         NaN    Estadual  Formulário 6  2015   \n",
            "997           NaN    6.0         NaN    Estadual  Formulário 6  2015   \n",
            "998           NaN    0.0         NaN    Estadual  Formulário 6  2015   \n",
            "999           NaN    1.0         NaN    Estadual  Formulário 6  2015   \n",
            "\n",
            "           Mes  \n",
            "0      Janeiro  \n",
            "1      Janeiro  \n",
            "2      Janeiro  \n",
            "3      Janeiro  \n",
            "4      Janeiro  \n",
            "..         ...  \n",
            "995  Fevereiro  \n",
            "996  Fevereiro  \n",
            "997  Fevereiro  \n",
            "998  Fevereiro  \n",
            "999  Fevereiro  \n",
            "\n",
            "[1000 rows x 17 columns]\n"
          ]
        }
      ]
    },
    {
      "cell_type": "code",
      "source": [
        "# Contar os valores únicos na coluna 'arma'\n",
        "contagem = df_copia['arma'].value_counts(normalize=True, dropna=False)\n",
        "\n",
        "# Exibir os nomes como lista\n",
        "lista_armas = contagem.index.tolist()\n",
        "print(\"Armas encontradas:\", lista_armas)\n",
        "\n",
        "# Exibir a proporção de cada uma (em porcentagem)\n",
        "print(\"\\nProporção de cada arma:\")\n",
        "print((contagem * 100).round(2).astype(str) + '%')"
      ],
      "metadata": {
        "colab": {
          "base_uri": "https://localhost:8080/"
        },
        "id": "5gAhSpIJ3FWd",
        "outputId": "36eced7c-1597-4fcc-afe5-50a68614b951"
      },
      "execution_count": null,
      "outputs": [
        {
          "output_type": "stream",
          "name": "stdout",
          "text": [
            "Armas encontradas: [nan, 'Carabina', 'Espingarda', 'Fuzil', 'Metralhadora', 'Outra', 'Pistola', 'Revolver', 'Rifle', 'Submetralhadora']\n",
            "\n",
            "Proporção de cada arma:\n",
            "arma\n",
            "NaN                99.58%\n",
            "Carabina            0.05%\n",
            "Espingarda          0.05%\n",
            "Fuzil               0.05%\n",
            "Metralhadora        0.05%\n",
            "Outra               0.05%\n",
            "Pistola             0.05%\n",
            "Revolver            0.05%\n",
            "Rifle               0.05%\n",
            "Submetralhadora     0.05%\n",
            "Name: proportion, dtype: object\n"
          ]
        }
      ]
    },
    {
      "cell_type": "code",
      "source": [
        "# Substitui espaços vazios por NaN (caso existam)\n",
        "df_copia['arma'] = df_copia['arma'].replace(r'^\\s*$', np.nan, regex=True)\n",
        "\n",
        "# Calcula a distribuição (ignorando NaN)\n",
        "proporcao_armas = df_copia['arma'].value_counts(normalize=True, dropna=True)\n",
        "\n",
        "# Remove 'Metralhadora' e 'Submetralhadora' da distribuição usada para preencher os NaN\n",
        "proporcao_filtrada = proporcao_armas.drop(['Metralhadora', 'Submetralhadora'], errors='ignore')\n",
        "\n",
        "# Recalcula as proporções para somarem 100% (já que removemos categorias)\n",
        "proporcao_normalizada = proporcao_filtrada / proporcao_filtrada.sum()\n",
        "\n",
        "# Verifica quantos valores faltantes há\n",
        "arma_faltantes = df_copia['arma'].isna()\n",
        "num_faltantes = arma_faltantes.sum()\n",
        "\n",
        "# Sorteia armas proporcionalmente (sem incluir metralhadoras)\n",
        "arma_sorteadas = np.random.choice(\n",
        "    proporcao_normalizada.index,\n",
        "    size=num_faltantes,\n",
        "    replace=True,\n",
        "    p=proporcao_normalizada.values\n",
        ")\n",
        "\n",
        "# Preenche os valores NaN com os valores sorteados\n",
        "df_copia.loc[arma_faltantes, 'arma'] = arma_sorteadas\n"
      ],
      "metadata": {
        "id": "KC4IcA0m4HYk"
      },
      "execution_count": null,
      "outputs": []
    },
    {
      "cell_type": "code",
      "source": [
        "print(df_copia['arma'].value_counts(normalize=True) * 100)"
      ],
      "metadata": {
        "colab": {
          "base_uri": "https://localhost:8080/"
        },
        "id": "ih1NwttN4KCN",
        "outputId": "5d7e69e3-ccd5-4ede-ddcf-2bac69b00840"
      },
      "execution_count": null,
      "outputs": [
        {
          "output_type": "stream",
          "name": "stdout",
          "text": [
            "arma\n",
            "Fuzil              14.287373\n",
            "Espingarda         14.281400\n",
            "Outra              14.279168\n",
            "Pistola            14.267788\n",
            "Rifle              14.266628\n",
            "Revolver           14.266222\n",
            "Carabina           14.257828\n",
            "Metralhadora        0.046797\n",
            "Submetralhadora     0.046797\n",
            "Name: proportion, dtype: float64\n"
          ]
        }
      ]
    },
    {
      "cell_type": "code",
      "source": [
        "coluna = 'faixa_etaria'\n",
        "\n",
        "# Verifica se há valores não nulos para calcular proporções\n",
        "valores_validos = df_copia[coluna].dropna()\n",
        "\n",
        "if not valores_validos.empty:\n",
        "    proporcoes = valores_validos.value_counts(normalize=True)\n",
        "    num_nans = df_copia[coluna].isna().sum()\n",
        "\n",
        "    # Gera os novos valores com base nas proporções\n",
        "    valores_preenchimento = np.random.choice(\n",
        "        proporcoes.index,\n",
        "        size=num_nans,\n",
        "        p=proporcoes.values\n",
        "    )\n",
        "\n",
        "    # Preenche os NaNs\n",
        "    df_copia.loc[df_copia[coluna].isna(), coluna] = valores_preenchimento\n",
        "\n",
        "    # Verifica resultado\n",
        "    print(\"Distribuição após preenchimento:\")\n",
        "    print(df_copia[coluna].value_counts(normalize=True))\n",
        "else:\n",
        "    print(f\"A coluna '{coluna}' não tem valores suficientes para calcular proporções.\")\n"
      ],
      "metadata": {
        "colab": {
          "base_uri": "https://localhost:8080/"
        },
        "id": "wDdrqHDI07Kf",
        "outputId": "cfab2392-4f6e-4050-d432-7b4af8602390"
      },
      "execution_count": null,
      "outputs": [
        {
          "output_type": "stream",
          "name": "stdout",
          "text": [
            "Distribuição após preenchimento:\n",
            "faixa_etaria\n",
            "Idade Não Informada    0.333513\n",
            "Maior de Idade         0.333448\n",
            "Menor de Idade         0.333039\n",
            "Name: proportion, dtype: float64\n"
          ]
        }
      ]
    },
    {
      "cell_type": "code",
      "source": [
        "#Filtrar apenas eventos abaixo\n",
        "df_copia = df_copia[df_copia['evento'].isin(['Homicídio doloso', 'Feminicídio', 'Lesão corporal seguida de morte', 'Morte de Agente do Estado', 'Morte no trânsito ou em decorrência dele', 'Morte por intervenção de Agente do Estado', 'Mortes a esclarecer (sem indício de crime)', 'Roubo seguido de morte (latrocínio)', 'Suicídio', 'Suicídio de Agente do Estado'])]"
      ],
      "metadata": {
        "id": "gtYH2GwbAhMU"
      },
      "execution_count": null,
      "outputs": []
    },
    {
      "cell_type": "code",
      "source": [
        "#Excluir as colunas desnecessárias\n",
        "colunas_excluir = ['agente', 'total', 'total_peso', 'abrangencia', 'formulario']\n",
        "df_copia = df_copia.drop(columns=colunas_excluir, errors='ignore')"
      ],
      "metadata": {
        "id": "_lo9H_Uq31jR"
      },
      "execution_count": null,
      "outputs": []
    },
    {
      "cell_type": "code",
      "source": [
        "# 1. Valores únicos Municípios\n",
        "valores_unicos = df_completo['municipio'].unique()\n",
        "print(\"🔍 Valores únicos na coluna 'municipio':\")\n",
        "print(valores_unicos)\n",
        "\n",
        "# 2. Contagem dos valores\n",
        "print(\"\\n📊 Contagem dos valores na coluna 'municipio':\")\n",
        "print(df_completo['municipio'].value_counts())\n",
        "\n",
        "# 3. Valores diferentes de \"NÃO INFORMADO\"\n",
        "valores_diferentes = [v for v in valores_unicos if v != 'NÃO INFORMADO']\n",
        "print(\"\\n✅ Valores diferentes de 'NÃO INFORMADO':\")\n",
        "print(valores_diferentes)\n"
      ],
      "metadata": {
        "colab": {
          "base_uri": "https://localhost:8080/"
        },
        "id": "yABfrz4LvaXY",
        "outputId": "8c3d5cea-7d3f-4390-8c3c-db566ee1ac98"
      },
      "execution_count": null,
      "outputs": [
        {
          "output_type": "stream",
          "name": "stdout",
          "text": [
            "🔍 Valores únicos na coluna 'municipio':\n",
            "['NÃO INFORMADO' 'ACRELÂNDIA' 'ASSIS BRASIL' ... 'SOL NASCENTE/PÔR DO SOL'\n",
            " 'SUDOESTE/OCTOGONAL' 'VICENTE PIRES']\n",
            "\n",
            "📊 Contagem dos valores na coluna 'municipio':\n",
            "municipio\n",
            "NÃO INFORMADO            187315\n",
            "BRASÍLIA                  15840\n",
            "BOM JESUS                  6000\n",
            "SÃO DOMINGOS               6000\n",
            "SANTA TEREZINHA            4800\n",
            "                          ...  \n",
            "RECANTO DAS EMAS            720\n",
            "BRASÍLIA/PLANO PILOTO       720\n",
            "BRAZLÂNDIA                  720\n",
            "ÁGUAS CLARAS                720\n",
            "VICENTE PIRES               720\n",
            "Name: count, Length: 5323, dtype: int64\n",
            "\n",
            "✅ Valores diferentes de 'NÃO INFORMADO':\n",
            "['ACRELÂNDIA', 'ASSIS BRASIL', 'BRASILÉIA', 'BUJARI', 'CAPIXABA', 'CRUZEIRO DO SUL', 'EPITACIOLÂNDIA', 'FEIJÓ', 'JORDÃO', 'MÂNCIO LIMA', 'MANOEL URBANO', 'MARECHAL THAUMATURGO', 'PLÁCIDO DE CASTRO', 'PORTO ACRE', 'PORTO WALTER', 'RIO BRANCO', 'RODRIGUES ALVES', 'SANTA ROSA DO PURUS', 'SENA MADUREIRA', 'SENADOR GUIOMARD', 'TARAUACÁ', 'XAPURI', 'ÁGUA BRANCA', 'ANADIA', 'ARAPIRACA', 'ATALAIA', 'BARRA DE SANTO ANTÔNIO', 'BARRA DE SÃO MIGUEL', 'BATALHA', 'BELÉM', 'BELO MONTE', 'BOCA DA MATA', 'BRANQUINHA', 'CACIMBINHAS', 'CAJUEIRO', 'CAMPESTRE', 'CAMPO ALEGRE', 'CAMPO GRANDE', 'CANAPI', 'CAPELA', 'CARNEIROS', 'CHÃ PRETA', 'COITÉ DO NÓIA', 'COLÔNIA LEOPOLDINA', 'COQUEIRO SECO', 'CORURIPE', 'CRAÍBAS', 'DELMIRO GOUVEIA', 'DOIS RIACHOS', 'ESTRELA DE ALAGOAS', 'FEIRA GRANDE', 'FELIZ DESERTO', 'FLEXEIRAS', 'GIRAU DO PONCIANO', 'IBATEGUARA', 'IGACI', 'IGREJA NOVA', 'INHAPI', 'JACARÉ DOS HOMENS', 'JACUÍPE', 'JAPARATINGA', 'JARAMATAIA', 'JEQUIÁ DA PRAIA', 'JOAQUIM GOMES', 'JUNDIÁ', 'JUNQUEIRO', 'LAGOA DA CANOA', 'LIMOEIRO DE ANADIA', 'MACEIÓ', 'MAJOR ISIDORO', 'MAR VERMELHO', 'MARAGOGI', 'MARAVILHA', 'MARECHAL DEODORO', 'MARIBONDO', 'MATA GRANDE', 'MATRIZ DE CAMARAGIBE', 'MESSIAS', 'MINADOR DO NEGRÃO', 'MONTEIRÓPOLIS', 'MURICI', 'NOVO LINO', \"OLHO D'ÁGUA DAS FLORES\", \"OLHO D'ÁGUA DO CASADO\", \"OLHO D'ÁGUA GRANDE\", 'OLIVENÇA', 'OURO BRANCO', 'PALESTINA', 'PALMEIRA DOS ÍNDIOS', 'PÃO DE AÇÚCAR', 'PARICONHA', 'PARIPUEIRA', 'PASSO DE CAMARAGIBE', 'PAULO JACINTO', 'PENEDO', 'PIAÇABUÇU', 'PILAR', 'PINDOBA', 'PIRANHAS', 'POÇO DAS TRINCHEIRAS', 'PORTO CALVO', 'PORTO DE PEDRAS', 'PORTO REAL DO COLÉGIO', 'QUEBRANGULO', 'RIO LARGO', 'ROTEIRO', 'SANTA LUZIA DO NORTE', 'SANTANA DO IPANEMA', 'SANTANA DO MUNDAÚ', 'SÃO BRÁS', 'SÃO JOSÉ DA LAJE', 'SÃO JOSÉ DA TAPERA', 'SÃO LUÍS DO QUITUNDE', 'SÃO MIGUEL DOS CAMPOS', 'SÃO MIGUEL DOS MILAGRES', 'SÃO SEBASTIÃO', 'SATUBA', 'SENADOR RUI PALMEIRA', \"TANQUE D'ARCA\", 'TAQUARANA', 'TEOTÔNIO VILELA', 'TRAIPU', 'UNIÃO DOS PALMARES', 'VIÇOSA', 'ALVARÃES', 'AMATURÁ', 'ANAMÃ', 'ANORI', 'APUÍ', 'ATALAIA DO NORTE', 'AUTAZES', 'BARCELOS', 'BARREIRINHA', 'BENJAMIN CONSTANT', 'BERURI', 'BOA VISTA DO RAMOS', 'BOCA DO ACRE', 'BORBA', 'CAAPIRANGA', 'CANUTAMA', 'CARAUARI', 'CAREIRO', 'CAREIRO DA VÁRZEA', 'COARI', 'CODAJÁS', 'EIRUNEPÉ', 'ENVIRA', 'FONTE BOA', 'GUAJARÁ', 'HUMAITÁ', 'IPIXUNA', 'IRANDUBA', 'ITACOATIARA', 'ITAMARATI', 'ITAPIRANGA', 'JAPURÁ', 'JURUÁ', 'JUTAÍ', 'LÁBREA', 'MANACAPURU', 'MANAQUIRI', 'MANAUS', 'MANICORÉ', 'MARAÃ', 'MAUÉS', 'NHAMUNDÁ', 'NOVA OLINDA DO NORTE', 'NOVO AIRÃO', 'NOVO ARIPUANÃ', 'PARINTINS', 'PAUINI', 'PRESIDENTE FIGUEIREDO', 'RIO PRETO DA EVA', 'SANTA ISABEL DO RIO NEGRO', 'SANTO ANTÔNIO DO IÇÁ', 'SÃO GABRIEL DA CACHOEIRA', 'SÃO PAULO DE OLIVENÇA', 'SÃO SEBASTIÃO DO UATUMÃ', 'SILVES', 'TABATINGA', 'TAPAUÁ', 'TEFÉ', 'TONANTINS', 'UARINI', 'URUCARÁ', 'URUCURITUBA', 'AMAPÁ', 'CALÇOENE', 'CUTIAS', 'FERREIRA GOMES', 'ITAUBAL', 'LARANJAL DO JARI', 'MACAPÁ', 'MAZAGÃO', 'OIAPOQUE', 'PEDRA BRANCA DO AMAPARI', 'PORTO GRANDE', 'PRACUÚBA', 'SANTANA', 'SERRA DO NAVIO', 'TARTARUGALZINHO', 'VITÓRIA DO JARI', 'ABAÍRA', 'ABARÉ', 'ACAJUTIBA', 'ADUSTINA', 'ÁGUA FRIA', 'AIQUARA', 'ALAGOINHAS', 'ALCOBAÇA', 'ALMADINA', 'AMARGOSA', 'AMÉLIA RODRIGUES', 'AMÉRICA DOURADA', 'ANAGÉ', 'ANDARAÍ', 'ANDORINHA', 'ANGICAL', 'ANGUERA', 'ANTAS', 'ANTÔNIO CARDOSO', 'ANTÔNIO GONÇALVES', 'APORÁ', 'APUAREMA', 'ARAÇÁS', 'ARACATU', 'ARACI', 'ARAMARI', 'ARATACA', 'ARATUÍPE', 'AURELINO LEAL', 'BAIANÓPOLIS', 'BAIXA GRANDE', 'BANZAÊ', 'BARRA', 'BARRA DA ESTIVA', 'BARRA DO CHOÇA', 'BARRA DO MENDES', 'BARRA DO ROCHA', 'BARREIRAS', 'BARRO ALTO', 'BARRO PRETO', 'BARROCAS', 'BELMONTE', 'BELO CAMPO', 'BIRITINGA', 'BOA NOVA', 'BOA VISTA DO TUPIM', 'BOM JESUS DA LAPA', 'BOM JESUS DA SERRA', 'BONINAL', 'BONITO', 'BOQUIRA', 'BOTUPORÃ', 'BREJÕES', 'BREJOLÂNDIA', 'BROTAS DE MACAÚBAS', 'BRUMADO', 'BUERAREMA', 'BURITIRAMA', 'CAATIBA', 'CABACEIRAS DO PARAGUAÇU', 'CACHOEIRA', 'CACULÉ', 'CAÉM', 'CAETANOS', 'CAETITÉ', 'CAFARNAUM', 'CAIRU', 'CALDEIRÃO GRANDE', 'CAMACAN', 'CAMAÇARI', 'CAMAMU', 'CAMPO ALEGRE DE LOURDES', 'CAMPO FORMOSO', 'CANÁPOLIS', 'CANARANA', 'CANAVIEIRAS', 'CANDEAL', 'CANDEIAS', 'CANDIBA', 'CÂNDIDO SALES', 'CANSANÇÃO', 'CANUDOS', 'CAPELA DO ALTO ALEGRE', 'CAPIM GROSSO', 'CARAÍBAS', 'CARAVELAS', 'CARDEAL DA SILVA', 'CARINHANHA', 'CASA NOVA', 'CASTRO ALVES', 'CATOLÂNDIA', 'CATU', 'CATURAMA', 'CENTRAL', 'CHORROCHÓ', 'CÍCERO DANTAS', 'CIPÓ', 'COARACI', 'COCOS', 'CONCEIÇÃO DA FEIRA', 'CONCEIÇÃO DO ALMEIDA', 'CONCEIÇÃO DO COITÉ', 'CONCEIÇÃO DO JACUÍPE', 'CONDE', 'CONDEÚBA', 'CONTENDAS DO SINCORÁ', 'CORAÇÃO DE MARIA', 'CORDEIROS', 'CORIBE', 'CORONEL JOÃO SÁ', 'CORRENTINA', 'COTEGIPE', 'CRAVOLÂNDIA', 'CRISÓPOLIS', 'CRISTÓPOLIS', 'CRUZ DAS ALMAS', 'CURAÇÁ', 'DÁRIO MEIRA', \"DIAS D'ÁVILA\", 'DOM BASÍLIO', 'DOM MACEDO COSTA', 'ELÍSIO MEDRADO', 'ENCRUZILHADA', 'ENTRE RIOS', 'ÉRICO CARDOSO', 'ESPLANADA', 'EUCLIDES DA CUNHA', 'EUNÁPOLIS', 'FÁTIMA', 'FEIRA DA MATA', 'FEIRA DE SANTANA', 'FILADÉLFIA', 'FIRMINO ALVES', 'FLORESTA AZUL', 'FORMOSA DO RIO PRETO', 'GANDU', 'GAVIÃO', 'GENTIO DO OURO', 'GLÓRIA', 'GONGOGI', 'GOVERNADOR MANGABEIRA', 'GUAJERU', 'GUANAMBI', 'GUARATINGA', 'HELIÓPOLIS', 'IAÇU', 'IBIASSUCÊ', 'IBICARAÍ', 'IBICOARA', 'IBICUÍ', 'IBIPEBA', 'IBIPITANGA', 'IBIQUERA', 'IBIRAPITANGA', 'IBIRAPUÃ', 'IBIRATAIA', 'IBITIARA', 'IBITITÁ', 'IBOTIRAMA', 'ICHU', 'IGAPORÃ', 'IGRAPIÚNA', 'IGUAÍ', 'ILHÉUS', 'INHAMBUPE', 'IPECAETÁ', 'IPIAÚ', 'IPIRÁ', 'IPUPIARA', 'IRAJUBA', 'IRAMAIA', 'IRAQUARA', 'IRARÁ', 'IRECÊ', 'ITABELA', 'ITABERABA', 'ITABUNA', 'ITACARÉ', 'ITAETÉ', 'ITAGI', 'ITAGIBÁ', 'ITAGIMIRIM', 'ITAGUAÇU DA BAHIA', 'ITAJU DO COLÔNIA', 'ITAJUÍPE', 'ITAMARAJU', 'ITAMARI', 'ITAMBÉ', 'ITANAGRA', 'ITANHÉM', 'ITAPARICA', 'ITAPÉ', 'ITAPEBI', 'ITAPETINGA', 'ITAPICURU', 'ITAPITANGA', 'ITAQUARA', 'ITARANTIM', 'ITATIM', 'ITIRUÇU', 'ITIÚBA', 'ITORORÓ', 'ITUAÇU', 'ITUBERÁ', 'IUIU', 'JABORANDI', 'JACARACI', 'JACOBINA', 'JAGUAQUARA', 'JAGUARARI', 'JAGUARIPE', 'JANDAÍRA', 'JEQUIÉ', 'JEREMOABO', 'JIQUIRIÇÁ', 'JITAÚNA', 'JOÃO DOURADO', 'JUAZEIRO', 'JUCURUÇU', 'JUSSARA', 'JUSSARI', 'JUSSIAPE', 'LAFAIETE COUTINHO', 'LAGOA REAL', 'LAJE', 'LAJEDÃO', 'LAJEDINHO', 'LAJEDO DO TABOCAL', 'LAMARÃO', 'LAPÃO', 'LAURO DE FREITAS', 'LENÇÓIS', 'LICÍNIO DE ALMEIDA', 'LIVRAMENTO DE NOSSA SENHORA', 'LUÍS EDUARDO MAGALHÃES', 'MACAJUBA', 'MACARANI', 'MACAÚBAS', 'MACURURÉ', 'MADRE DE DEUS', 'MAETINGA', 'MAIQUINIQUE', 'MAIRI', 'MALHADA', 'MALHADA DE PEDRAS', 'MANOEL VITORINO', 'MANSIDÃO', 'MARACÁS', 'MARAGOGIPE', 'MARAÚ', 'MARCIONÍLIO SOUZA', 'MASCOTE', 'MATA DE SÃO JOÃO', 'MATINA', 'MEDEIROS NETO', 'MIGUEL CALMON', 'MILAGRES', 'MIRANGABA', 'MIRANTE', 'MONTE SANTO', 'MORPARÁ', 'MORRO DO CHAPÉU', 'MORTUGABA', 'MUCUGÊ', 'MUCURI', 'MULUNGU DO MORRO', 'MUNDO NOVO', 'MUNIZ FERREIRA', 'MUQUÉM DO SÃO FRANCISCO', 'MURITIBA', 'MUTUÍPE', 'NAZARÉ', 'NILO PEÇANHA', 'NORDESTINA', 'NOVA CANAÃ', 'NOVA FÁTIMA', 'NOVA IBIÁ', 'NOVA ITARANA', 'NOVA REDENÇÃO', 'NOVA SOURE', 'NOVA VIÇOSA', 'NOVO HORIZONTE', 'NOVO TRIUNFO', 'OLINDINA', 'OLIVEIRA DOS BREJINHOS', 'OURIÇANGAS', 'OUROLÂNDIA', 'PALMAS DE MONTE ALTO', 'PALMEIRAS', 'PARAMIRIM', 'PARATINGA', 'PARIPIRANGA', 'PAU BRASIL', 'PAULO AFONSO', 'PÉ DE SERRA', 'PEDRÃO', 'PEDRO ALEXANDRE', 'PIATÃ', 'PILÃO ARCADO', 'PINDAÍ', 'PINDOBAÇU', 'PINTADAS', 'PIRAÍ DO NORTE', 'PIRIPÁ', 'PIRITIBA', 'PLANALTINO', 'PLANALTO', 'POÇÕES', 'POJUCA', 'PONTO NOVO', 'PORTO SEGURO', 'POTIRAGUÁ', 'PRADO', 'PRESIDENTE DUTRA', 'PRESIDENTE JÂNIO QUADROS', 'PRESIDENTE TANCREDO NEVES', 'QUEIMADAS', 'QUIJINGUE', 'QUIXABEIRA', 'RAFAEL JAMBEIRO', 'REMANSO', 'RETIROLÂNDIA', 'RIACHÃO DAS NEVES', 'RIACHÃO DO JACUÍPE', 'RIACHO DE SANTANA', 'RIBEIRA DO AMPARO', 'RIBEIRA DO POMBAL', 'RIBEIRÃO DO LARGO', 'RIO DE CONTAS', 'RIO DO ANTÔNIO', 'RIO DO PIRES', 'RIO REAL', 'RODELAS', 'RUY BARBOSA', 'SALINAS DA MARGARIDA', 'SALVADOR', 'SANTA BÁRBARA', 'SANTA BRÍGIDA', 'SANTA CRUZ CABRÁLIA', 'SANTA CRUZ DA VITÓRIA', 'SANTA INÊS', 'SANTA LUZIA', 'SANTA MARIA DA VITÓRIA', 'SANTA RITA DE CÁSSIA', 'SANTA TEREZINHA', 'SANTALUZ', 'SANTANÓPOLIS', 'SANTO AMARO', 'SANTO ANTÔNIO DE JESUS', 'SANTO ESTÊVÃO', 'SÃO DESIDÉRIO', 'SÃO DOMINGOS', 'SÃO FELIPE', 'SÃO FÉLIX', 'SÃO FÉLIX DO CORIBE', 'SÃO FRANCISCO DO CONDE', 'SÃO GABRIEL', 'SÃO GONÇALO DOS CAMPOS', 'SÃO JOSÉ DA VITÓRIA', 'SÃO JOSÉ DO JACUÍPE', 'SÃO MIGUEL DAS MATAS', 'SÃO SEBASTIÃO DO PASSÉ', 'SAPEAÇU', 'SÁTIRO DIAS', 'SAUBARA', 'SAÚDE', 'SEABRA', 'SEBASTIÃO LARANJEIRAS', 'SENHOR DO BONFIM', 'SENTO SÉ', 'SERRA DO RAMALHO', 'SERRA DOURADA', 'SERRA PRETA', 'SERRINHA', 'SERROLÂNDIA', 'SIMÕES FILHO', 'SÍTIO DO MATO', 'SÍTIO DO QUINTO', 'SOBRADINHO', 'SOUTO SOARES', 'TABOCAS DO BREJO VELHO', 'TANHAÇU', 'TANQUE NOVO', 'TANQUINHO', 'TAPEROÁ', 'TAPIRAMUTÁ', 'TEIXEIRA DE FREITAS', 'TEODORO SAMPAIO', 'TEOFILÂNDIA', 'TEOLÂNDIA', 'TERRA NOVA', 'TREMEDAL', 'TUCANO', 'UAUÁ', 'UBAÍRA', 'UBAITABA', 'UBATÃ', 'UIBAÍ', 'UMBURANAS', 'UNA', 'URANDI', 'URUÇUCA', 'UTINGA', 'VALENÇA', 'VALENTE', 'VÁRZEA DA ROÇA', 'VÁRZEA DO POÇO', 'VÁRZEA NOVA', 'VARZEDO', 'VERA CRUZ', 'VEREDA', 'VITÓRIA DA CONQUISTA', 'WAGNER', 'WANDERLEY', 'WENCESLAU GUIMARÃES', 'XIQUE-XIQUE', 'ABAIARA', 'ACARAPE', 'ACARAÚ', 'ACOPIARA', 'AIUABA', 'ALCÂNTARAS', 'ALTANEIRA', 'ALTO SANTO', 'AMONTADA', 'ANTONINA DO NORTE', 'APUIARÉS', 'AQUIRAZ', 'ARACATI', 'ARACOIABA', 'ARARENDÁ', 'ARARIPE', 'ARATUBA', 'ARNEIROZ', 'ASSARÉ', 'AURORA', 'BAIXIO', 'BANABUIÚ', 'BARBALHA', 'BARREIRA', 'BARRO', 'BARROQUINHA', 'BATURITÉ', 'BEBERIBE', 'BELA CRUZ', 'BOA VIAGEM', 'BREJO SANTO', 'CAMOCIM', 'CAMPOS SALES', 'CANINDÉ', 'CAPISTRANO', 'CARIDADE', 'CARIRÉ', 'CARIRIAÇU', 'CARIÚS', 'CARNAUBAL', 'CASCAVEL', 'CATARINA', 'CATUNDA', 'CAUCAIA', 'CEDRO', 'CHAVAL', 'CHORÓ', 'CHOROZINHO', 'COREAÚ', 'CRATEÚS', 'CRATO', 'CROATÁ', 'CRUZ', 'DEPUTADO IRAPUAN PINHEIRO', 'ERERÉ', 'EUSÉBIO', 'FARIAS BRITO', 'FORQUILHA', 'FORTALEZA', 'FORTIM', 'FRECHEIRINHA', 'GENERAL SAMPAIO', 'GRAÇA', 'GRANJA', 'GRANJEIRO', 'GROAÍRAS', 'GUAIÚBA', 'GUARACIABA DO NORTE', 'GUARAMIRANGA', 'HIDROLÂNDIA', 'HORIZONTE', 'IBARETAMA', 'IBIAPINA', 'IBICUITINGA', 'ICAPUÍ', 'ICÓ', 'IGUATU', 'INDEPENDÊNCIA', 'IPAPORANGA', 'IPAUMIRIM', 'IPU', 'IPUEIRAS', 'IRACEMA', 'IRAUÇUBA', 'ITAIÇABA', 'ITAITINGA', 'ITAPAJÉ', 'ITAPIPOCA', 'ITAPIÚNA', 'ITAREMA', 'ITATIRA', 'JAGUARETAMA', 'JAGUARIBARA', 'JAGUARIBE', 'JAGUARUANA', 'JARDIM', 'JATI', 'JIJOCA DE JERICOACOARA', 'JUAZEIRO DO NORTE', 'JUCÁS', 'LAVRAS DA MANGABEIRA', 'LIMOEIRO DO NORTE', 'MADALENA', 'MARACANAÚ', 'MARANGUAPE', 'MARCO', 'MARTINÓPOLE', 'MASSAPÊ', 'MAURITI', 'MERUOCA', 'MILHÃ', 'MIRAÍMA', 'MISSÃO VELHA', 'MOMBAÇA', 'MONSENHOR TABOSA', 'MORADA NOVA', 'MORAÚJO', 'MORRINHOS', 'MUCAMBO', 'MULUNGU', 'NOVA OLINDA', 'NOVA RUSSAS', 'NOVO ORIENTE', 'OCARA', 'ORÓS', 'PACAJUS', 'PACATUBA', 'PACOTI', 'PACUJÁ', 'PALHANO', 'PALMÁCIA', 'PARACURU', 'PARAIPABA', 'PARAMBU', 'PARAMOTI', 'PEDRA BRANCA', 'PENAFORTE', 'PENTECOSTE', 'PEREIRO', 'PINDORETAMA', 'PIQUET CARNEIRO', 'PIRES FERREIRA', 'PORANGA', 'PORTEIRAS', 'POTENGI', 'POTIRETAMA', 'QUITERIANÓPOLIS', 'QUIXADÁ', 'QUIXELÔ', 'QUIXERAMOBIM', 'QUIXERÉ', 'REDENÇÃO', 'RERIUTABA', 'RUSSAS', 'SABOEIRO', 'SALITRE', 'SANTA QUITÉRIA', 'SANTANA DO ACARAÚ', 'SANTANA DO CARIRI', 'SÃO BENEDITO', 'SÃO GONÇALO DO AMARANTE', 'SÃO JOÃO DO JAGUARIBE', 'SÃO LUÍS DO CURU', 'SENADOR POMPEU', 'SENADOR SÁ', 'SOBRAL', 'SOLONÓPOLE', 'TABULEIRO DO NORTE', 'TAMBORIL', 'TARRAFAS', 'TAUÁ', 'TEJUÇUOCA', 'TIANGUÁ', 'TRAIRI', 'TURURU', 'UBAJARA', 'UMARI', 'UMIRIM', 'URUBURETAMA', 'URUOCA', 'VARJOTA', 'VÁRZEA ALEGRE', 'VIÇOSA DO CEARÁ', 'BRASÍLIA', 'ABADIA DE GOIÁS', 'ABADIÂNIA', 'ACREÚNA', 'ADELÂNDIA', 'ÁGUA FRIA DE GOIÁS', 'ÁGUA LIMPA', 'ÁGUAS LINDAS DE GOIÁS', 'ALEXÂNIA', 'ALOÂNDIA', 'ALTO HORIZONTE', 'ALTO PARAÍSO DE GOIÁS', 'ALVORADA DO NORTE', 'AMARALINA', 'AMERICANO DO BRASIL', 'AMORINÓPOLIS', 'ANÁPOLIS', 'ANHANGUERA', 'ANICUNS', 'APARECIDA DE GOIÂNIA', 'APARECIDA DO RIO DOCE', 'APORÉ', 'ARAÇU', 'ARAGARÇAS', 'ARAGOIÂNIA', 'ARAGUAPAZ', 'ARENÓPOLIS', 'ARUANÃ', 'AURILÂNDIA', 'AVELINÓPOLIS', 'BALIZA', 'BELA VISTA DE GOIÁS', 'BOM JARDIM DE GOIÁS', 'BOM JESUS DE GOIÁS', 'BONFINÓPOLIS', 'BONÓPOLIS', 'BRAZABRANTES', 'BRITÂNIA', 'BURITI ALEGRE', 'BURITI DE GOIÁS', 'BURITINÓPOLIS', 'CABECEIRAS', 'CACHOEIRA ALTA', 'CACHOEIRA DE GOIÁS', 'CACHOEIRA DOURADA', 'CAÇU', 'CAIAPÔNIA', 'CALDAS NOVAS', 'CALDAZINHA', 'CAMPESTRE DE GOIÁS', 'CAMPINAÇU', 'CAMPINORTE', 'CAMPO ALEGRE DE GOIÁS', 'CAMPO LIMPO DE GOIÁS', 'CAMPOS BELOS', 'CAMPOS VERDES', 'CARMO DO RIO VERDE', 'CASTELÂNDIA', 'CATALÃO', 'CATURAÍ', 'CAVALCANTE', 'CERES', 'CEZARINA', 'CHAPADÃO DO CÉU', 'CIDADE OCIDENTAL', 'COCALZINHO DE GOIÁS', 'COLINAS DO SUL', 'CÓRREGO DO OURO', 'CORUMBÁ DE GOIÁS', 'CORUMBAÍBA', 'CRISTALINA', 'CRISTIANÓPOLIS', 'CRIXÁS', 'CROMÍNIA', 'CUMARI', 'DAMIANÓPOLIS', 'DAMOLÂNDIA', 'DAVINÓPOLIS', 'DIORAMA', 'DIVINÓPOLIS DE GOIÁS', 'DOVERLÂNDIA', 'EDEALINA', 'EDÉIA', 'ESTRELA DO NORTE', 'FAINA', 'FAZENDA NOVA', 'FIRMINÓPOLIS', 'FLORES DE GOIÁS', 'FORMOSA', 'FORMOSO', 'GAMELEIRA DE GOIÁS', 'GOIANÁPOLIS', 'GOIANDIRA', 'GOIANÉSIA', 'GOIÂNIA', 'GOIANIRA', 'GOIÁS', 'GOIATUBA', 'GOUVELÂNDIA', 'GUAPÓ', 'GUARAÍTA', 'GUARANI DE GOIÁS', 'GUARINOS', 'HEITORAÍ', 'HIDROLINA', 'IACIARA', 'INACIOLÂNDIA', 'INDIARA', 'INHUMAS', 'IPAMERI', 'IPIRANGA DE GOIÁS', 'IPORÁ', 'ISRAELÂNDIA', 'ITABERAÍ', 'ITAGUARI', 'ITAGUARU', 'ITAJÁ', 'ITAPACI', 'ITAPIRAPUÃ', 'ITAPURANGA', 'ITARUMÃ', 'ITAUÇU', 'ITUMBIARA', 'IVOLÂNDIA', 'JANDAIA', 'JARAGUÁ', 'JATAÍ', 'JAUPACI', 'JESÚPOLIS', 'JOVIÂNIA', 'LAGOA SANTA', 'LEOPOLDO DE BULHÕES', 'LUZIÂNIA', 'MAIRIPOTABA', 'MAMBAÍ', 'MARA ROSA', 'MARZAGÃO', 'MATRINCHÃ', 'MAURILÂNDIA', 'MIMOSO DE GOIÁS', 'MINAÇU', 'MINEIROS', 'MOIPORÁ', 'MONTE ALEGRE DE GOIÁS', 'MONTES CLAROS DE GOIÁS', 'MONTIVIDIU', 'MONTIVIDIU DO NORTE', 'MORRO AGUDO DE GOIÁS', 'MOSSÂMEDES', 'MOZARLÂNDIA', 'MUTUNÓPOLIS', 'NAZÁRIO', 'NERÓPOLIS', 'NIQUELÂNDIA', 'NOVA AMÉRICA', 'NOVA AURORA', 'NOVA CRIXÁS', 'NOVA GLÓRIA', 'NOVA IGUAÇU DE GOIÁS', 'NOVA ROMA', 'NOVA VENEZA', 'NOVO BRASIL', 'NOVO GAMA', 'NOVO PLANALTO', 'ORIZONA', 'OURO VERDE DE GOIÁS', 'OUVIDOR', 'PADRE BERNARDO', 'PALESTINA DE GOIÁS', 'PALMEIRAS DE GOIÁS', 'PALMELO', 'PALMINÓPOLIS', 'PANAMÁ', 'PARANAIGUARA', 'PARAÚNA', 'PEROLÂNDIA', 'PETROLINA DE GOIÁS', 'PILAR DE GOIÁS', 'PIRACANJUBA', 'PIRENÓPOLIS', 'PIRES DO RIO', 'PLANALTINA', 'PONTALINA', 'PORANGATU', 'PORTEIRÃO', 'PORTELÂNDIA', 'POSSE', 'PROFESSOR JAMIL', 'QUIRINÓPOLIS', 'RIALMA', 'RIANÁPOLIS', 'RIO QUENTE', 'RIO VERDE', 'RUBIATABA', 'SANCLERLÂNDIA', 'SANTA BÁRBARA DE GOIÁS', 'SANTA CRUZ DE GOIÁS', 'SANTA FÉ DE GOIÁS', 'SANTA HELENA DE GOIÁS', 'SANTA ISABEL', 'SANTA RITA DO ARAGUAIA', 'SANTA RITA DO NOVO DESTINO', 'SANTA ROSA DE GOIÁS', 'SANTA TEREZA DE GOIÁS', 'SANTA TEREZINHA DE GOIÁS', 'SANTO ANTÔNIO DA BARRA', 'SANTO ANTÔNIO DE GOIÁS', 'SANTO ANTÔNIO DO DESCOBERTO', 'SÃO FRANCISCO DE GOIÁS', 'SÃO JOÃO DA PARAÚNA', \"SÃO JOÃO D'ALIANÇA\", 'SÃO LUÍS DE MONTES BELOS', 'SÃO LUIZ DO NORTE', 'SÃO MIGUEL DO ARAGUAIA', 'SÃO MIGUEL DO PASSA QUATRO', 'SÃO PATRÍCIO', 'SÃO SIMÃO', 'SENADOR CANEDO', 'SERRANÓPOLIS', 'SILVÂNIA', 'SIMOLÂNDIA', \"SÍTIO D'ABADIA\", 'TAQUARAL DE GOIÁS', 'TERESINA DE GOIÁS', 'TEREZÓPOLIS DE GOIÁS', 'TRÊS RANCHOS', 'TRINDADE', 'TROMBAS', 'TURVÂNIA', 'TURVELÂNDIA', 'UIRAPURU', 'URUAÇU', 'URUANA', 'URUTAÍ', 'VALPARAÍSO DE GOIÁS', 'VARJÃO', 'VIANÓPOLIS', 'VICENTINÓPOLIS', 'VILA BOA', 'VILA PROPÍCIO', 'AÇAILÂNDIA', 'AFONSO CUNHA', 'ÁGUA DOCE DO MARANHÃO', 'ALCÂNTARA', 'ALDEIAS ALTAS', 'ALTAMIRA DO MARANHÃO', 'ALTO ALEGRE DO MARANHÃO', 'ALTO ALEGRE DO PINDARÉ', 'ALTO PARNAÍBA', 'AMAPÁ DO MARANHÃO', 'AMARANTE DO MARANHÃO', 'ANAJATUBA', 'ANAPURUS', 'APICUM-AÇU', 'ARAGUANÃ', 'ARAIOSES', 'ARAME', 'ARARI', 'AXIXÁ', 'BACABAL', 'BACABEIRA', 'BACURI', 'BACURITUBA', 'BALSAS', 'BARÃO DE GRAJAÚ', 'BARRA DO CORDA', 'BARREIRINHAS', 'BELA VISTA DO MARANHÃO', 'BELÁGUA', 'BENEDITO LEITE', 'BEQUIMÃO', 'BERNARDO DO MEARIM', 'BOA VISTA DO GURUPI', 'BOM JARDIM', 'BOM JESUS DAS SELVAS', 'BOM LUGAR', 'BREJO', 'BREJO DE AREIA', 'BURITI', 'BURITI BRAVO', 'BURITICUPU', 'BURITIRANA', 'CACHOEIRA GRANDE', 'CAJAPIÓ', 'CAJARI', 'CAMPESTRE DO MARANHÃO', 'CÂNDIDO MENDES', 'CANTANHEDE', 'CAPINZAL DO NORTE', 'CAROLINA', 'CARUTAPERA', 'CAXIAS', 'CEDRAL', 'CENTRAL DO MARANHÃO', 'CENTRO DO GUILHERME', 'CENTRO NOVO DO MARANHÃO', 'CHAPADINHA', 'CIDELÂNDIA', 'CODÓ', 'COELHO NETO', 'COLINAS', 'CONCEIÇÃO DO LAGO-AÇU', 'COROATÁ', 'CURURUPU', 'DOM PEDRO', 'DUQUE BACELAR', 'ESPERANTINÓPOLIS', 'ESTREITO', 'FEIRA NOVA DO MARANHÃO', 'FERNANDO FALCÃO', 'FORMOSA DA SERRA NEGRA', 'FORTALEZA DOS NOGUEIRAS', 'FORTUNA', 'GODOFREDO VIANA', 'GONÇALVES DIAS', 'GOVERNADOR ARCHER', 'GOVERNADOR EDISON LOBÃO', 'GOVERNADOR EUGÊNIO BARROS', 'GOVERNADOR LUIZ ROCHA', 'GOVERNADOR NEWTON BELLO', 'GOVERNADOR NUNES FREIRE', 'GRAÇA ARANHA', 'GRAJAÚ', 'GUIMARÃES', 'HUMBERTO DE CAMPOS', 'ICATU', 'IGARAPÉ DO MEIO', 'IGARAPÉ GRANDE', 'IMPERATRIZ', 'ITAIPAVA DO GRAJAÚ', 'ITAPECURU MIRIM', 'ITINGA DO MARANHÃO', 'JATOBÁ', 'JENIPAPO DOS VIEIRAS', 'JOÃO LISBOA', 'JOSELÂNDIA', 'JUNCO DO MARANHÃO', 'LAGO DA PEDRA', 'LAGO DO JUNCO', 'LAGO DOS RODRIGUES', 'LAGO VERDE', 'LAGOA DO MATO', 'LAGOA GRANDE DO MARANHÃO', 'LAJEADO NOVO', 'LIMA CAMPOS', 'LORETO', 'LUÍS DOMINGUES', 'MAGALHÃES DE ALMEIDA', 'MARACAÇUMÉ', 'MARAJÁ DO SENA', 'MARANHÃOZINHO', 'MATA ROMA', 'MATINHA', 'MATÕES', 'MATÕES DO NORTE', 'MILAGRES DO MARANHÃO', 'MIRADOR', 'MIRANDA DO NORTE', 'MIRINZAL', 'MONÇÃO', 'MONTES ALTOS', 'MORROS', 'NINA RODRIGUES', 'NOVA COLINAS', 'NOVA IORQUE', 'NOVA OLINDA DO MARANHÃO', \"OLHO D'ÁGUA DAS CUNHÃS\", 'OLINDA NOVA DO MARANHÃO', 'PAÇO DO LUMIAR', 'PALMEIRÂNDIA', 'PARAIBANO', 'PARNARAMA', 'PASSAGEM FRANCA', 'PASTOS BONS', 'PAULINO NEVES', 'PAULO RAMOS', 'PEDREIRAS', 'PEDRO DO ROSÁRIO', 'PENALVA', 'PERI MIRIM', 'PERITORÓ', 'PINDARÉ-MIRIM', 'PINHEIRO', 'PIO XII', 'PIRAPEMAS', 'POÇÃO DE PEDRAS', 'PORTO FRANCO', 'PORTO RICO DO MARANHÃO', 'PRESIDENTE JUSCELINO', 'PRESIDENTE MÉDICI', 'PRESIDENTE SARNEY', 'PRESIDENTE VARGAS', 'PRIMEIRA CRUZ', 'RAPOSA', 'RIACHÃO', 'RIBAMAR FIQUENE', 'ROSÁRIO', 'SAMBAÍBA', 'SANTA FILOMENA DO MARANHÃO', 'SANTA HELENA', 'SANTA LUZIA DO PARUÁ', 'SANTA QUITÉRIA DO MARANHÃO', 'SANTA RITA', 'SANTANA DO MARANHÃO', 'SANTO AMARO DO MARANHÃO', 'SANTO ANTÔNIO DOS LOPES', 'SÃO BENEDITO DO RIO PRETO', 'SÃO BENTO', 'SÃO BERNARDO', 'SÃO DOMINGOS DO AZEITÃO', 'SÃO DOMINGOS DO MARANHÃO', 'SÃO FÉLIX DE BALSAS', 'SÃO FRANCISCO DO BREJÃO', 'SÃO FRANCISCO DO MARANHÃO', 'SÃO JOÃO BATISTA', 'SÃO JOÃO DO CARÚ', 'SÃO JOÃO DO PARAÍSO', 'SÃO JOÃO DO SOTER', 'SÃO JOÃO DOS PATOS', 'SÃO JOSÉ DE RIBAMAR', 'SÃO JOSÉ DOS BASÍLIOS', 'SÃO LUÍS', 'SÃO LUÍS GONZAGA DO MARANHÃO', 'SÃO MATEUS DO MARANHÃO', 'SÃO PEDRO DA ÁGUA BRANCA', 'SÃO PEDRO DOS CRENTES', 'SÃO RAIMUNDO DAS MANGABEIRAS', 'SÃO RAIMUNDO DO DOCA BEZERRA', 'SÃO ROBERTO', 'SÃO VICENTE FERRER', 'SATUBINHA', 'SENADOR ALEXANDRE COSTA', 'SENADOR LA ROCQUE', 'SERRANO DO MARANHÃO', 'SÍTIO NOVO', 'SUCUPIRA DO NORTE', 'SUCUPIRA DO RIACHÃO', 'TASSO FRAGOSO', 'TIMBIRAS', 'TIMON', 'TRIZIDELA DO VALE', 'TUFILÂNDIA', 'TUNTUM', 'TURIAÇU', 'TURILÂNDIA', 'TUTÓIA', 'URBANO SANTOS', 'VARGEM GRANDE', 'VIANA', 'VILA NOVA DOS MARTÍRIOS', 'VITÓRIA DO MEARIM', 'VITORINO FREIRE', 'ZÉ DOCA', 'ABADIA DOS DOURADOS', 'ABAETÉ', 'ABRE CAMPO', 'ACAIACA', 'AÇUCENA', 'ÁGUA BOA', 'ÁGUA COMPRIDA', 'AGUANIL', 'ÁGUAS FORMOSAS', 'ÁGUAS VERMELHAS', 'AIMORÉS', 'AIURUOCA', 'ALAGOA', 'ALBERTINA', 'ALÉM PARAÍBA', 'ALFENAS', 'ALFREDO VASCONCELOS', 'ALMENARA', 'ALPERCATA', 'ALPINÓPOLIS', 'ALTEROSA', 'ALTO CAPARAÓ', 'ALTO JEQUITIBÁ', 'ALTO RIO DOCE', 'ALVARENGA', 'ALVINÓPOLIS', 'ALVORADA DE MINAS', 'AMPARO DO SERRA', 'ANDRADAS', 'ANDRELÂNDIA', 'ANGELÂNDIA', 'ANTÔNIO CARLOS', 'ANTÔNIO DIAS', 'ANTÔNIO PRADO DE MINAS', 'ARAÇAÍ', 'ARACITABA', 'ARAÇUAÍ', 'ARAGUARI', 'ARANTINA', 'ARAPONGA', 'ARAPORÃ', 'ARAPUÁ', 'ARAÚJOS', 'ARAXÁ', 'ARCEBURGO', 'ARCOS', 'AREADO', 'ARGIRITA', 'ARICANDUVA', 'ARINOS', 'ASTOLFO DUTRA', 'ATALÉIA', 'AUGUSTO DE LIMA', 'BAEPENDI', 'BALDIM', 'BAMBUÍ', 'BANDEIRA', 'BANDEIRA DO SUL', 'BARÃO DE COCAIS', 'BARÃO DE MONTE ALTO', 'BARBACENA', 'BARRA LONGA', 'BARROSO', 'BELA VISTA DE MINAS', 'BELMIRO BRAGA', 'BELO HORIZONTE', 'BELO ORIENTE', 'BELO VALE', 'BERILO', 'BERIZAL', 'BERTÓPOLIS', 'BETIM', 'BIAS FORTES', 'BICAS', 'BIQUINHAS', 'BOA ESPERANÇA', 'BOCAINA DE MINAS', 'BOCAIÚVA', 'BOM DESPACHO', 'BOM JARDIM DE MINAS', 'BOM JESUS DA PENHA', 'BOM JESUS DO AMPARO', 'BOM JESUS DO GALHO', 'BOM REPOUSO', 'BOM SUCESSO', 'BONFIM', 'BONFINÓPOLIS DE MINAS', 'BONITO DE MINAS', 'BORDA DA MATA', 'BOTELHOS', 'BOTUMIRIM', 'BRÁS PIRES', 'BRASILÂNDIA DE MINAS', 'BRASÍLIA DE MINAS', 'BRAÚNAS', 'BRAZÓPOLIS', 'BRUMADINHO', 'BUENO BRANDÃO', 'BUENÓPOLIS', 'BUGRE', 'BURITIS', 'BURITIZEIRO', 'CABECEIRA GRANDE', 'CABO VERDE', 'CACHOEIRA DA PRATA', 'CACHOEIRA DE MINAS', 'CACHOEIRA DE PAJEÚ', 'CAETANÓPOLIS', 'CAETÉ', 'CAIANA', 'CAJURI', 'CALDAS', 'CAMACHO', 'CAMANDUCAIA', 'CAMBUÍ', 'CAMBUQUIRA', 'CAMPANÁRIO', 'CAMPANHA', 'CAMPINA VERDE', 'CAMPO AZUL', 'CAMPO BELO', 'CAMPO DO MEIO', 'CAMPO FLORIDO', 'CAMPOS ALTOS', 'CAMPOS GERAIS', 'CANA VERDE', 'CANAÃ', 'CANTAGALO', 'CAPARAÓ', 'CAPELA NOVA', 'CAPELINHA', 'CAPETINGA', 'CAPIM BRANCO', 'CAPINÓPOLIS', 'CAPITÃO ANDRADE', 'CAPITÃO ENÉAS', 'CAPITÓLIO', 'CAPUTIRA', 'CARAÍ', 'CARANAÍBA', 'CARANDAÍ', 'CARANGOLA', 'CARATINGA', 'CARBONITA', 'CAREAÇU', 'CARLOS CHAGAS', 'CARMÉSIA', 'CARMO DA CACHOEIRA', 'CARMO DA MATA', 'CARMO DE MINAS', 'CARMO DO CAJURU', 'CARMO DO PARANAÍBA', 'CARMO DO RIO CLARO', 'CARMÓPOLIS DE MINAS', 'CARNEIRINHO', 'CARRANCAS', 'CARVALHÓPOLIS', 'CARVALHOS', 'CASA GRANDE', 'CASCALHO RICO', 'CÁSSIA', 'CATAGUASES', 'CATAS ALTAS', 'CATAS ALTAS DA NORUEGA', 'CATUJI', 'CATUTI', 'CAXAMBU', 'CEDRO DO ABAETÉ', 'CENTRAL DE MINAS', 'CENTRALINA', 'CHÁCARA', 'CHALÉ', 'CHAPADA DO NORTE', 'CHAPADA GAÚCHA', 'CHIADOR', 'CIPOTÂNEA', 'CLARAVAL', 'CLARO DOS POÇÕES', 'CLÁUDIO', 'COIMBRA', 'COLUNA', 'COMENDADOR GOMES', 'COMERCINHO', 'CONCEIÇÃO DA APARECIDA', 'CONCEIÇÃO DA BARRA DE MINAS', 'CONCEIÇÃO DAS ALAGOAS', 'CONCEIÇÃO DAS PEDRAS', 'CONCEIÇÃO DE IPANEMA', 'CONCEIÇÃO DO MATO DENTRO', 'CONCEIÇÃO DO PARÁ', 'CONCEIÇÃO DO RIO VERDE', 'CONCEIÇÃO DOS OUROS', 'CÔNEGO MARINHO', 'CONFINS', 'CONGONHAL', 'CONGONHAS', 'CONGONHAS DO NORTE', 'CONQUISTA', 'CONSELHEIRO LAFAIETE', 'CONSELHEIRO PENA', 'CONSOLAÇÃO', 'CONTAGEM', 'COQUEIRAL', 'CORAÇÃO DE JESUS', 'CORDISBURGO', 'CORDISLÂNDIA', 'CORINTO', 'COROACI', 'COROMANDEL', 'CORONEL FABRICIANO', 'CORONEL MURTA', 'CORONEL PACHECO', 'CORONEL XAVIER CHAVES', 'CÓRREGO DANTA', 'CÓRREGO DO BOM JESUS', 'CÓRREGO FUNDO', 'CÓRREGO NOVO', 'COUTO DE MAGALHÃES DE MINAS', 'CRISÓLITA', 'CRISTAIS', 'CRISTÁLIA', 'CRISTIANO OTONI', 'CRISTINA', 'CRUCILÂNDIA', 'CRUZEIRO DA FORTALEZA', 'CRUZÍLIA', 'CUPARAQUE', 'CURRAL DE DENTRO', 'CURVELO', 'DATAS', 'DELFIM MOREIRA', 'DELFINÓPOLIS', 'DELTA', 'DESCOBERTO', 'DESTERRO DE ENTRE RIOS', 'DESTERRO DO MELO', 'DIAMANTINA', 'DIOGO DE VASCONCELOS', 'DIONÍSIO', 'DIVINÉSIA', 'DIVINO', 'DIVINO DAS LARANJEIRAS', 'DIVINOLÂNDIA DE MINAS', 'DIVINÓPOLIS', 'DIVISA ALEGRE', 'DIVISA NOVA', 'DIVISÓPOLIS', 'DOM BOSCO', 'DOM CAVATI', 'DOM JOAQUIM', 'DOM SILVÉRIO', 'DOM VIÇOSO', 'DONA EUZÉBIA', 'DORES DE CAMPOS', 'DORES DE GUANHÃES', 'DORES DO INDAIÁ', 'DORES DO TURVO', 'DORESÓPOLIS', 'DOURADOQUARA', 'DURANDÉ', 'ELÓI MENDES', 'ENGENHEIRO CALDAS', 'ENGENHEIRO NAVARRO', 'ENTRE FOLHAS', 'ENTRE RIOS DE MINAS', 'ERVÁLIA', 'ESMERALDAS', 'ESPERA FELIZ', 'ESPINOSA', 'ESPÍRITO SANTO DO DOURADO', 'ESTIVA', 'ESTRELA DALVA', 'ESTRELA DO INDAIÁ', 'ESTRELA DO SUL', 'EUGENÓPOLIS', 'EWBANK DA CÂMARA', 'EXTREMA', 'FAMA', 'FARIA LEMOS', 'FELÍCIO DOS SANTOS', 'FELISBURGO', 'FELIXLÂNDIA', 'FERNANDES TOURINHO', 'FERROS', 'FERVEDOURO', 'FLORESTAL', 'FORMIGA', 'FORTALEZA DE MINAS', 'FORTUNA DE MINAS', 'FRANCISCO BADARÓ', 'FRANCISCO DUMONT', 'FRANCISCO SÁ', 'FRANCISCÓPOLIS', 'FREI GASPAR', 'FREI INOCÊNCIO', 'FREI LAGONEGRO', 'FRONTEIRA', 'FRONTEIRA DOS VALES', 'FRUTA DE LEITE', 'FRUTAL', 'FUNILÂNDIA', 'GALILÉIA', 'GAMELEIRAS', 'GLAUCILÂNDIA', 'GOIABEIRA', 'GOIANÁ', 'GONÇALVES', 'GONZAGA', 'GOUVEIA', 'GOVERNADOR VALADARES', 'GRÃO MOGOL', 'GRUPIARA', 'GUANHÃES', 'GUAPÉ', 'GUARACIABA', 'GUARACIAMA', 'GUARANÉSIA', 'GUARANI', 'GUARARÁ', 'GUARDA-MOR', 'GUAXUPÉ', 'GUIDOVAL', 'GUIMARÂNIA', 'GUIRICEMA', 'GURINHATÃ', 'HELIODORA', 'IAPU', 'IBERTIOGA', 'IBIÁ', 'IBIAÍ', 'IBIRACATU', 'IBIRACI', 'IBIRITÉ', 'IBITIÚRA DE MINAS', 'IBITURUNA', 'ICARAÍ DE MINAS', 'IGARAPÉ', 'IGARATINGA', 'IGUATAMA', 'IJACI', 'ILICÍNEA', 'IMBÉ DE MINAS', 'INCONFIDENTES', 'INDAIABIRA', 'INDIANÓPOLIS', 'INGAÍ', 'INHAPIM', 'INHAÚMA', 'INIMUTABA', 'IPABA', 'IPANEMA', 'IPATINGA', 'IPIAÇU', 'IPUIÚNA', 'IRAÍ DE MINAS', 'ITABIRA', 'ITABIRINHA', 'ITABIRITO', 'ITACAMBIRA', 'ITACARAMBI', 'ITAGUARA', 'ITAIPÉ', 'ITAJUBÁ', 'ITAMARANDIBA', 'ITAMARATI DE MINAS', 'ITAMBACURI', 'ITAMBÉ DO MATO DENTRO', 'ITAMOGI', 'ITAMONTE', 'ITANHANDU', 'ITANHOMI', 'ITAOBIM', 'ITAPAGIPE', 'ITAPECERICA', 'ITAPEVA', 'ITATIAIUÇU', 'ITAÚ DE MINAS', 'ITAÚNA', 'ITAVERAVA', 'ITINGA', 'ITUETA', 'ITUIUTABA', 'ITUMIRIM', 'ITURAMA', 'ITUTINGA', 'JABOTICATUBAS', 'JACINTO', 'JACUÍ', 'JACUTINGA', 'JAGUARAÇU', 'JAÍBA', 'JAMPRUCA', 'JANAÚBA', 'JANUÁRIA', 'JAPARAÍBA', 'JAPONVAR', 'JECEABA', 'JENIPAPO DE MINAS', 'JEQUERI', 'JEQUITAÍ', 'JEQUITIBÁ', 'JEQUITINHONHA', 'JESUÂNIA', 'JOAÍMA', 'JOANÉSIA', 'JOÃO MONLEVADE', 'JOÃO PINHEIRO', 'JOAQUIM FELÍCIO', 'JORDÂNIA', 'JOSÉ GONÇALVES DE MINAS', 'JOSÉ RAYDAN', 'JOSENÓPOLIS', 'JUATUBA', 'JUIZ DE FORA', 'JURAMENTO', 'JURUAIA', 'JUVENÍLIA', 'LADAINHA', 'LAGAMAR', 'LAGOA DA PRATA', 'LAGOA DOS PATOS', 'LAGOA DOURADA', 'LAGOA FORMOSA', 'LAGOA GRANDE', 'LAJINHA', 'LAMBARI', 'LAMIM', 'LARANJAL', 'LASSANCE', 'LAVRAS', 'LEANDRO FERREIRA', 'LEME DO PRADO', 'LEOPOLDINA', 'LIBERDADE', 'LIMA DUARTE', 'LIMEIRA DO OESTE', 'LONTRA', 'LUISBURGO', 'LUISLÂNDIA', 'LUMINÁRIAS', 'LUZ', 'MACHACALIS', 'MACHADO', 'MADRE DE DEUS DE MINAS', 'MALACACHETA', 'MAMONAS', 'MANGA', 'MANHUAÇU', 'MANHUMIRIM', 'MANTENA', 'MAR DE ESPANHA', 'MARAVILHAS', 'MARIA DA FÉ', 'MARIANA', 'MARILAC', 'MÁRIO CAMPOS', 'MARIPÁ DE MINAS', 'MARLIÉRIA', 'MARMELÓPOLIS', 'MARTINHO CAMPOS', 'MARTINS SOARES', 'MATA VERDE', 'MATERLÂNDIA', 'MATEUS LEME', 'MATHIAS LOBATO', 'MATIAS BARBOSA', 'MATIAS CARDOSO', 'MATIPÓ', 'MATO VERDE', 'MATOZINHOS', 'MATUTINA', 'MEDEIROS', 'MEDINA', 'MENDES PIMENTEL', 'MERCÊS', 'MESQUITA', 'MINAS NOVAS', 'MINDURI', 'MIRABELA', 'MIRADOURO', 'MIRAÍ', 'MIRAVÂNIA', 'MOEDA', 'MOEMA', 'MONJOLOS', 'MONSENHOR PAULO', 'MONTALVÂNIA', 'MONTE ALEGRE DE MINAS', 'MONTE AZUL', 'MONTE BELO', 'MONTE CARMELO', 'MONTE FORMOSO', 'MONTE SANTO DE MINAS', 'MONTE SIÃO', 'MONTES CLAROS', 'MONTEZUMA', 'MORADA NOVA DE MINAS', 'MORRO DA GARÇA', 'MORRO DO PILAR', 'MUNHOZ', 'MURIAÉ', 'MUTUM', 'MUZAMBINHO', 'NACIP RAYDAN', 'NANUQUE', 'NAQUE', 'NATALÂNDIA', 'NATÉRCIA', 'NAZARENO', 'NEPOMUCENO', 'NINHEIRA', 'NOVA BELÉM', 'NOVA ERA', 'NOVA LIMA', 'NOVA MÓDICA', 'NOVA PONTE', 'NOVA PORTEIRINHA', 'NOVA RESENDE', 'NOVA SERRANA', 'NOVA UNIÃO', 'NOVO CRUZEIRO', 'NOVO ORIENTE DE MINAS', 'NOVORIZONTE', 'OLARIA', \"OLHOS-D'ÁGUA\", 'OLÍMPIO NORONHA', 'OLIVEIRA', 'OLIVEIRA FORTES', 'ONÇA DE PITANGUI', 'ORATÓRIOS', 'ORIZÂNIA', 'OURO FINO', 'OURO PRETO', 'OURO VERDE DE MINAS', 'PADRE CARVALHO', 'PADRE PARAÍSO', 'PAI PEDRO', 'PAINEIRAS', 'PAINS', 'PAIVA', 'PALMA', 'PALMÓPOLIS', 'PAPAGAIOS', 'PARÁ DE MINAS', 'PARACATU', 'PARAGUAÇU', 'PARAISÓPOLIS', 'PARAOPEBA', 'PASSA QUATRO', 'PASSA TEMPO', 'PASSA VINTE', 'PASSABÉM', 'PASSOS', 'PATIS', 'PATOS DE MINAS', 'PATROCÍNIO', 'PATROCÍNIO DO MURIAÉ', 'PAULA CÂNDIDO', 'PAULISTAS', 'PAVÃO', 'PEÇANHA', 'PEDRA AZUL', 'PEDRA BONITA', 'PEDRA DO ANTA', 'PEDRA DO INDAIÁ', 'PEDRA DOURADA', 'PEDRALVA', 'PEDRAS DE MARIA DA CRUZ', 'PEDRINÓPOLIS', 'PEDRO LEOPOLDO', 'PEDRO TEIXEIRA', 'PEQUERI', 'PEQUI', 'PERDIGÃO', 'PERDIZES', 'PERDÕES', 'PERIQUITO', 'PESCADOR', 'PIAU', 'PIEDADE DE CARATINGA', 'PIEDADE DE PONTE NOVA', 'PIEDADE DO RIO GRANDE', 'PIEDADE DOS GERAIS', 'PIMENTA', \"PINGO-D'ÁGUA\", 'PINTÓPOLIS', 'PIRACEMA', 'PIRAJUBA', 'PIRANGA', 'PIRANGUÇU', 'PIRANGUINHO', 'PIRAPETINGA', 'PIRAPORA', 'PIRAÚBA', 'PITANGUI', 'PIUMHI', 'PLANURA', 'POÇO FUNDO', 'POÇOS DE CALDAS', 'POCRANE', 'POMPÉU', 'PONTE NOVA', 'PONTO CHIQUE', 'PONTO DOS VOLANTES', 'PORTEIRINHA', 'PORTO FIRME', 'POTÉ', 'POUSO ALEGRE', 'POUSO ALTO', 'PRADOS', 'PRATA', 'PRATÁPOLIS', 'PRATINHA', 'PRESIDENTE BERNARDES', 'PRESIDENTE KUBITSCHEK', 'PRESIDENTE OLEGÁRIO', 'PRUDENTE DE MORAIS', 'QUARTEL GERAL', 'QUELUZITO', 'RAPOSOS', 'RAUL SOARES', 'RECREIO', 'REDUTO', 'RESENDE COSTA', 'RESPLENDOR', 'RESSAQUINHA', 'RIACHINHO', 'RIACHO DOS MACHADOS', 'RIBEIRÃO DAS NEVES', 'RIBEIRÃO VERMELHO', 'RIO ACIMA', 'RIO CASCA', 'RIO DO PRADO', 'RIO DOCE', 'RIO ESPERA', 'RIO MANSO', 'RIO NOVO', 'RIO PARANAÍBA', 'RIO PARDO DE MINAS', 'RIO PIRACICABA', 'RIO POMBA', 'RIO PRETO', 'RIO VERMELHO', 'RITÁPOLIS', 'ROCHEDO DE MINAS', 'RODEIRO', 'ROMARIA', 'ROSÁRIO DA LIMEIRA', 'RUBELITA', 'RUBIM', 'SABARÁ', 'SABINÓPOLIS', 'SACRAMENTO', 'SALINAS', 'SALTO DA DIVISA', 'SANTA BÁRBARA DO LESTE', 'SANTA BÁRBARA DO MONTE VERDE', 'SANTA BÁRBARA DO TUGÚRIO', 'SANTA CRUZ DE MINAS', 'SANTA CRUZ DE SALINAS', 'SANTA CRUZ DO ESCALVADO', 'SANTA EFIGÊNIA DE MINAS', 'SANTA FÉ DE MINAS', 'SANTA HELENA DE MINAS', 'SANTA JULIANA', 'SANTA MARGARIDA', 'SANTA MARIA DE ITABIRA', 'SANTA MARIA DO SALTO', 'SANTA MARIA DO SUAÇUÍ', 'SANTA RITA DE CALDAS', 'SANTA RITA DE IBITIPOCA', 'SANTA RITA DE JACUTINGA', 'SANTA RITA DE MINAS', 'SANTA RITA DO ITUETO', 'SANTA RITA DO SAPUCAÍ', 'SANTA ROSA DA SERRA', 'SANTA VITÓRIA', 'SANTANA DA VARGEM', 'SANTANA DE CATAGUASES', 'SANTANA DE PIRAPAMA', 'SANTANA DO DESERTO', 'SANTANA DO GARAMBÉU', 'SANTANA DO JACARÉ', 'SANTANA DO MANHUAÇU', 'SANTANA DO PARAÍSO', 'SANTANA DO RIACHO', 'SANTANA DOS MONTES', 'SANTO ANTÔNIO DO AMPARO', 'SANTO ANTÔNIO DO AVENTUREIRO', 'SANTO ANTÔNIO DO GRAMA', 'SANTO ANTÔNIO DO ITAMBÉ', 'SANTO ANTÔNIO DO JACINTO', 'SANTO ANTÔNIO DO MONTE', 'SANTO ANTÔNIO DO RETIRO', 'SANTO ANTÔNIO DO RIO ABAIXO', 'SANTO HIPÓLITO', 'SANTOS DUMONT', 'SÃO BENTO ABADE', 'SÃO BRÁS DO SUAÇUÍ', 'SÃO DOMINGOS DAS DORES', 'SÃO DOMINGOS DO PRATA', 'SÃO FÉLIX DE MINAS', 'SÃO FRANCISCO', 'SÃO FRANCISCO DE PAULA', 'SÃO FRANCISCO DE SALES', 'SÃO FRANCISCO DO GLÓRIA', 'SÃO GERALDO', 'SÃO GERALDO DA PIEDADE', 'SÃO GERALDO DO BAIXIO', 'SÃO GONÇALO DO ABAETÉ', 'SÃO GONÇALO DO PARÁ', 'SÃO GONÇALO DO RIO ABAIXO', 'SÃO GONÇALO DO RIO PRETO', 'SÃO GONÇALO DO SAPUCAÍ', 'SÃO GOTARDO', 'SÃO JOÃO BATISTA DO GLÓRIA', 'SÃO JOÃO DA LAGOA', 'SÃO JOÃO DA MATA', 'SÃO JOÃO DA PONTE', 'SÃO JOÃO DAS MISSÕES', 'SÃO JOÃO DEL REI', 'SÃO JOÃO DO MANHUAÇU', 'SÃO JOÃO DO MANTENINHA', 'SÃO JOÃO DO ORIENTE', 'SÃO JOÃO DO PACUÍ', 'SÃO JOÃO EVANGELISTA', 'SÃO JOÃO NEPOMUCENO', 'SÃO JOAQUIM DE BICAS', 'SÃO JOSÉ DA BARRA', 'SÃO JOSÉ DA LAPA', 'SÃO JOSÉ DA SAFIRA', 'SÃO JOSÉ DA VARGINHA', 'SÃO JOSÉ DO ALEGRE', 'SÃO JOSÉ DO DIVINO', 'SÃO JOSÉ DO GOIABAL', 'SÃO JOSÉ DO JACURI', 'SÃO JOSÉ DO MANTIMENTO', 'SÃO LOURENÇO', 'SÃO MIGUEL DO ANTA', 'SÃO PEDRO DA UNIÃO', 'SÃO PEDRO DO SUAÇUÍ', 'SÃO PEDRO DOS FERROS', 'SÃO ROMÃO', 'SÃO ROQUE DE MINAS', 'SÃO SEBASTIÃO DA BELA VISTA', 'SÃO SEBASTIÃO DA VARGEM ALEGRE', 'SÃO SEBASTIÃO DO ANTA', 'SÃO SEBASTIÃO DO MARANHÃO', 'SÃO SEBASTIÃO DO OESTE', 'SÃO SEBASTIÃO DO PARAÍSO', 'SÃO SEBASTIÃO DO RIO PRETO', 'SÃO SEBASTIÃO DO RIO VERDE', 'SÃO TIAGO', 'SÃO TOMÁS DE AQUINO', 'SÃO TOMÉ DAS LETRAS', 'SÃO VICENTE DE MINAS', 'SAPUCAÍ-MIRIM', 'SARDOÁ', 'SARZEDO', 'SEM-PEIXE', 'SENADOR AMARAL', 'SENADOR CORTES', 'SENADOR FIRMINO', 'SENADOR JOSÉ BENTO', 'SENADOR MODESTINO GONÇALVES', 'SENHORA DE OLIVEIRA', 'SENHORA DO PORTO', 'SENHORA DOS REMÉDIOS', 'SERICITA', 'SERITINGA', 'SERRA AZUL DE MINAS', 'SERRA DA SAUDADE', 'SERRA DO SALITRE', 'SERRA DOS AIMORÉS', 'SERRANIA', 'SERRANÓPOLIS DE MINAS', 'SERRANOS', 'SERRO', 'SETE LAGOAS', 'SETUBINHA', 'SILVEIRÂNIA', 'SILVIANÓPOLIS', 'SIMÃO PEREIRA', 'SIMONÉSIA', 'SOBRÁLIA', 'SOLEDADE DE MINAS', 'TABULEIRO', 'TAIOBEIRAS', 'TAPARUBA', 'TAPIRA', 'TAPIRAÍ', 'TAQUARAÇU DE MINAS', 'TARUMIRIM', 'TEIXEIRAS', 'TEÓFILO OTONI', 'TIMÓTEO', 'TIRADENTES', 'TIROS', 'TOCANTINS', 'TOCOS DO MOJI', 'TOLEDO', 'TOMBOS', 'TRÊS CORAÇÕES', 'TRÊS MARIAS', 'TRÊS PONTAS', 'TUMIRITINGA', 'TUPACIGUARA', 'TURMALINA', 'TURVOLÂNDIA', 'UBÁ', 'UBAÍ', 'UBAPORANGA', 'UBERABA', 'UBERLÂNDIA', 'UMBURATIBA', 'UNAÍ', 'UNIÃO DE MINAS', 'URUANA DE MINAS', 'URUCÂNIA', 'URUCUIA', 'VARGEM ALEGRE', 'VARGEM BONITA', 'VARGEM GRANDE DO RIO PARDO', 'VARGINHA', 'VARJÃO DE MINAS', 'VÁRZEA DA PALMA', 'VARZELÂNDIA', 'VAZANTE', 'VERDELÂNDIA', 'VEREDINHA', 'VERÍSSIMO', 'VERMELHO NOVO', 'VESPASIANO', 'VIEIRAS', 'VIRGEM DA LAPA', 'VIRGÍNIA', 'VIRGINÓPOLIS', 'VIRGOLÂNDIA', 'VISCONDE DO RIO BRANCO', 'VOLTA GRANDE', 'WENCESLAU BRAZ', 'ÁGUA CLARA', 'ALCINÓPOLIS', 'AMAMBAI', 'ANASTÁCIO', 'ANAURILÂNDIA', 'ANGÉLICA', 'ANTÔNIO JOÃO', 'APARECIDA DO TABOADO', 'AQUIDAUANA', 'ARAL MOREIRA', 'BANDEIRANTES', 'BATAGUASSU', 'BATAYPORÃ', 'BELA VISTA', 'BODOQUENA', 'BRASILÂNDIA', 'CAARAPÓ', 'CAMAPUÃ', 'CARACOL', 'CASSILÂNDIA', 'CHAPADÃO DO SUL', 'CORGUINHO', 'CORONEL SAPUCAIA', 'CORUMBÁ', 'COSTA RICA', 'COXIM', 'DEODÁPOLIS', 'DOIS IRMÃOS DO BURITI', 'DOURADINA', 'DOURADOS', 'ELDORADO', 'FÁTIMA DO SUL', 'FIGUEIRÃO', 'GLÓRIA DE DOURADOS', 'GUIA LOPES DA LAGUNA', 'IGUATEMI', 'INOCÊNCIA', 'ITAPORÃ', 'ITAQUIRAÍ', 'IVINHEMA', 'JAPORÃ', 'JARAGUARI', 'JATEÍ', 'JUTI', 'LADÁRIO', 'LAGUNA CARAPÃ', 'MARACAJU', 'MIRANDA', 'NAVIRAÍ', 'NIOAQUE', 'NOVA ALVORADA DO SUL', 'NOVA ANDRADINA', 'NOVO HORIZONTE DO SUL', 'PARAÍSO DAS ÁGUAS', 'PARANAÍBA', 'PARANHOS', 'PEDRO GOMES', 'PONTA PORÃ', 'PORTO MURTINHO', 'RIBAS DO RIO PARDO', 'RIO BRILHANTE', 'RIO NEGRO', 'RIO VERDE DE MATO GROSSO', 'ROCHEDO', 'SANTA RITA DO PARDO', 'SÃO GABRIEL DO OESTE', 'SELVÍRIA', 'SETE QUEDAS', 'SIDROLÂNDIA', 'SONORA', 'TACURU', 'TAQUARUSSU', 'TERENOS', 'TRÊS LAGOAS', 'VICENTINA', 'ACORIZAL', 'ALTA FLORESTA', 'ALTO ARAGUAIA', 'ALTO BOA VISTA', 'ALTO GARÇAS', 'ALTO PARAGUAI', 'ALTO TAQUARI', 'APIACÁS', 'ARAGUAIANA', 'ARAGUAINHA', 'ARAPUTANGA', 'ARENÁPOLIS', 'ARIPUANÃ', 'BARÃO DE MELGAÇO', 'BARRA DO BUGRES', 'BARRA DO GARÇAS', 'BOM JESUS DO ARAGUAIA', 'BRASNORTE', 'CÁCERES', 'CAMPINÁPOLIS', 'CAMPO NOVO DO PARECIS', 'CAMPO VERDE', 'CAMPOS DE JÚLIO', 'CANABRAVA DO NORTE', 'CARLINDA', 'CASTANHEIRA', 'CHAPADA DOS GUIMARÃES', 'CLÁUDIA', 'COCALINHO', 'COLÍDER', 'COLNIZA', 'COMODORO', 'CONFRESA', \"CONQUISTA D'OESTE\", 'COTRIGUAÇU', 'CUIABÁ', 'CURVELÂNDIA', 'DENISE', 'DIAMANTINO', 'DOM AQUINO', 'FELIZ NATAL', \"FIGUEIRÓPOLIS D'OESTE\", 'GAÚCHA DO NORTE', 'GENERAL CARNEIRO', \"GLÓRIA D'OESTE\", 'GUARANTÃ DO NORTE', 'GUIRATINGA', 'INDIAVAÍ', 'IPIRANGA DO NORTE', 'ITANHANGÁ', 'ITAÚBA', 'ITIQUIRA', 'JACIARA', 'JANGADA', 'JAURU', 'JUARA', 'JUÍNA', 'JURUENA', 'JUSCIMEIRA', \"LAMBARI D'OESTE\", 'LUCAS DO RIO VERDE', 'LUCIARA', 'MARCELÂNDIA', 'MATUPÁ', \"MIRASSOL D'OESTE\", 'NOBRES', 'NORTELÂNDIA', 'NOSSA SENHORA DO LIVRAMENTO', 'NOVA BANDEIRANTES', 'NOVA BRASILÂNDIA', 'NOVA CANAÃ DO NORTE', 'NOVA GUARITA', 'NOVA LACERDA', 'NOVA MARILÂNDIA', 'NOVA MARINGÁ', 'NOVA MONTE VERDE', 'NOVA MUTUM', 'NOVA NAZARÉ', 'NOVA OLÍMPIA', 'NOVA SANTA HELENA', 'NOVA UBIRATÃ', 'NOVA XAVANTINA', 'NOVO HORIZONTE DO NORTE', 'NOVO MUNDO', 'NOVO SANTO ANTÔNIO', 'NOVO SÃO JOAQUIM', 'PARANAÍTA', 'PARANATINGA', 'PEDRA PRETA', 'PEIXOTO DE AZEVEDO', 'PLANALTO DA SERRA', 'POCONÉ', 'PONTAL DO ARAGUAIA', 'PONTE BRANCA', 'PONTES E LACERDA', 'PORTO ALEGRE DO NORTE', 'PORTO DOS GAÚCHOS', 'PORTO ESPERIDIÃO', 'PORTO ESTRELA', 'POXORÉU', 'PRIMAVERA DO LESTE', 'QUERÊNCIA', 'RESERVA DO CABAÇAL', 'RIBEIRÃO CASCALHEIRA', 'RIBEIRÃOZINHO', 'RONDOLÂNDIA', 'RONDONÓPOLIS', 'ROSÁRIO OESTE', 'SALTO DO CÉU', 'SANTA CARMEM', 'SANTA CRUZ DO XINGU', 'SANTA RITA DO TRIVELATO', 'SANTO AFONSO', 'SANTO ANTÔNIO DO LESTE', 'SANTO ANTÔNIO DO LEVERGER', 'SÃO FÉLIX DO ARAGUAIA', 'SÃO JOSÉ DO POVO', 'SÃO JOSÉ DO RIO CLARO', 'SÃO JOSÉ DO XINGU', 'SÃO JOSÉ DOS QUATRO MARCOS', 'SÃO PEDRO DA CIPA', 'SAPEZAL', 'SERRA NOVA DOURADA', 'SINOP', 'SORRISO', 'TABAPORÃ', 'TANGARÁ DA SERRA', 'TAPURAH', 'TERRA NOVA DO NORTE', 'TESOURO', 'TORIXORÉU', 'UNIÃO DO SUL', 'VALE DE SÃO DOMINGOS', 'VÁRZEA GRANDE', 'VERA', 'VILA BELA DA SANTÍSSIMA TRINDADE', 'VILA RICA', 'ABAETETUBA', 'ABEL FIGUEIREDO', 'ACARÁ', 'AFUÁ', 'ÁGUA AZUL DO NORTE', 'ALENQUER', 'ALMEIRIM', 'ALTAMIRA', 'ANAJÁS', 'ANANINDEUA', 'ANAPU', 'AUGUSTO CORRÊA', 'AURORA DO PARÁ', 'AVEIRO', 'BAGRE', 'BAIÃO', 'BANNACH', 'BARCARENA', 'BELTERRA', 'BENEVIDES', 'BOM JESUS DO TOCANTINS', 'BRAGANÇA', 'BRASIL NOVO', 'BREJO GRANDE DO ARAGUAIA', 'BREU BRANCO', 'BREVES', 'BUJARU', 'CACHOEIRA DO ARARI', 'CACHOEIRA DO PIRIÁ', 'CAMETÁ', 'CANAÃ DOS CARAJÁS', 'CAPANEMA', 'CAPITÃO POÇO', 'CASTANHAL', 'CHAVES', 'COLARES', 'CONCEIÇÃO DO ARAGUAIA', 'CONCÓRDIA DO PARÁ', 'CUMARU DO NORTE', 'CURIONÓPOLIS', 'CURRALINHO', 'CURUÁ', 'CURUÇÁ', 'DOM ELISEU', 'ELDORADO DO CARAJÁS', 'FARO', 'FLORESTA DO ARAGUAIA', 'GARRAFÃO DO NORTE', 'GOIANÉSIA DO PARÁ', 'GURUPÁ', 'IGARAPÉ-AÇU', 'IGARAPÉ-MIRI', 'INHANGAPI', 'IPIXUNA DO PARÁ', 'IRITUIA', 'ITAITUBA', 'ITUPIRANGA', 'JACAREACANGA', 'JACUNDÁ', 'JURUTI', 'LIMOEIRO DO AJURU', 'MÃE DO RIO', 'MAGALHÃES BARATA', 'MARABÁ', 'MARACANÃ', 'MARAPANIM', 'MARITUBA', 'MEDICILÂNDIA', 'MELGAÇO', 'MOCAJUBA', 'MOJU', 'MOJUÍ DOS CAMPOS', 'MONTE ALEGRE', 'MUANÁ', 'NOVA ESPERANÇA DO PIRIÁ', 'NOVA IPIXUNA', 'NOVA TIMBOTEUA', 'NOVO PROGRESSO', 'NOVO REPARTIMENTO', 'ÓBIDOS', 'OEIRAS DO PARÁ', 'ORIXIMINÁ', 'OURÉM', 'OURILÂNDIA DO NORTE', 'PACAJÁ', 'PALESTINA DO PARÁ', 'PARAGOMINAS', 'PARAUAPEBAS', \"PAU D'ARCO\", 'PEIXE-BOI', 'PIÇARRA', 'PLACAS', 'PONTA DE PEDRAS', 'PORTEL', 'PORTO DE MOZ', 'PRAINHA', 'PRIMAVERA', 'QUATIPURU', 'RIO MARIA', 'RONDON DO PARÁ', 'RURÓPOLIS', 'SALINÓPOLIS', 'SALVATERRA', 'SANTA BÁRBARA DO PARÁ', 'SANTA CRUZ DO ARARI', 'SANTA IZABEL DO PARÁ', 'SANTA LUZIA DO PARÁ', 'SANTA MARIA DAS BARREIRAS', 'SANTA MARIA DO PARÁ', 'SANTANA DO ARAGUAIA', 'SANTARÉM', 'SANTARÉM NOVO', 'SANTO ANTÔNIO DO TAUÁ', 'SÃO CAETANO DE ODIVELAS', 'SÃO DOMINGOS DO ARAGUAIA', 'SÃO DOMINGOS DO CAPIM', 'SÃO FÉLIX DO XINGU', 'SÃO FRANCISCO DO PARÁ', 'SÃO GERALDO DO ARAGUAIA', 'SÃO JOÃO DA PONTA', 'SÃO JOÃO DE PIRABAS', 'SÃO JOÃO DO ARAGUAIA', 'SÃO MIGUEL DO GUAMÁ', 'SÃO SEBASTIÃO DA BOA VISTA', 'SAPUCAIA', 'SENADOR JOSÉ PORFÍRIO', 'SOURE', 'TAILÂNDIA', 'TERRA ALTA', 'TERRA SANTA', 'TOMÉ-AÇU', 'TRACUATEUA', 'TRAIRÃO', 'TUCUMÃ', 'TUCURUÍ', 'ULIANÓPOLIS', 'URUARÁ', 'VIGIA', 'VISEU', 'VITÓRIA DO XINGU', 'XINGUARA', 'AGUIAR', 'ALAGOA GRANDE', 'ALAGOA NOVA', 'ALAGOINHA', 'ALCANTIL', 'ALGODÃO DE JANDAÍRA', 'ALHANDRA', 'AMPARO', 'APARECIDA', 'ARAÇAGI', 'ARARA', 'ARARUNA', 'AREIA', 'AREIA DE BARAÚNAS', 'AREIAL', 'AROEIRAS', 'ASSUNÇÃO', 'BAÍA DA TRAIÇÃO', 'BANANEIRAS', 'BARAÚNA', 'BARRA DE SANTA ROSA', 'BARRA DE SANTANA', 'BAYEUX', 'BELÉM DO BREJO DO CRUZ', 'BERNARDINO BATISTA', 'BOA VENTURA', 'BOA VISTA', 'BOM JESUS', 'BONITO DE SANTA FÉ', 'BOQUEIRÃO', 'BORBOREMA', 'BREJO DO CRUZ', 'BREJO DOS SANTOS', 'CAAPORÃ', 'CABACEIRAS', 'CABEDELO', 'CACHOEIRA DOS ÍNDIOS', 'CACIMBA DE AREIA', 'CACIMBA DE DENTRO', 'CACIMBAS', 'CAIÇARA', 'CAJAZEIRAS', 'CAJAZEIRINHAS', 'CALDAS BRANDÃO', 'CAMALAÚ', 'CAMPINA GRANDE', 'CAPIM', 'CARAÚBAS', 'CARRAPATEIRA', 'CASSERENGUE', 'CATINGUEIRA', 'CATOLÉ DO ROCHA', 'CATURITÉ', 'CONCEIÇÃO', 'CONDADO', 'CONGO', 'COREMAS', 'COXIXOLA', 'CRUZ DO ESPÍRITO SANTO', 'CUBATI', 'CUITÉ', 'CUITÉ DE MAMANGUAPE', 'CUITEGI', 'CURRAL DE CIMA', 'CURRAL VELHO', 'DAMIÃO', 'DESTERRO', 'DIAMANTE', 'DONA INÊS', 'DUAS ESTRADAS', 'EMAS', 'ESPERANÇA', 'FAGUNDES', 'FREI MARTINHO', 'GADO BRAVO', 'GUARABIRA', 'GURINHÉM', 'GURJÃO', 'IBIARA', 'IGARACY', 'IMACULADA', 'INGÁ', 'ITABAIANA', 'ITAPORANGA', 'ITAPOROROCA', 'ITATUBA', 'JACARAÚ', 'JERICÓ', 'JOÃO PESSOA', 'JOCA CLAUDINO', 'JUAREZ TÁVORA', 'JUAZEIRINHO', 'JUNCO DO SERIDÓ', 'JURIPIRANGA', 'JURU', 'LAGOA', 'LAGOA DE DENTRO', 'LAGOA SECA', 'LASTRO', 'LIVRAMENTO', 'LOGRADOURO', 'LUCENA', \"MÃE D'ÁGUA\", 'MALTA', 'MAMANGUAPE', 'MANAÍRA', 'MARCAÇÃO', 'MARI', 'MARIZÓPOLIS', 'MASSARANDUBA', 'MATARACA', 'MATINHAS', 'MATO GROSSO', 'MATURÉIA', 'MOGEIRO', 'MONTADAS', 'MONTE HOREBE', 'MONTEIRO', 'NATUBA', 'NAZAREZINHO', 'NOVA FLORESTA', 'NOVA PALMEIRA', \"OLHO D'ÁGUA\", 'OLIVEDOS', 'OURO VELHO', 'PARARI', 'PASSAGEM', 'PATOS', 'PAULISTA', 'PEDRA LAVRADA', 'PEDRAS DE FOGO', 'PEDRO RÉGIS', 'PIANCÓ', 'PICUÍ', 'PILÕES', 'PILÕEZINHOS', 'PIRPIRITUBA', 'PITIMBU', 'POCINHOS', 'POÇO DANTAS', 'POÇO DE JOSÉ DE MOURA', 'POMBAL', 'PRINCESA ISABEL', 'PUXINANÃ', 'QUIXABA', 'REMÍGIO', 'RIACHÃO DO BACAMARTE', 'RIACHÃO DO POÇO', 'RIACHO DE SANTO ANTÔNIO', 'RIACHO DOS CAVALOS', 'RIO TINTO', 'SALGADINHO', 'SALGADO DE SÃO FÉLIX', 'SANTA CECÍLIA', 'SANTA CRUZ', 'SANTA TERESINHA', 'SANTANA DE MANGUEIRA', 'SANTANA DOS GARROTES', 'SANTO ANDRÉ', 'SÃO BENTINHO', 'SÃO DOMINGOS DO CARIRI', 'SÃO JOÃO DO CARIRI', 'SÃO JOÃO DO RIO DO PEIXE', 'SÃO JOÃO DO TIGRE', 'SÃO JOSÉ DA LAGOA TAPADA', 'SÃO JOSÉ DE CAIANA', 'SÃO JOSÉ DE ESPINHARAS', 'SÃO JOSÉ DE PIRANHAS', 'SÃO JOSÉ DE PRINCESA', 'SÃO JOSÉ DO BONFIM', 'SÃO JOSÉ DO BREJO DO CRUZ', 'SÃO JOSÉ DO SABUGI', 'SÃO JOSÉ DOS CORDEIROS', 'SÃO JOSÉ DOS RAMOS', 'SÃO MAMEDE', 'SÃO MIGUEL DE TAIPU', 'SÃO SEBASTIÃO DE LAGOA DE ROÇA', 'SÃO SEBASTIÃO DO UMBUZEIRO', 'SÃO VICENTE DO SERIDÓ', 'SAPÉ', 'SERRA BRANCA', 'SERRA DA RAIZ', 'SERRA GRANDE', 'SERRA REDONDA', 'SERRARIA', 'SERTÃOZINHO', 'SOBRADO', 'SOLÂNEA', 'SOLEDADE', 'SOSSÊGO', 'SOUSA', 'SUMÉ', 'TACIMA', 'TAVARES', 'TEIXEIRA', 'TENÓRIO', 'TRIUNFO', 'UIRAÚNA', 'UMBUZEIRO', 'VÁRZEA', 'VIEIRÓPOLIS', 'VISTA SERRANA', 'ZABELÊ', 'ABREU E LIMA', 'AFOGADOS DA INGAZEIRA', 'AFRÂNIO', 'AGRESTINA', 'ÁGUA PRETA', 'ÁGUAS BELAS', 'ALIANÇA', 'ALTINHO', 'AMARAJI', 'ANGELIM', 'ARAÇOIABA', 'ARARIPINA', 'ARCOVERDE', 'BARRA DE GUABIRABA', 'BARREIROS', 'BELÉM DE MARIA', 'BELÉM DO SÃO FRANCISCO', 'BELO JARDIM', 'BETÂNIA', 'BEZERROS', 'BODOCÓ', 'BOM CONSELHO', 'BREJÃO', 'BREJINHO', 'BREJO DA MADRE DE DEUS', 'BUENOS AIRES', 'BUÍQUE', 'CABO DE SANTO AGOSTINHO', 'CABROBÓ', 'CACHOEIRINHA', 'CAETÉS', 'CALÇADO', 'CALUMBI', 'CAMARAGIBE', 'CAMOCIM DE SÃO FÉLIX', 'CAMUTANGA', 'CANHOTINHO', 'CAPOEIRAS', 'CARNAÍBA', 'CARNAUBEIRA DA PENHA', 'CARPINA', 'CARUARU', 'CASINHAS', 'CATENDE', 'CHÃ DE ALEGRIA', 'CHÃ GRANDE', 'CORRENTES', 'CORTÊS', 'CUMARU', 'CUPIRA', 'CUSTÓDIA', 'DORMENTES', 'ESCADA', 'EXU', 'FEIRA NOVA', 'FERNANDO DE NORONHA', 'FERREIROS', 'FLORES', 'FLORESTA', 'FREI MIGUELINHO', 'GAMELEIRA', 'GARANHUNS', 'GLÓRIA DO GOITÁ', 'GOIANA', 'GRANITO', 'GRAVATÁ', 'IATI', 'IBIMIRIM', 'IBIRAJUBA', 'IGARASSU', 'IGUARACY', 'ILHA DE ITAMARACÁ', 'INAJÁ', 'INGAZEIRA', 'IPOJUCA', 'IPUBI', 'ITACURUBA', 'ITAÍBA', 'ITAPETIM', 'ITAPISSUMA', 'ITAQUITINGA', 'JABOATÃO DOS GUARARAPES', 'JAQUEIRA', 'JATAÚBA', 'JOÃO ALFREDO', 'JOAQUIM NABUCO', 'JUCATI', 'JUPI', 'JUREMA', 'LAGOA DE ITAENGA', 'LAGOA DO CARRO', 'LAGOA DO OURO', 'LAGOA DOS GATOS', 'LAJEDO', 'LIMOEIRO', 'MACAPARANA', 'MACHADOS', 'MANARI', 'MARAIAL', 'MIRANDIBA', 'MOREILÂNDIA', 'MORENO', 'NAZARÉ DA MATA', 'OLINDA', 'OROBÓ', 'OROCÓ', 'OURICURI', 'PALMARES', 'PALMEIRINA', 'PANELAS', 'PARANATAMA', 'PARNAMIRIM', 'PASSIRA', 'PAUDALHO', 'PEDRA', 'PESQUEIRA', 'PETROLÂNDIA', 'PETROLINA', 'POÇÃO', 'POMBOS', 'QUIPAPÁ', 'RECIFE', 'RIACHO DAS ALMAS', 'RIBEIRÃO', 'RIO FORMOSO', 'SAIRÉ', 'SALGUEIRO', 'SALOÁ', 'SANHARÓ', 'SANTA CRUZ DA BAIXA VERDE', 'SANTA CRUZ DO CAPIBARIBE', 'SANTA FILOMENA', 'SANTA MARIA DA BOA VISTA', 'SANTA MARIA DO CAMBUCÁ', 'SÃO BENEDITO DO SUL', 'SÃO BENTO DO UNA', 'SÃO CAITANO', 'SÃO JOÃO', 'SÃO JOAQUIM DO MONTE', 'SÃO JOSÉ DA COROA GRANDE', 'SÃO JOSÉ DO BELMONTE', 'SÃO JOSÉ DO EGITO', 'SÃO LOURENÇO DA MATA', 'SÃO VICENTE FÉRRER', 'SERRA TALHADA', 'SERRITA', 'SERTÂNIA', 'SIRINHAÉM', 'SOLIDÃO', 'SURUBIM', 'TABIRA', 'TACAIMBÓ', 'TACARATU', 'TAMANDARÉ', 'TAQUARITINGA DO NORTE', 'TEREZINHA', 'TIMBAÚBA', 'TORITAMA', 'TRACUNHAÉM', 'TUPANATINGA', 'TUPARETAMA', 'VENTUROSA', 'VERDEJANTE', 'VERTENTE DO LÉRIO', 'VERTENTES', 'VICÊNCIA', 'VITÓRIA DE SANTO ANTÃO', 'XEXÉU', 'ACAUÃ', 'AGRICOLÂNDIA', 'ALAGOINHA DO PIAUÍ', 'ALEGRETE DO PIAUÍ', 'ALTO LONGÁ', 'ALTOS', 'ALVORADA DO GURGUÉIA', 'AMARANTE', 'ANGICAL DO PIAUÍ', 'ANÍSIO DE ABREU', 'ANTÔNIO ALMEIDA', 'AROAZES', 'AROEIRAS DO ITAIM', 'ARRAIAL', 'ASSUNÇÃO DO PIAUÍ', 'AVELINO LOPES', 'BAIXA GRANDE DO RIBEIRO', \"BARRA D'ALCÂNTARA\", 'BARRAS', 'BARREIRAS DO PIAUÍ', 'BARRO DURO', 'BELA VISTA DO PIAUÍ', 'BELÉM DO PIAUÍ', 'BENEDITINOS', 'BERTOLÍNIA', 'BETÂNIA DO PIAUÍ', 'BOA HORA', 'BOCAINA', 'BOM PRINCÍPIO DO PIAUÍ', 'BONFIM DO PIAUÍ', 'BOQUEIRÃO DO PIAUÍ', 'BRASILEIRA', 'BREJO DO PIAUÍ', 'BURITI DOS LOPES', 'BURITI DOS MONTES', 'CABECEIRAS DO PIAUÍ', 'CAJAZEIRAS DO PIAUÍ', 'CAJUEIRO DA PRAIA', 'CALDEIRÃO GRANDE DO PIAUÍ', 'CAMPINAS DO PIAUÍ', 'CAMPO ALEGRE DO FIDALGO', 'CAMPO GRANDE DO PIAUÍ', 'CAMPO LARGO DO PIAUÍ', 'CAMPO MAIOR', 'CANAVIEIRA', 'CANTO DO BURITI', 'CAPITÃO DE CAMPOS', 'CAPITÃO GERVÁSIO OLIVEIRA', 'CARAÚBAS DO PIAUÍ', 'CARIDADE DO PIAUÍ', 'CASTELO DO PIAUÍ', 'CAXINGÓ', 'COCAL', 'COCAL DE TELHA', 'COCAL DOS ALVES', 'COIVARAS', 'COLÔNIA DO GURGUÉIA', 'COLÔNIA DO PIAUÍ', 'CONCEIÇÃO DO CANINDÉ', 'CORONEL JOSÉ DIAS', 'CORRENTE', 'CRISTALÂNDIA DO PIAUÍ', 'CRISTINO CASTRO', 'CURIMATÁ', 'CURRAIS', 'CURRAL NOVO DO PIAUÍ', 'CURRALINHOS', 'DEMERVAL LOBÃO', 'DIRCEU ARCOVERDE', 'DOM EXPEDITO LOPES', 'DOM INOCÊNCIO', 'DOMINGOS MOURÃO', 'ELESBÃO VELOSO', 'ELISEU MARTINS', 'ESPERANTINA', 'FARTURA DO PIAUÍ', 'FLORES DO PIAUÍ', 'FLORESTA DO PIAUÍ', 'FLORIANO', 'FRANCINÓPOLIS', 'FRANCISCO AYRES', 'FRANCISCO MACEDO', 'FRANCISCO SANTOS', 'FRONTEIRAS', 'GEMINIANO', 'GILBUÉS', 'GUADALUPE', 'GUARIBAS', 'HUGO NAPOLEÃO', 'ILHA GRANDE', 'INHUMA', 'IPIRANGA DO PIAUÍ', 'ISAÍAS COELHO', 'ITAINÓPOLIS', 'ITAUEIRA', 'JACOBINA DO PIAUÍ', 'JAICÓS', 'JARDIM DO MULATO', 'JATOBÁ DO PIAUÍ', 'JERUMENHA', 'JOÃO COSTA', 'JOAQUIM PIRES', 'JOCA MARQUES', 'JOSÉ DE FREITAS', 'JUAZEIRO DO PIAUÍ', 'JÚLIO BORGES', 'LAGOA ALEGRE', 'LAGOA DE SÃO FRANCISCO', 'LAGOA DO BARRO DO PIAUÍ', 'LAGOA DO PIAUÍ', 'LAGOA DO SÍTIO', 'LAGOINHA DO PIAUÍ', 'LANDRI SALES', 'LUÍS CORREIA', 'LUZILÂNDIA', 'MADEIRO', 'MANOEL EMÍDIO', 'MARCOLÂNDIA', 'MARCOS PARENTE', 'MASSAPÊ DO PIAUÍ', 'MATIAS OLÍMPIO', 'MIGUEL ALVES', 'MIGUEL LEÃO', 'MILTON BRANDÃO', 'MONSENHOR GIL', 'MONSENHOR HIPÓLITO', 'MONTE ALEGRE DO PIAUÍ', 'MORRO CABEÇA NO TEMPO', 'MORRO DO CHAPÉU DO PIAUÍ', 'MURICI DOS PORTELAS', 'NAZARÉ DO PIAUÍ', 'NAZÁRIA', 'NOSSA SENHORA DE NAZARÉ', 'NOSSA SENHORA DOS REMÉDIOS', 'NOVA SANTA RITA', 'NOVO ORIENTE DO PIAUÍ', 'OEIRAS', \"OLHO D'ÁGUA DO PIAUÍ\", 'PADRE MARCOS', 'PAES LANDIM', 'PAJEÚ DO PIAUÍ', 'PALMEIRA DO PIAUÍ', 'PALMEIRAIS', 'PAQUETÁ', 'PARNAGUÁ', 'PARNAÍBA', 'PASSAGEM FRANCA DO PIAUÍ', 'PATOS DO PIAUÍ', \"PAU D'ARCO DO PIAUÍ\", 'PAULISTANA', 'PAVUSSU', 'PEDRO II', 'PEDRO LAURENTINO', 'PICOS', 'PIMENTEIRAS', 'PIO IX', 'PIRACURUCA', 'PIRIPIRI', 'PORTO', 'PORTO ALEGRE DO PIAUÍ', 'PRATA DO PIAUÍ', 'QUEIMADA NOVA', 'REDENÇÃO DO GURGUÉIA', 'REGENERAÇÃO', 'RIACHO FRIO', 'RIBEIRA DO PIAUÍ', 'RIBEIRO GONÇALVES', 'RIO GRANDE DO PIAUÍ', 'SANTA CRUZ DO PIAUÍ', 'SANTA CRUZ DOS MILAGRES', 'SANTA LUZ', 'SANTA ROSA DO PIAUÍ', 'SANTANA DO PIAUÍ', 'SANTO ANTÔNIO DE LISBOA', 'SANTO ANTÔNIO DOS MILAGRES', 'SANTO INÁCIO DO PIAUÍ', 'SÃO BRAZ DO PIAUÍ', 'SÃO FÉLIX DO PIAUÍ', 'SÃO FRANCISCO DE ASSIS DO PIAUÍ', 'SÃO FRANCISCO DO PIAUÍ', 'SÃO GONÇALO DO GURGUÉIA', 'SÃO GONÇALO DO PIAUÍ', 'SÃO JOÃO DA CANABRAVA', 'SÃO JOÃO DA FRONTEIRA', 'SÃO JOÃO DA SERRA', 'SÃO JOÃO DA VARJOTA', 'SÃO JOÃO DO ARRAIAL', 'SÃO JOÃO DO PIAUÍ', 'SÃO JOSÉ DO PEIXE', 'SÃO JOSÉ DO PIAUÍ', 'SÃO JULIÃO', 'SÃO LOURENÇO DO PIAUÍ', 'SÃO LUIS DO PIAUÍ', 'SÃO MIGUEL DA BAIXA GRANDE', 'SÃO MIGUEL DO FIDALGO', 'SÃO MIGUEL DO TAPUIO', 'SÃO PEDRO DO PIAUÍ', 'SÃO RAIMUNDO NONATO', 'SEBASTIÃO BARROS', 'SEBASTIÃO LEAL', 'SIGEFREDO PACHECO', 'SIMÕES', 'SIMPLÍCIO MENDES', 'SOCORRO DO PIAUÍ', 'SUSSUAPARA', 'TAMBORIL DO PIAUÍ', 'TANQUE DO PIAUÍ', 'TERESINA', 'UNIÃO', 'URUÇUÍ', 'VALENÇA DO PIAUÍ', 'VÁRZEA BRANCA', 'VERA MENDES', 'VILA NOVA DO PIAUÍ', 'WALL FERRAZ', 'ABATIÁ', 'ADRIANÓPOLIS', 'AGUDOS DO SUL', 'ALMIRANTE TAMANDARÉ', 'ALTAMIRA DO PARANÁ', 'ALTO PARAÍSO', 'ALTO PARANÁ', 'ALTO PIQUIRI', 'ALTÔNIA', 'ALVORADA DO SUL', 'AMAPORÃ', 'AMPÉRE', 'ANAHY', 'ANDIRÁ', 'ÂNGULO', 'ANTONINA', 'ANTÔNIO OLINTO', 'APUCARANA', 'ARAPONGAS', 'ARAPOTI', 'ARAPUÃ', 'ARAUCÁRIA', 'ARIRANHA DO IVAÍ', 'ASSAÍ', 'ASSIS CHATEAUBRIAND', 'ASTORGA', 'BALSA NOVA', 'BARBOSA FERRAZ', 'BARRA DO JACARÉ', 'BARRACÃO', 'BELA VISTA DA CAROBA', 'BELA VISTA DO PARAÍSO', 'BITURUNA', 'BOA ESPERANÇA DO IGUAÇU', 'BOA VENTURA DE SÃO ROQUE', 'BOA VISTA DA APARECIDA', 'BOCAIÚVA DO SUL', 'BOM JESUS DO SUL', 'BOM SUCESSO DO SUL', 'BORRAZÓPOLIS', 'BRAGANEY', 'BRASILÂNDIA DO SUL', 'CAFEARA', 'CAFELÂNDIA', 'CAFEZAL DO SUL', 'CALIFÓRNIA', 'CAMBARÁ', 'CAMBÉ', 'CAMBIRA', 'CAMPINA DA LAGOA', 'CAMPINA DO SIMÃO', 'CAMPINA GRANDE DO SUL', 'CAMPO BONITO', 'CAMPO DO TENENTE', 'CAMPO LARGO', 'CAMPO MAGRO', 'CAMPO MOURÃO', 'CÂNDIDO DE ABREU', 'CANDÓI', 'CAPITÃO LEÔNIDAS MARQUES', 'CARAMBEÍ', 'CARLÓPOLIS', 'CASTRO', 'CATANDUVAS', 'CENTENÁRIO DO SUL', 'CERRO AZUL', 'CÉU AZUL', 'CHOPINZINHO', 'CIANORTE', 'CIDADE GAÚCHA', 'CLEVELÂNDIA', 'COLOMBO', 'COLORADO', 'CONGONHINHAS', 'CONSELHEIRO MAIRINCK', 'CONTENDA', 'CORBÉLIA', 'CORNÉLIO PROCÓPIO', 'CORONEL DOMINGOS SOARES', 'CORONEL VIVIDA', 'CORUMBATAÍ DO SUL', 'CRUZ MACHADO', 'CRUZEIRO DO IGUAÇU', 'CRUZEIRO DO OESTE', 'CRUZMALTINA', 'CURITIBA', 'CURIÚVA', 'DIAMANTE DO NORTE', 'DIAMANTE DO SUL', \"DIAMANTE D'OESTE\", 'DOIS VIZINHOS', 'DOUTOR CAMARGO', 'DOUTOR ULYSSES', 'ENÉAS MARQUES', 'ENGENHEIRO BELTRÃO', 'ENTRE RIOS DO OESTE', 'ESPERANÇA NOVA', 'ESPIGÃO ALTO DO IGUAÇU', 'FAROL', 'FAXINAL', 'FAZENDA RIO GRANDE', 'FÊNIX', 'FERNANDES PINHEIRO', 'FIGUEIRA', 'FLOR DA SERRA DO SUL', 'FLORAÍ', 'FLORESTÓPOLIS', 'FLÓRIDA', 'FORMOSA DO OESTE', 'FOZ DO IGUAÇU', 'FOZ DO JORDÃO', 'FRANCISCO ALVES', 'FRANCISCO BELTRÃO', 'GODOY MOREIRA', 'GOIOERÊ', 'GOIOXIM', 'GRANDES RIOS', 'GUAÍRA', 'GUAIRAÇÁ', 'GUAMIRANGA', 'GUAPIRAMA', 'GUAPOREMA', 'GUARACI', 'GUARANIAÇU', 'GUARAPUAVA', 'GUARAQUEÇABA', 'GUARATUBA', 'HONÓRIO SERPA', 'IBAITI', 'IBEMA', 'IBIPORÃ', 'ICARAÍMA', 'IGUARAÇU', 'IMBAÚ', 'IMBITUVA', 'INÁCIO MARTINS', 'IPIRANGA', 'IPORÃ', 'IRACEMA DO OESTE', 'IRATI', 'IRETAMA', 'ITAGUAJÉ', 'ITAIPULÂNDIA', 'ITAMBARACÁ', \"ITAPEJARA D'OESTE\", 'ITAPERUÇU', 'ITAÚNA DO SUL', 'IVAÍ', 'IVAIPORÃ', 'IVATÉ', 'IVATUBA', 'JABOTI', 'JACAREZINHO', 'JAGUAPITÃ', 'JAGUARIAÍVA', 'JANDAIA DO SUL', 'JANIÓPOLIS', 'JAPIRA', 'JARDIM ALEGRE', 'JARDIM OLINDA', 'JATAIZINHO', 'JESUÍTAS', 'JOAQUIM TÁVORA', 'JUNDIAÍ DO SUL', 'JURANDA', 'KALORÉ', 'LAPA', 'LARANJEIRAS DO SUL', 'LEÓPOLIS', 'LIDIANÓPOLIS', 'LINDOESTE', 'LOANDA', 'LOBATO', 'LONDRINA', 'LUIZIANA', 'LUNARDELLI', 'LUPIONÓPOLIS', 'MALLET', 'MAMBORÊ', 'MANDAGUAÇU', 'MANDAGUARI', 'MANDIRITUBA', 'MANFRINÓPOLIS', 'MANGUEIRINHA', 'MANOEL RIBAS', 'MARECHAL CÂNDIDO RONDON', 'MARIA HELENA', 'MARIALVA', 'MARILÂNDIA DO SUL', 'MARILENA', 'MARILUZ', 'MARINGÁ', 'MARIÓPOLIS', 'MARIPÁ', 'MARMELEIRO', 'MARQUINHO', 'MARUMBI', 'MATELÂNDIA', 'MATINHOS', 'MATO RICO', 'MAUÁ DA SERRA', 'MEDIANEIRA', 'MERCEDES', 'MIRASELVA', 'MISSAL', 'MOREIRA SALES', 'MORRETES', 'MUNHOZ DE MELO', 'NOSSA SENHORA DAS GRAÇAS', 'NOVA ALIANÇA DO IVAÍ', 'NOVA AMÉRICA DA COLINA', 'NOVA CANTU', 'NOVA ESPERANÇA', 'NOVA ESPERANÇA DO SUDOESTE', 'NOVA LARANJEIRAS', 'NOVA LONDRINA', 'NOVA PRATA DO IGUAÇU', 'NOVA SANTA BÁRBARA', 'NOVA SANTA ROSA', 'NOVA TEBAS', 'NOVO ITACOLOMI', 'ORTIGUEIRA', 'OURIZONA', 'OURO VERDE DO OESTE', 'PAIÇANDU', 'PALMAS', 'PALMEIRA', 'PALMITAL', 'PALOTINA', 'PARAÍSO DO NORTE', 'PARANACITY', 'PARANAGUÁ', 'PARANAPOEMA', 'PARANAVAÍ', 'PATO BRAGADO', 'PATO BRANCO', 'PAULA FREITAS', 'PAULO FRONTIN', 'PEABIRU', 'PEROBAL', 'PÉROLA', \"PÉROLA D'OESTE\", 'PIÊN', 'PINHAIS', 'PINHAL DE SÃO BENTO', 'PINHALÃO', 'PINHÃO', 'PIRAÍ DO SUL', 'PIRAQUARA', 'PITANGA', 'PITANGUEIRAS', 'PLANALTINA DO PARANÁ', 'PONTA GROSSA', 'PONTAL DO PARANÁ', 'PORECATU', 'PORTO AMAZONAS', 'PORTO BARREIRO', 'PORTO RICO', 'PORTO VITÓRIA', 'PRADO FERREIRA', 'PRANCHITA', 'PRESIDENTE CASTELO BRANCO', 'PRIMEIRO DE MAIO', 'PRUDENTÓPOLIS', 'QUARTO CENTENÁRIO', 'QUATIGUÁ', 'QUATRO BARRAS', 'QUATRO PONTES', 'QUEDAS DO IGUAÇU', 'QUERÊNCIA DO NORTE', 'QUINTA DO SOL', 'QUITANDINHA', 'RAMILÂNDIA', 'RANCHO ALEGRE', \"RANCHO ALEGRE D'OESTE\", 'REALEZA', 'REBOUÇAS', 'RENASCENÇA', 'RESERVA', 'RESERVA DO IGUAÇU', 'RIBEIRÃO CLARO', 'RIBEIRÃO DO PINHAL', 'RIO AZUL', 'RIO BOM', 'RIO BONITO DO IGUAÇU', 'RIO BRANCO DO IVAÍ', 'RIO BRANCO DO SUL', 'ROLÂNDIA', 'RONCADOR', 'RONDON', 'ROSÁRIO DO IVAÍ', 'SABÁUDIA', 'SALGADO FILHO', 'SALTO DO ITARARÉ', 'SALTO DO LONTRA', 'SANTA AMÉLIA', 'SANTA CECÍLIA DO PAVÃO', 'SANTA CRUZ DE MONTE CASTELO', 'SANTA FÉ', 'SANTA ISABEL DO IVAÍ', 'SANTA IZABEL DO OESTE', 'SANTA LÚCIA', 'SANTA MARIA DO OESTE', 'SANTA MARIANA', 'SANTA MÔNICA', 'SANTA TEREZA DO OESTE', 'SANTA TEREZINHA DE ITAIPU', 'SANTANA DO ITARARÉ', 'SANTO ANTÔNIO DA PLATINA', 'SANTO ANTÔNIO DO CAIUÁ', 'SANTO ANTÔNIO DO PARAÍSO', 'SANTO ANTÔNIO DO SUDOESTE', 'SANTO INÁCIO', 'SÃO CARLOS DO IVAÍ', 'SÃO JERÔNIMO DA SERRA', 'SÃO JOÃO DO CAIUÁ', 'SÃO JOÃO DO IVAÍ', 'SÃO JOÃO DO TRIUNFO', 'SÃO JORGE DO IVAÍ', 'SÃO JORGE DO PATROCÍNIO', \"SÃO JORGE D'OESTE\", 'SÃO JOSÉ DA BOA VISTA', 'SÃO JOSÉ DAS PALMEIRAS', 'SÃO JOSÉ DOS PINHAIS', 'SÃO MANOEL DO PARANÁ', 'SÃO MATEUS DO SUL', 'SÃO MIGUEL DO IGUAÇU', 'SÃO PEDRO DO IGUAÇU', 'SÃO PEDRO DO IVAÍ', 'SÃO PEDRO DO PARANÁ', 'SÃO SEBASTIÃO DA AMOREIRA', 'SÃO TOMÉ', 'SAPOPEMA', 'SARANDI', 'SAUDADE DO IGUAÇU', 'SENGÉS', 'SERRANÓPOLIS DO IGUAÇU', 'SERTANEJA', 'SERTANÓPOLIS', 'SIQUEIRA CAMPOS', 'SULINA', 'TAMARANA', 'TAMBOARA', 'TAPEJARA', 'TEIXEIRA SOARES', 'TELÊMACO BORBA', 'TERRA BOA', 'TERRA RICA', 'TERRA ROXA', 'TIBAGI', 'TIJUCAS DO SUL', 'TOMAZINA', 'TRÊS BARRAS DO PARANÁ', 'TUNAS DO PARANÁ', 'TUNEIRAS DO OESTE', 'TUPÃSSI', 'TURVO', 'UBIRATÃ', 'UMUARAMA', 'UNIÃO DA VITÓRIA', 'UNIFLOR', 'URAÍ', 'VENTANIA', 'VERA CRUZ DO OESTE', 'VERÊ', 'VIRMOND', 'VITORINO', 'XAMBRÊ', 'ANGRA DOS REIS', 'APERIBÉ', 'ARARUAMA', 'AREAL', 'ARMAÇÃO DOS BÚZIOS', 'ARRAIAL DO CABO', 'BARRA DO PIRAÍ', 'BARRA MANSA', 'BELFORD ROXO', 'BOM JESUS DO ITABAPOANA', 'CABO FRIO', 'CACHOEIRAS DE MACACU', 'CAMBUCI', 'CAMPOS DOS GOYTACAZES', 'CARAPEBUS', 'CARDOSO MOREIRA', 'CARMO', 'CASIMIRO DE ABREU', 'COMENDADOR LEVY GASPARIAN', 'CONCEIÇÃO DE MACABU', 'CORDEIRO', 'DUAS BARRAS', 'DUQUE DE CAXIAS', 'ENGENHEIRO PAULO DE FRONTIN', 'GUAPIMIRIM', 'IGUABA GRANDE', 'ITABORAÍ', 'ITAGUAÍ', 'ITALVA', 'ITAOCARA', 'ITAPERUNA', 'ITATIAIA', 'JAPERI', 'LAJE DO MURIAÉ', 'MACAÉ', 'MACUCO', 'MAGÉ', 'MANGARATIBA', 'MARICÁ', 'MENDES', 'MIGUEL PEREIRA', 'MIRACEMA', 'NATIVIDADE', 'NILÓPOLIS', 'NITERÓI', 'NOVA FRIBURGO', 'NOVA IGUAÇU', 'PARACAMBI', 'PARAÍBA DO SUL', 'PARATY', 'PATY DO ALFERES', 'PETRÓPOLIS', 'PINHEIRAL', 'PIRAÍ', 'PORCIÚNCULA', 'PORTO REAL', 'QUATIS', 'QUEIMADOS', 'QUISSAMÃ', 'RESENDE', 'RIO BONITO', 'RIO CLARO', 'RIO DAS FLORES', 'RIO DAS OSTRAS', 'RIO DE JANEIRO', 'SANTA MARIA MADALENA', 'SANTO ANTÔNIO DE PÁDUA', 'SÃO FIDÉLIS', 'SÃO FRANCISCO DE ITABAPOANA', 'SÃO GONÇALO', 'SÃO JOÃO DA BARRA', 'SÃO JOÃO DE MERITI', 'SÃO JOSÉ DE UBÁ', 'SÃO JOSÉ DO VALE DO RIO PRETO', 'SÃO PEDRO DA ALDEIA', 'SÃO SEBASTIÃO DO ALTO', 'SAQUAREMA', 'SEROPÉDICA', 'SILVA JARDIM', 'SUMIDOURO', 'TANGUÁ', 'TERESÓPOLIS', 'TRAJANO DE MORAES', 'TRÊS RIOS', 'VARRE-SAI', 'VASSOURAS', 'VOLTA REDONDA', 'ACARI', 'AÇU', 'AFONSO BEZERRA', 'ÁGUA NOVA', 'ALEXANDRIA', 'ALMINO AFONSO', 'ALTO DO RODRIGUES', 'ANGICOS', 'ANTÔNIO MARTINS', 'APODI', 'AREIA BRANCA', 'ARÊS', 'BAÍA FORMOSA', 'BARCELONA', 'BENTO FERNANDES', 'BODÓ', 'CAIÇARA DO NORTE', 'CAIÇARA DO RIO DO VENTO', 'CAICÓ', 'CAMPO REDONDO', 'CANGUARETAMA', 'CARNAÚBA DOS DANTAS', 'CARNAUBAIS', 'CEARÁ-MIRIM', 'CERRO CORÁ', 'CORONEL EZEQUIEL', 'CORONEL JOÃO PESSOA', 'CRUZETA', 'CURRAIS NOVOS', 'DOUTOR SEVERIANO', 'ENCANTO', 'EQUADOR', 'ESPÍRITO SANTO', 'EXTREMOZ', 'FELIPE GUERRA', 'FERNANDO PEDROZA', 'FLORÂNIA', 'FRANCISCO DANTAS', 'FRUTUOSO GOMES', 'GALINHOS', 'GOIANINHA', 'GOVERNADOR DIX-SEPT ROSADO', 'GROSSOS', 'GUAMARÉ', 'IELMO MARINHO', 'IPANGUAÇU', 'IPUEIRA', 'ITAÚ', 'JAÇANÃ', 'JANDUÍS', 'JANUÁRIO CICCO', 'JAPI', 'JARDIM DE ANGICOS', 'JARDIM DE PIRANHAS', 'JARDIM DO SERIDÓ', 'JOÃO CÂMARA', 'JOÃO DIAS', 'JOSÉ DA PENHA', 'JUCURUTU', \"LAGOA D'ANTA\", 'LAGOA DE PEDRAS', 'LAGOA DE VELHOS', 'LAGOA NOVA', 'LAGOA SALGADA', 'LAJES', 'LAJES PINTADAS', 'LUCRÉCIA', 'LUÍS GOMES', 'MACAÍBA', 'MACAU', 'MAJOR SALES', 'MARCELINO VIEIRA', 'MARTINS', 'MAXARANGUAPE', 'MESSIAS TARGINO', 'MONTANHAS', 'MONTE DAS GAMELEIRAS', 'MOSSORÓ', 'NATAL', 'NÍSIA FLORESTA', 'NOVA CRUZ', \"OLHO D'ÁGUA DO BORGES\", 'PARANÁ', 'PARAÚ', 'PARAZINHO', 'PARELHAS', 'PASSA E FICA', 'PATU', 'PAU DOS FERROS', 'PEDRA GRANDE', 'PEDRO AVELINO', 'PEDRO VELHO', 'PENDÊNCIAS', 'POÇO BRANCO', 'PORTALEGRE', 'PORTO DO MANGUE', 'PUREZA', 'RAFAEL FERNANDES', 'RAFAEL GODEIRO', 'RIACHO DA CRUZ', 'RIACHUELO', 'RIO DO FOGO', 'RODOLFO FERNANDES', 'SANTA MARIA', 'SANTANA DO MATOS', 'SANTANA DO SERIDÓ', 'SANTO ANTÔNIO', 'SÃO BENTO DO NORTE', 'SÃO BENTO DO TRAIRÍ', 'SÃO FERNANDO', 'SÃO FRANCISCO DO OESTE', 'SÃO JOÃO DO SABUGI', 'SÃO JOSÉ DE MIPIBU', 'SÃO JOSÉ DO CAMPESTRE', 'SÃO JOSÉ DO SERIDÓ', 'SÃO MIGUEL', 'SÃO MIGUEL DO GOSTOSO', 'SÃO PAULO DO POTENGI', 'SÃO PEDRO', 'SÃO RAFAEL', 'SÃO VICENTE', 'SENADOR ELÓI DE SOUZA', 'SENADOR GEORGINO AVELINO', 'SERRA CAIADA', 'SERRA DE SÃO BENTO', 'SERRA DO MEL', 'SERRA NEGRA DO NORTE', 'SERRINHA DOS PINTOS', 'SEVERIANO MELO', 'TABOLEIRO GRANDE', 'TAIPU', 'TANGARÁ', 'TENENTE ANANIAS', 'TENENTE LAURENTINO CRUZ', 'TIBAU', 'TIBAU DO SUL', 'TIMBAÚBA DOS BATISTAS', 'TOUROS', 'TRIUNFO POTIGUAR', 'UMARIZAL', 'UPANEMA', 'VENHA-VER', 'VILA FLOR', \"ALTA FLORESTA D'OESTE\", 'ALTO ALEGRE DOS PARECIS', \"ALVORADA D'OESTE\", 'ARIQUEMES', 'CABIXI', 'CACAULÂNDIA', 'CACOAL', 'CAMPO NOVO DE RONDÔNIA', 'CANDEIAS DO JAMARI', 'CASTANHEIRAS', 'CEREJEIRAS', 'CHUPINGUAIA', 'COLORADO DO OESTE', 'CORUMBIARA', 'COSTA MARQUES', 'CUJUBIM', \"ESPIGÃO D'OESTE\", 'GOVERNADOR JORGE TEIXEIRA', 'GUAJARÁ-MIRIM', 'ITAPUÃ DO OESTE', 'JARU', 'JI-PARANÁ', \"MACHADINHO D'OESTE\", 'MINISTRO ANDREAZZA', 'MIRANTE DA SERRA', 'MONTE NEGRO', \"NOVA BRASILÂNDIA D'OESTE\", 'NOVA MAMORÉ', 'NOVO HORIZONTE DO OESTE', 'OURO PRETO DO OESTE', 'PARECIS', 'PIMENTA BUENO', 'PIMENTEIRAS DO OESTE', 'PORTO VELHO', 'PRIMAVERA DE RONDÔNIA', 'RIO CRESPO', 'ROLIM DE MOURA', \"SANTA LUZIA D'OESTE\", \"SÃO FELIPE D'OESTE\", 'SÃO FRANCISCO DO GUAPORÉ', 'SÃO MIGUEL DO GUAPORÉ', 'SERINGUEIRAS', 'TEIXEIRÓPOLIS', 'THEOBROMA', 'URUPÁ', 'VALE DO ANARI', 'VALE DO PARAÍSO', 'VILHENA', 'ALTO ALEGRE', 'AMAJARI', 'CANTÁ', 'CARACARAÍ', 'CAROEBE', 'MUCAJAÍ', 'NORMANDIA', 'PACARAIMA', 'RORAINÓPOLIS', 'SÃO JOÃO DA BALIZA', 'SÃO LUIZ', 'UIRAMUTÃ', 'ACEGUÁ', 'ÁGUA SANTA', 'AGUDO', 'AJURICABA', 'ALECRIM', 'ALEGRETE', 'ALEGRIA', 'ALMIRANTE TAMANDARÉ DO SUL', 'ALPESTRE', 'ALTO FELIZ', 'ALVORADA', 'AMARAL FERRADOR', 'AMETISTA DO SUL', 'ANDRÉ DA ROCHA', 'ANTA GORDA', 'ANTÔNIO PRADO', 'ARAMBARÉ', 'ARARICÁ', 'ARATIBA', 'ARROIO DO MEIO', 'ARROIO DO PADRE', 'ARROIO DO SAL', 'ARROIO DO TIGRE', 'ARROIO DOS RATOS', 'ARROIO GRANDE', 'ARVOREZINHA', 'AUGUSTO PESTANA', 'ÁUREA', 'BAGÉ', 'BALNEÁRIO PINHAL', 'BARÃO', 'BARÃO DE COTEGIPE', 'BARÃO DO TRIUNFO', 'BARRA DO GUARITA', 'BARRA DO QUARAÍ', 'BARRA DO RIBEIRO', 'BARRA DO RIO AZUL', 'BARRA FUNDA', 'BARROS CASSAL', 'BENJAMIN CONSTANT DO SUL', 'BENTO GONÇALVES', 'BOA VISTA DAS MISSÕES', 'BOA VISTA DO BURICÁ', 'BOA VISTA DO CADEADO', 'BOA VISTA DO INCRA', 'BOA VISTA DO SUL', 'BOM PRINCÍPIO', 'BOM PROGRESSO', 'BOM RETIRO DO SUL', 'BOQUEIRÃO DO LEÃO', 'BOSSOROCA', 'BOZANO', 'BRAGA', 'BROCHIER', 'BUTIÁ', 'CAÇAPAVA DO SUL', 'CACEQUI', 'CACHOEIRA DO SUL', 'CACIQUE DOBLE', 'CAIBATÉ', 'CAMAQUÃ', 'CAMARGO', 'CAMBARÁ DO SUL', 'CAMPESTRE DA SERRA', 'CAMPINA DAS MISSÕES', 'CAMPINAS DO SUL', 'CAMPO BOM', 'CAMPO NOVO', 'CAMPOS BORGES', 'CANDELÁRIA', 'CÂNDIDO GODÓI', 'CANDIOTA', 'CANELA', 'CANGUÇU', 'CANOAS', 'CANUDOS DO VALE', 'CAPÃO BONITO DO SUL', 'CAPÃO DA CANOA', 'CAPÃO DO CIPÓ', 'CAPÃO DO LEÃO', 'CAPELA DE SANTANA', 'CAPITÃO', 'CAPIVARI DO SUL', 'CARAÁ', 'CARAZINHO', 'CARLOS BARBOSA', 'CARLOS GOMES', 'CASCA', 'CASEIROS', 'CATUÍPE', 'CAXIAS DO SUL', 'CENTENÁRIO', 'CERRITO', 'CERRO BRANCO', 'CERRO GRANDE', 'CERRO GRANDE DO SUL', 'CERRO LARGO', 'CHAPADA', 'CHARQUEADAS', 'CHARRUA', 'CHIAPETTA', 'CHUÍ', 'CHUVISCA', 'CIDREIRA', 'CIRÍACO', 'CONDOR', 'CONSTANTINA', 'COQUEIRO BAIXO', 'COQUEIROS DO SUL', 'CORONEL BARROS', 'CORONEL BICACO', 'CORONEL PILAR', 'COTIPORÃ', 'COXILHA', 'CRISSIUMAL', 'CRISTAL', 'CRISTAL DO SUL', 'CRUZ ALTA', 'CRUZALTENSE', 'DAVID CANABARRO', 'DERRUBADAS', 'DEZESSEIS DE NOVEMBRO', 'DILERMANDO DE AGUIAR', 'DOIS IRMÃOS', 'DOIS IRMÃOS DAS MISSÕES', 'DOIS LAJEADOS', 'DOM FELICIANO', 'DOM PEDRITO', 'DOM PEDRO DE ALCÂNTARA', 'DONA FRANCISCA', 'DOUTOR MAURÍCIO CARDOSO', 'DOUTOR RICARDO', 'ELDORADO DO SUL', 'ENCANTADO', 'ENCRUZILHADA DO SUL', 'ENGENHO VELHO', 'ENTRE RIOS DO SUL', 'ENTRE-IJUÍS', 'EREBANGO', 'ERECHIM', 'ERNESTINA', 'ERVAL GRANDE', 'ERVAL SECO', 'ESMERALDA', 'ESPERANÇA DO SUL', 'ESPUMOSO', 'ESTAÇÃO', 'ESTÂNCIA VELHA', 'ESTEIO', 'ESTRELA', 'ESTRELA VELHA', 'EUGÊNIO DE CASTRO', 'FAGUNDES VARELA', 'FARROUPILHA', 'FAXINAL DO SOTURNO', 'FAXINALZINHO', 'FAZENDA VILANOVA', 'FELIZ', 'FLORES DA CUNHA', 'FLORIANO PEIXOTO', 'FONTOURA XAVIER', 'FORMIGUEIRO', 'FORQUETINHA', 'FORTALEZA DOS VALOS', 'FREDERICO WESTPHALEN', 'GARIBALDI', 'GARRUCHOS', 'GAURAMA', 'GENERAL CÂMARA', 'GENTIL', 'GETÚLIO VARGAS', 'GIRUÁ', 'GLORINHA', 'GRAMADO', 'GRAMADO DOS LOUREIROS', 'GRAMADO XAVIER', 'GRAVATAÍ', 'GUABIJU', 'GUAÍBA', 'GUAPORÉ', 'GUARANI DAS MISSÕES', 'HARMONIA', 'HERVAL', 'HERVEIRAS', 'HORIZONTINA', 'HULHA NEGRA', 'IBARAMA', 'IBIAÇÁ', 'IBIRAIARAS', 'IBIRAPUITÃ', 'IBIRUBÁ', 'IGREJINHA', 'IJUÍ', 'ILÓPOLIS', 'IMBÉ', 'IMIGRANTE', 'INHACORÁ', 'IPÊ', 'IPIRANGA DO SUL', 'IRAÍ', 'ITAARA', 'ITACURUBI', 'ITAPUCA', 'ITAQUI', 'ITATI', 'ITATIBA DO SUL', 'IVORÁ', 'IVOTI', 'JABOTICABA', 'JACUIZINHO', 'JAGUARÃO', 'JAGUARI', 'JAQUIRANA', 'JARI', 'JÓIA', 'JÚLIO DE CASTILHOS', 'LAGOA BONITA DO SUL', 'LAGOA DOS TRÊS CANTOS', 'LAGOA VERMELHA', 'LAGOÃO', 'LAJEADO', 'LAJEADO DO BUGRE', 'LAVRAS DO SUL', 'LIBERATO SALZANO', 'LINDOLFO COLLOR', 'LINHA NOVA', 'MAÇAMBARÁ', 'MACHADINHO', 'MAMPITUBA', 'MANOEL VIANA', 'MAQUINÉ', 'MARATÁ', 'MARAU', 'MARCELINO RAMOS', 'MARIANA PIMENTEL', 'MARIANO MORO', 'MARQUES DE SOUZA', 'MATA', 'MATO CASTELHANO', 'MATO LEITÃO', 'MATO QUEIMADO', 'MAXIMILIANO DE ALMEIDA', 'MINAS DO LEÃO', 'MIRAGUAÍ', 'MONTAURI', 'MONTE ALEGRE DOS CAMPOS', 'MONTE BELO DO SUL', 'MONTENEGRO', 'MORMAÇO', 'MORRINHOS DO SUL', 'MORRO REDONDO', 'MORRO REUTER', 'MOSTARDAS', 'MUÇUM', 'MUITOS CAPÕES', 'MULITERNO', 'NÃO-ME-TOQUE', 'NICOLAU VERGUEIRO', 'NONOAI', 'NOVA ALVORADA', 'NOVA ARAÇÁ', 'NOVA BASSANO', 'NOVA BOA VISTA', 'NOVA BRÉSCIA', 'NOVA CANDELÁRIA', 'NOVA ESPERANÇA DO SUL', 'NOVA HARTZ', 'NOVA PÁDUA', 'NOVA PALMA', 'NOVA PETRÓPOLIS', 'NOVA PRATA', 'NOVA RAMADA', 'NOVA ROMA DO SUL', 'NOVO BARREIRO', 'NOVO CABRAIS', 'NOVO HAMBURGO', 'NOVO MACHADO', 'NOVO TIRADENTES', 'NOVO XINGU', 'OSÓRIO', 'PAIM FILHO', 'PALMARES DO SUL', 'PALMEIRA DAS MISSÕES', 'PALMITINHO', 'PANAMBI', 'PANTANO GRANDE', 'PARAÍ', 'PARAÍSO DO SUL', 'PARECI NOVO', 'PAROBÉ', 'PASSA SETE', 'PASSO DO SOBRADO', 'PASSO FUNDO', 'PAULO BENTO', 'PAVERAMA', 'PEDRAS ALTAS', 'PEDRO OSÓRIO', 'PEJUÇARA', 'PELOTAS', 'PICADA CAFÉ', 'PINHAL', 'PINHAL DA SERRA', 'PINHAL GRANDE', 'PINHEIRINHO DO VALE', 'PINHEIRO MACHADO', 'PINTO BANDEIRA', 'PIRAPÓ', 'PIRATINI', 'POÇO DAS ANTAS', 'PONTÃO', 'PONTE PRETA', 'PORTÃO', 'PORTO ALEGRE', 'PORTO LUCENA', 'PORTO MAUÁ', 'PORTO VERA CRUZ', 'PORTO XAVIER', 'POUSO NOVO', 'PRESIDENTE LUCENA', 'PROGRESSO', 'PROTÁSIO ALVES', 'PUTINGA', 'QUARAÍ', 'QUATRO IRMÃOS', 'QUEVEDOS', 'QUINZE DE NOVEMBRO', 'REDENTORA', 'RELVADO', 'RESTINGA SÊCA', 'RIO DOS ÍNDIOS', 'RIO GRANDE', 'RIO PARDO', 'RIOZINHO', 'ROCA SALES', 'RODEIO BONITO', 'ROLADOR', 'ROLANTE', 'RONDA ALTA', 'RONDINHA', 'ROQUE GONZALES', 'ROSÁRIO DO SUL', 'SAGRADA FAMÍLIA', 'SALDANHA MARINHO', 'SALTO DO JACUÍ', 'SALVADOR DAS MISSÕES', 'SALVADOR DO SUL', 'SANANDUVA', 'SANTA BÁRBARA DO SUL', 'SANTA CECÍLIA DO SUL', 'SANTA CLARA DO SUL', 'SANTA CRUZ DO SUL', 'SANTA MARGARIDA DO SUL', 'SANTA MARIA DO HERVAL', 'SANTA ROSA', 'SANTA TEREZA', 'SANTA VITÓRIA DO PALMAR', 'SANTANA DA BOA VISTA', \"SANT'ANA DO LIVRAMENTO\", 'SANTIAGO', 'SANTO ÂNGELO', 'SANTO ANTÔNIO DA PATRULHA', 'SANTO ANTÔNIO DAS MISSÕES', 'SANTO ANTÔNIO DO PALMA', 'SANTO ANTÔNIO DO PLANALTO', 'SANTO AUGUSTO', 'SANTO CRISTO', 'SANTO EXPEDITO DO SUL', 'SÃO BORJA', 'SÃO DOMINGOS DO SUL', 'SÃO FRANCISCO DE ASSIS', 'SÃO JERÔNIMO', 'SÃO JOÃO DA URTIGA', 'SÃO JOÃO DO POLÊSINE', 'SÃO JORGE', 'SÃO JOSÉ DAS MISSÕES', 'SÃO JOSÉ DO HERVAL', 'SÃO JOSÉ DO HORTÊNCIO', 'SÃO JOSÉ DO INHACORÁ', 'SÃO JOSÉ DO NORTE', 'SÃO JOSÉ DO OURO', 'SÃO JOSÉ DO SUL', 'SÃO JOSÉ DOS AUSENTES', 'SÃO LEOPOLDO', 'SÃO LOURENÇO DO SUL', 'SÃO LUIZ GONZAGA', 'SÃO MARCOS', 'SÃO MARTINHO', 'SÃO MARTINHO DA SERRA', 'SÃO MIGUEL DAS MISSÕES', 'SÃO NICOLAU', 'SÃO PAULO DAS MISSÕES', 'SÃO PEDRO DA SERRA', 'SÃO PEDRO DAS MISSÕES', 'SÃO PEDRO DO BUTIÁ', 'SÃO PEDRO DO SUL', 'SÃO SEBASTIÃO DO CAÍ', 'SÃO SEPÉ', 'SÃO VALENTIM', 'SÃO VALENTIM DO SUL', 'SÃO VALÉRIO DO SUL', 'SÃO VENDELINO', 'SÃO VICENTE DO SUL', 'SAPIRANGA', 'SAPUCAIA DO SUL', 'SEBERI', 'SEDE NOVA', 'SEGREDO', 'SELBACH', 'SENADOR SALGADO FILHO', 'SENTINELA DO SUL', 'SERAFINA CORRÊA', 'SÉRIO', 'SERTÃO', 'SERTÃO SANTANA', 'SETE DE SETEMBRO', 'SEVERIANO DE ALMEIDA', 'SILVEIRA MARTINS', 'SINIMBU', 'TABAÍ', 'TAPERA', 'TAPES', 'TAQUARA', 'TAQUARI', 'TAQUARUÇU DO SUL', 'TENENTE PORTELA', 'TERRA DE AREIA', 'TEUTÔNIA', 'TIO HUGO', 'TIRADENTES DO SUL', 'TOROPI', 'TORRES', 'TRAMANDAÍ', 'TRAVESSEIRO', 'TRÊS ARROIOS', 'TRÊS CACHOEIRAS', 'TRÊS COROAS', 'TRÊS DE MAIO', 'TRÊS FORQUILHAS', 'TRÊS PALMEIRAS', 'TRÊS PASSOS', 'TRINDADE DO SUL', 'TUCUNDUVA', 'TUNAS', 'TUPANCI DO SUL', 'TUPANCIRETÃ', 'TUPANDI', 'TUPARENDI', 'TURUÇU', 'UBIRETAMA', 'UNIÃO DA SERRA', 'UNISTALDA', 'URUGUAIANA', 'VACARIA', 'VALE DO SOL', 'VALE REAL', 'VALE VERDE', 'VANINI', 'VENÂNCIO AIRES', 'VERANÓPOLIS', 'VESPASIANO CORRÊA', 'VIADUTOS', 'VIAMÃO', 'VICENTE DUTRA', 'VICTOR GRAEFF', 'VILA FLORES', 'VILA LÂNGARO', 'VILA MARIA', 'VILA NOVA DO SUL', 'VISTA ALEGRE', 'VISTA ALEGRE DO PRATA', 'VISTA GAÚCHA', 'VITÓRIA DAS MISSÕES', 'WESTFÁLIA', 'XANGRI-LÁ', 'ABDON BATISTA', 'ABELARDO LUZ', 'AGROLÂNDIA', 'AGRONÔMICA', 'ÁGUA DOCE', 'ÁGUAS DE CHAPECÓ', 'ÁGUAS FRIAS', 'ÁGUAS MORNAS', 'ALFREDO WAGNER', 'ALTO BELA VISTA', 'ANCHIETA', 'ANGELINA', 'ANITA GARIBALDI', 'ANITÁPOLIS', 'APIÚNA', 'ARABUTÃ', 'ARAQUARI', 'ARARANGUÁ', 'ARMAZÉM', 'ARROIO TRINTA', 'ARVOREDO', 'ASCURRA', 'ATALANTA', 'BALNEÁRIO ARROIO DO SILVA', 'BALNEÁRIO BARRA DO SUL', 'BALNEÁRIO CAMBORIÚ', 'BALNEÁRIO GAIVOTA', 'BALNEÁRIO PIÇARRAS', 'BALNEÁRIO RINCÃO', 'BANDEIRANTE', 'BARRA BONITA', 'BARRA VELHA', 'BELA VISTA DO TOLDO', 'BENEDITO NOVO', 'BIGUAÇU', 'BLUMENAU', 'BOCAINA DO SUL', 'BOM JARDIM DA SERRA', 'BOM JESUS DO OESTE', 'BOM RETIRO', 'BOMBINHAS', 'BOTUVERÁ', 'BRAÇO DO NORTE', 'BRAÇO DO TROMBUDO', 'BRUNÓPOLIS', 'BRUSQUE', 'CAÇADOR', 'CAIBI', 'CALMON', 'CAMBORIÚ', 'CAMPO BELO DO SUL', 'CAMPO ERÊ', 'CAMPOS NOVOS', 'CANELINHA', 'CANOINHAS', 'CAPÃO ALTO', 'CAPINZAL', 'CAPIVARI DE BAIXO', 'CAXAMBU DO SUL', 'CELSO RAMOS', 'CERRO NEGRO', 'CHAPADÃO DO LAGEADO', 'CHAPECÓ', 'COCAL DO SUL', 'CONCÓRDIA', 'CORDILHEIRA ALTA', 'CORONEL FREITAS', 'CORONEL MARTINS', 'CORREIA PINTO', 'CORUPÁ', 'CRICIÚMA', 'CUNHA PORÃ', 'CUNHATAÍ', 'CURITIBANOS', 'DESCANSO', 'DIONÍSIO CERQUEIRA', 'DONA EMMA', 'DOUTOR PEDRINHO', 'ERMO', 'ERVAL VELHO', 'FAXINAL DOS GUEDES', 'FLOR DO SERTÃO', 'FLORIANÓPOLIS', 'FORMOSA DO SUL', 'FORQUILHINHA', 'FRAIBURGO', 'FREI ROGÉRIO', 'GALVÃO', 'GAROPABA', 'GARUVA', 'GASPAR', 'GOVERNADOR CELSO RAMOS', 'GRÃO-PARÁ', 'GRAVATAL', 'GUABIRUBA', 'GUARAMIRIM', 'GUARUJÁ DO SUL', 'GUATAMBÚ', \"HERVAL D'OESTE\", 'IBIAM', 'IBICARÉ', 'IBIRAMA', 'IÇARA', 'ILHOTA', 'IMARUÍ', 'IMBITUBA', 'IMBUIA', 'INDAIAL', 'IOMERÊ', 'IPIRA', 'IPORÃ DO OESTE', 'IPUAÇU', 'IPUMIRIM', 'IRACEMINHA', 'IRANI', 'IRINEÓPOLIS', 'ITÁ', 'ITAIÓPOLIS', 'ITAJAÍ', 'ITAPEMA', 'ITAPOÁ', 'ITUPORANGA', 'JABORÁ', 'JACINTO MACHADO', 'JAGUARUNA', 'JARAGUÁ DO SUL', 'JARDINÓPOLIS', 'JOAÇABA', 'JOINVILLE', 'JOSÉ BOITEUX', 'JUPIÁ', 'LACERDÓPOLIS', 'LAGES', 'LAGUNA', 'LAJEADO GRANDE', 'LAURENTINO', 'LAURO MÜLLER', 'LEBON RÉGIS', 'LEOBERTO LEAL', 'LINDÓIA DO SUL', 'LONTRAS', 'LUIZ ALVES', 'LUZERNA', 'MACIEIRA', 'MAFRA', 'MAJOR GERCINO', 'MAJOR VIEIRA', 'MARACAJÁ', 'MAREMA', 'MATOS COSTA', 'MELEIRO', 'MIRIM DOCE', 'MODELO', 'MONDAÍ', 'MONTE CARLO', 'MONTE CASTELO', 'MORRO DA FUMAÇA', 'MORRO GRANDE', 'NAVEGANTES', 'NOVA ERECHIM', 'NOVA ITABERABA', 'NOVA TRENTO', 'ORLEANS', 'OTACÍLIO COSTA', 'OURO', 'OURO VERDE', 'PAIAL', 'PAINEL', 'PALHOÇA', 'PALMA SOLA', 'PALMITOS', 'PAPANDUVA', 'PARAÍSO', 'PASSO DE TORRES', 'PASSOS MAIA', 'PAULO LOPES', 'PEDRAS GRANDES', 'PENHA', 'PERITIBA', 'PESCARIA BRAVA', 'PINHALZINHO', 'PINHEIRO PRETO', 'PIRATUBA', 'PLANALTO ALEGRE', 'POMERODE', 'PONTE ALTA', 'PONTE ALTA DO NORTE', 'PONTE SERRADA', 'PORTO BELO', 'PORTO UNIÃO', 'POUSO REDONDO', 'PRAIA GRANDE', 'PRESIDENTE CASTELLO BRANCO', 'PRESIDENTE GETÚLIO', 'PRESIDENTE NEREU', 'PRINCESA', 'QUILOMBO', 'RANCHO QUEIMADO', 'RIO DAS ANTAS', 'RIO DO CAMPO', 'RIO DO OESTE', 'RIO DO SUL', 'RIO DOS CEDROS', 'RIO FORTUNA', 'RIO NEGRINHO', 'RIO RUFINO', 'RIQUEZA', 'RODEIO', 'ROMELÂNDIA', 'SALETE', 'SALTINHO', 'SALTO VELOSO', 'SANGÃO', 'SANTA ROSA DE LIMA', 'SANTA ROSA DO SUL', 'SANTA TEREZINHA DO PROGRESSO', 'SANTIAGO DO SUL', 'SANTO AMARO DA IMPERATRIZ', 'SÃO BENTO DO SUL', 'SÃO BERNARDINO', 'SÃO BONIFÁCIO', 'SÃO CARLOS', 'SÃO CRISTÓVÃO DO SUL', 'SÃO FRANCISCO DO SUL', 'SÃO JOÃO DO ITAPERIÚ', 'SÃO JOÃO DO OESTE', 'SÃO JOÃO DO SUL', 'SÃO JOAQUIM', 'SÃO JOSÉ', 'SÃO JOSÉ DO CEDRO', 'SÃO JOSÉ DO CERRITO', 'SÃO LOURENÇO DO OESTE', 'SÃO LUDGERO', 'SÃO MIGUEL DA BOA VISTA', 'SÃO MIGUEL DO OESTE', 'SÃO PEDRO DE ALCÂNTARA', 'SAUDADES', 'SCHROEDER', 'SEARA', 'SERRA ALTA', 'SIDERÓPOLIS', 'SOMBRIO', 'SUL BRASIL', 'TAIÓ', 'TIGRINHOS', 'TIJUCAS', 'TIMBÉ DO SUL', 'TIMBÓ', 'TIMBÓ GRANDE', 'TRÊS BARRAS', 'TREVISO', 'TREZE DE MAIO', 'TREZE TÍLIAS', 'TROMBUDO CENTRAL', 'TUBARÃO', 'TUNÁPOLIS', 'UNIÃO DO OESTE', 'URUBICI', 'URUPEMA', 'URUSSANGA', 'VARGEÃO', 'VARGEM', 'VIDAL RAMOS', 'VIDEIRA', 'VITOR MEIRELES', 'WITMARSUM', 'XANXERÊ', 'XAVANTINA', 'XAXIM', 'ZORTÉA', 'AMPARO DO SÃO FRANCISCO', 'AQUIDABÃ', 'ARACAJU', 'ARAUÁ', 'BARRA DOS COQUEIROS', 'BOQUIM', 'BREJO GRANDE', 'CAMPO DO BRITO', 'CANHOBA', 'CANINDÉ DE SÃO FRANCISCO', 'CARIRA', 'CARMÓPOLIS', 'CEDRO DE SÃO JOÃO', 'CRISTINÁPOLIS', 'CUMBE', 'DIVINA PASTORA', 'ESTÂNCIA', 'FREI PAULO', 'GARARU', 'GENERAL MAYNARD', 'GRACHO CARDOSO', 'ILHA DAS FLORES', 'INDIAROBA', 'ITABAIANINHA', 'ITABI', \"ITAPORANGA D'AJUDA\", 'JAPARATUBA', 'JAPOATÃ', 'LAGARTO', 'LARANJEIRAS', 'MACAMBIRA', 'MALHADA DOS BOIS', 'MALHADOR', 'MARUIM', 'MOITA BONITA', 'MONTE ALEGRE DE SERGIPE', 'MURIBECA', 'NEÓPOLIS', 'NOSSA SENHORA APARECIDA', 'NOSSA SENHORA DA GLÓRIA', 'NOSSA SENHORA DAS DORES', 'NOSSA SENHORA DE LOURDES', 'NOSSA SENHORA DO SOCORRO', 'PEDRA MOLE', 'PEDRINHAS', 'PIRAMBU', 'POÇO REDONDO', 'POÇO VERDE', 'PORTO DA FOLHA', 'PROPRIÁ', 'RIACHÃO DO DANTAS', 'RIBEIRÓPOLIS', 'ROSÁRIO DO CATETE', 'SALGADO', 'SANTA LUZIA DO ITANHY', 'SANTANA DO SÃO FRANCISCO', 'SANTO AMARO DAS BROTAS', 'SÃO CRISTÓVÃO', 'SÃO MIGUEL DO ALEIXO', 'SIMÃO DIAS', 'SIRIRI', 'TELHA', 'TOBIAS BARRETO', 'TOMAR DO GERU', 'UMBAÚBA', 'ADAMANTINA', 'ADOLFO', 'AGUAÍ', 'ÁGUAS DA PRATA', 'ÁGUAS DE LINDÓIA', 'ÁGUAS DE SANTA BÁRBARA', 'ÁGUAS DE SÃO PEDRO', 'AGUDOS', 'ALAMBARI', 'ALFREDO MARCONDES', 'ALTAIR', 'ALTINÓPOLIS', 'ALUMÍNIO', 'ÁLVARES FLORENCE', 'ÁLVARES MACHADO', 'ÁLVARO DE CARVALHO', 'ALVINLÂNDIA', 'AMERICANA', 'AMÉRICO BRASILIENSE', 'AMÉRICO DE CAMPOS', 'ANALÂNDIA', 'ANDRADINA', 'ANGATUBA', 'ANHEMBI', 'ANHUMAS', \"APARECIDA D'OESTE\", 'APIAÍ', 'ARAÇARIGUAMA', 'ARAÇATUBA', 'ARAÇOIABA DA SERRA', 'ARAMINA', 'ARANDU', 'ARAPEÍ', 'ARARAQUARA', 'ARARAS', 'ARCO-ÍRIS', 'AREALVA', 'AREIAS', 'AREIÓPOLIS', 'ARIRANHA', 'ARTUR NOGUEIRA', 'ARUJÁ', 'ASPÁSIA', 'ASSIS', 'ATIBAIA', 'AURIFLAMA', 'AVAÍ', 'AVANHANDAVA', 'AVARÉ', 'BADY BASSITT', 'BALBINOS', 'BÁLSAMO', 'BANANAL', 'BARÃO DE ANTONINA', 'BARBOSA', 'BARIRI', 'BARRA DO CHAPÉU', 'BARRA DO TURVO', 'BARRETOS', 'BARRINHA', 'BARUERI', 'BASTOS', 'BATATAIS', 'BAURU', 'BEBEDOURO', 'BENTO DE ABREU', 'BERNARDINO DE CAMPOS', 'BERTIOGA', 'BILAC', 'BIRIGUI', 'BIRITIBA MIRIM', 'BOA ESPERANÇA DO SUL', 'BOFETE', 'BOITUVA', 'BOM JESUS DOS PERDÕES', 'BOM SUCESSO DE ITARARÉ', 'BORÁ', 'BORACÉIA', 'BOREBI', 'BOTUCATU', 'BRAGANÇA PAULISTA', 'BRAÚNA', 'BREJO ALEGRE', 'BRODOWSKI', 'BROTAS', 'BURI', 'BURITAMA', 'BURITIZAL', 'CABRÁLIA PAULISTA', 'CABREÚVA', 'CAÇAPAVA', 'CACHOEIRA PAULISTA', 'CACONDE', 'CAIABU', 'CAIEIRAS', 'CAIUÁ', 'CAJAMAR', 'CAJATI', 'CAJOBI', 'CAJURU', 'CAMPINA DO MONTE ALEGRE', 'CAMPINAS', 'CAMPO LIMPO PAULISTA', 'CAMPOS DO JORDÃO', 'CAMPOS NOVOS PAULISTA', 'CANANÉIA', 'CANAS', 'CÂNDIDO MOTA', 'CÂNDIDO RODRIGUES', 'CANITAR', 'CAPÃO BONITO', 'CAPELA DO ALTO', 'CAPIVARI', 'CARAGUATATUBA', 'CARAPICUÍBA', 'CARDOSO', 'CASA BRANCA', 'CÁSSIA DOS COQUEIROS', 'CASTILHO', 'CATANDUVA', 'CATIGUÁ', 'CERQUEIRA CÉSAR', 'CERQUILHO', 'CESÁRIO LANGE', 'CHARQUEADA', 'CHAVANTES', 'CLEMENTINA', 'COLINA', 'COLÔMBIA', 'CONCHAL', 'CONCHAS', 'CORDEIRÓPOLIS', 'COROADOS', 'CORONEL MACEDO', 'CORUMBATAÍ', 'COSMÓPOLIS', 'COSMORAMA', 'COTIA', 'CRAVINHOS', 'CRISTAIS PAULISTA', 'CRUZÁLIA', 'CRUZEIRO', 'CUBATÃO', 'CUNHA', 'DESCALVADO', 'DIADEMA', 'DIRCE REIS', 'DIVINOLÂNDIA', 'DOBRADA', 'DOIS CÓRREGOS', 'DOLCINÓPOLIS', 'DOURADO', 'DRACENA', 'DUARTINA', 'DUMONT', 'ECHAPORÃ', 'ELIAS FAUSTO', 'ELISIÁRIO', 'EMBAÚBA', 'EMBU DAS ARTES', 'EMBU-GUAÇU', 'EMILIANÓPOLIS', 'ENGENHEIRO COELHO', 'ESPÍRITO SANTO DO PINHAL', 'ESPÍRITO SANTO DO TURVO', 'ESTIVA GERBI', \"ESTRELA D'OESTE\", 'EUCLIDES DA CUNHA PAULISTA', 'FARTURA', 'FERNANDO PRESTES', 'FERNANDÓPOLIS', 'FERNÃO', 'FERRAZ DE VASCONCELOS', 'FLORA RICA', 'FLOREAL', 'FLÓRIDA PAULISTA', 'FLORÍNEA', 'FRANCA', 'FRANCISCO MORATO', 'FRANCO DA ROCHA', 'GABRIEL MONTEIRO', 'GÁLIA', 'GARÇA', 'GASTÃO VIDIGAL', 'GAVIÃO PEIXOTO', 'GENERAL SALGADO', 'GETULINA', 'GLICÉRIO', 'GUAIÇARA', 'GUAIMBÊ', 'GUAPIAÇU', 'GUAPIARA', 'GUARÁ', 'GUARAÇAÍ', \"GUARANI D'OESTE\", 'GUARANTÃ', 'GUARARAPES', 'GUARAREMA', 'GUARATINGUETÁ', 'GUAREÍ', 'GUARIBA', 'GUARUJÁ', 'GUARULHOS', 'GUATAPARÁ', 'GUZOLÂNDIA', 'HERCULÂNDIA', 'HOLAMBRA', 'HORTOLÂNDIA', 'IACANGA', 'IACRI', 'IARAS', 'IBATÉ', 'IBIRÁ', 'IBIRAREMA', 'IBITINGA', 'IBIÚNA', 'ICÉM', 'IEPÊ', 'IGARAÇU DO TIETÊ', 'IGARAPAVA', 'IGARATÁ', 'IGUAPE', 'ILHA COMPRIDA', 'ILHA SOLTEIRA', 'ILHABELA', 'INDAIATUBA', 'INDIANA', 'INDIAPORÃ', 'INÚBIA PAULISTA', 'IPAUSSU', 'IPERÓ', 'IPEÚNA', 'IPIGUÁ', 'IPORANGA', 'IPUÃ', 'IRACEMÁPOLIS', 'IRAPUÃ', 'IRAPURU', 'ITABERÁ', 'ITAÍ', 'ITAJOBI', 'ITAJU', 'ITANHAÉM', 'ITAOCA', 'ITAPECERICA DA SERRA', 'ITAPETININGA', 'ITAPEVI', 'ITAPIRA', 'ITAPIRAPUÃ PAULISTA', 'ITÁPOLIS', 'ITAPUÍ', 'ITAPURA', 'ITAQUAQUECETUBA', 'ITARARÉ', 'ITARIRI', 'ITATIBA', 'ITATINGA', 'ITIRAPINA', 'ITIRAPUÃ', 'ITOBI', 'ITU', 'ITUPEVA', 'ITUVERAVA', 'JABOTICABAL', 'JACAREÍ', 'JACI', 'JACUPIRANGA', 'JAGUARIÚNA', 'JALES', 'JAMBEIRO', 'JANDIRA', 'JARINU', 'JAÚ', 'JERIQUARA', 'JOANÓPOLIS', 'JOÃO RAMALHO', 'JOSÉ BONIFÁCIO', 'JÚLIO MESQUITA', 'JUMIRIM', 'JUNDIAÍ', 'JUNQUEIRÓPOLIS', 'JUQUIÁ', 'JUQUITIBA', 'LAGOINHA', 'LARANJAL PAULISTA', 'LAVÍNIA', 'LAVRINHAS', 'LEME', 'LENÇÓIS PAULISTA', 'LIMEIRA', 'LINDÓIA', 'LINS', 'LORENA', 'LOURDES', 'LOUVEIRA', 'LUCÉLIA', 'LUCIANÓPOLIS', 'LUÍS ANTÔNIO', 'LUIZIÂNIA', 'LUPÉRCIO', 'LUTÉCIA', 'MACATUBA', 'MACAUBAL', 'MACEDÔNIA', 'MAGDA', 'MAIRINQUE', 'MAIRIPORÃ', 'MANDURI', 'MARABÁ PAULISTA', 'MARACAÍ', 'MARAPOAMA', 'MARIÁPOLIS', 'MARÍLIA', 'MARINÓPOLIS', 'MARTINÓPOLIS', 'MATÃO', 'MAUÁ', 'MENDONÇA', 'MERIDIANO', 'MESÓPOLIS', 'MIGUELÓPOLIS', 'MINEIROS DO TIETÊ', 'MIRA ESTRELA', 'MIRACATU', 'MIRANDÓPOLIS', 'MIRANTE DO PARANAPANEMA', 'MIRASSOL', 'MIRASSOLÂNDIA', 'MOCOCA', 'MOGI DAS CRUZES', 'MOGI GUAÇU', 'MOGI MIRIM', 'MOMBUCA', 'MONÇÕES', 'MONGAGUÁ', 'MONTE ALEGRE DO SUL', 'MONTE ALTO', 'MONTE APRAZÍVEL', 'MONTE AZUL PAULISTA', 'MONTE MOR', 'MONTEIRO LOBATO', 'MORRO AGUDO', 'MORUNGABA', 'MOTUCA', 'MURUTINGA DO SUL', 'NANTES', 'NARANDIBA', 'NATIVIDADE DA SERRA', 'NAZARÉ PAULISTA', 'NEVES PAULISTA', 'NHANDEARA', 'NIPOÃ', 'NOVA ALIANÇA', 'NOVA CAMPINA', 'NOVA CANAÃ PAULISTA', 'NOVA CASTILHO', 'NOVA EUROPA', 'NOVA GRANADA', 'NOVA GUATAPORANGA', 'NOVA INDEPENDÊNCIA', 'NOVA LUZITÂNIA', 'NOVA ODESSA', 'NOVAIS', 'NUPORANGA', 'OCAUÇU', 'ÓLEO', 'OLÍMPIA', 'ONDA VERDE', 'ORIENTE', 'ORINDIÚVA', 'ORLÂNDIA', 'OSASCO', 'OSCAR BRESSANE', 'OSVALDO CRUZ', 'OURINHOS', 'OUROESTE', 'PACAEMBU', 'PALMARES PAULISTA', \"PALMEIRA D'OESTE\", 'PANORAMA', 'PARAGUAÇU PAULISTA', 'PARAIBUNA', 'PARANAPANEMA', 'PARANAPUÃ', 'PARAPUÃ', 'PARDINHO', 'PARIQUERA-AÇU', 'PARISI', 'PATROCÍNIO PAULISTA', 'PAULICÉIA', 'PAULÍNIA', 'PAULISTÂNIA', 'PAULO DE FARIA', 'PEDERNEIRAS', 'PEDRA BELA', 'PEDRANÓPOLIS', 'PEDREGULHO', 'PEDREIRA', 'PEDRINHAS PAULISTA', 'PEDRO DE TOLEDO', 'PENÁPOLIS', 'PEREIRA BARRETO', 'PEREIRAS', 'PERUÍBE', 'PIACATU', 'PIEDADE', 'PILAR DO SUL', 'PINDAMONHANGABA', 'PINDORAMA', 'PIQUEROBI', 'PIQUETE', 'PIRACAIA', 'PIRACICABA', 'PIRAJU', 'PIRAJUÍ', 'PIRANGI', 'PIRAPORA DO BOM JESUS', 'PIRAPOZINHO', 'PIRASSUNUNGA', 'PIRATININGA', 'PLATINA', 'POÁ', 'POLONI', 'POMPÉIA', 'PONGAÍ', 'PONTAL', 'PONTALINDA', 'PONTES GESTAL', 'POPULINA', 'PORANGABA', 'PORTO FELIZ', 'PORTO FERREIRA', 'POTIM', 'POTIRENDABA', 'PRACINHA', 'PRADÓPOLIS', 'PRATÂNIA', 'PRESIDENTE ALVES', 'PRESIDENTE EPITÁCIO', 'PRESIDENTE PRUDENTE', 'PRESIDENTE VENCESLAU', 'PROMISSÃO', 'QUADRA', 'QUATÁ', 'QUEIROZ', 'QUELUZ', 'QUINTANA', 'RAFARD', 'RANCHARIA', 'REDENÇÃO DA SERRA', 'REGENTE FEIJÓ', 'REGINÓPOLIS', 'REGISTRO', 'RESTINGA', 'RIBEIRA', 'RIBEIRÃO BONITO', 'RIBEIRÃO BRANCO', 'RIBEIRÃO CORRENTE', 'RIBEIRÃO DO SUL', 'RIBEIRÃO DOS ÍNDIOS', 'RIBEIRÃO GRANDE', 'RIBEIRÃO PIRES', 'RIBEIRÃO PRETO', 'RIFAINA', 'RINCÃO', 'RINÓPOLIS', 'RIO DAS PEDRAS', 'RIO GRANDE DA SERRA', 'RIOLÂNDIA', 'RIVERSUL', 'ROSANA', 'ROSEIRA', 'RUBIÁCEA', 'RUBINÉIA', 'SABINO', 'SAGRES', 'SALES', 'SALES OLIVEIRA', 'SALESÓPOLIS', 'SALMOURÃO', 'SALTO', 'SALTO DE PIRAPORA', 'SALTO GRANDE', 'SANDOVALINA', 'SANTA ADÉLIA', 'SANTA ALBERTINA', \"SANTA BÁRBARA D'OESTE\", 'SANTA BRANCA', \"SANTA CLARA D'OESTE\", 'SANTA CRUZ DA CONCEIÇÃO', 'SANTA CRUZ DA ESPERANÇA', 'SANTA CRUZ DAS PALMEIRAS', 'SANTA CRUZ DO RIO PARDO', 'SANTA ERNESTINA', 'SANTA FÉ DO SUL', 'SANTA GERTRUDES', 'SANTA MARIA DA SERRA', 'SANTA MERCEDES', 'SANTA RITA DO PASSA QUATRO', \"SANTA RITA D'OESTE\", 'SANTA ROSA DE VITERBO', 'SANTA SALETE', 'SANTANA DA PONTE PENSA', 'SANTANA DE PARNAÍBA', 'SANTO ANASTÁCIO', 'SANTO ANTÔNIO DA ALEGRIA', 'SANTO ANTÔNIO DE POSSE', 'SANTO ANTÔNIO DO ARACANGUÁ', 'SANTO ANTÔNIO DO JARDIM', 'SANTO ANTÔNIO DO PINHAL', 'SANTO EXPEDITO', 'SANTÓPOLIS DO AGUAPEÍ', 'SANTOS', 'SÃO BENTO DO SAPUCAÍ', 'SÃO BERNARDO DO CAMPO', 'SÃO CAETANO DO SUL', 'SÃO JOÃO DA BOA VISTA', 'SÃO JOÃO DAS DUAS PONTES', 'SÃO JOÃO DE IRACEMA', \"SÃO JOÃO DO PAU D'ALHO\", 'SÃO JOAQUIM DA BARRA', 'SÃO JOSÉ DA BELA VISTA', 'SÃO JOSÉ DO BARREIRO', 'SÃO JOSÉ DO RIO PARDO', 'SÃO JOSÉ DO RIO PRETO', 'SÃO JOSÉ DOS CAMPOS', 'SÃO LOURENÇO DA SERRA', 'SÃO LUIZ DO PARAITINGA', 'SÃO MANUEL', 'SÃO MIGUEL ARCANJO', 'SÃO PAULO', 'SÃO PEDRO DO TURVO', 'SÃO ROQUE', 'SÃO SEBASTIÃO DA GRAMA', 'SARAPUÍ', 'SARUTAIÁ', 'SEBASTIANÓPOLIS DO SUL', 'SERRA AZUL', 'SERRA NEGRA', 'SERRANA', 'SETE BARRAS', 'SEVERÍNIA', 'SILVEIRAS', 'SOCORRO', 'SOROCABA', 'SUD MENNUCCI', 'SUMARÉ', 'SUZANÁPOLIS', 'SUZANO', 'TABAPUÃ', 'TABOÃO DA SERRA', 'TACIBA', 'TAGUAÍ', 'TAIAÇU', 'TAIÚVA', 'TAMBAÚ', 'TANABI', 'TAPIRATIBA', 'TAQUARAL', 'TAQUARITINGA', 'TAQUARITUBA', 'TAQUARIVAÍ', 'TARABAI', 'TARUMÃ', 'TATUÍ', 'TAUBATÉ', 'TEJUPÁ', 'TIETÊ', 'TIMBURI', 'TORRE DE PEDRA', 'TORRINHA', 'TRABIJU', 'TREMEMBÉ', 'TRÊS FRONTEIRAS', 'TUIUTI', 'TUPÃ', 'TUPI PAULISTA', 'TURIÚBA', 'UBARANA', 'UBATUBA', 'UBIRAJARA', 'UCHOA', 'UNIÃO PAULISTA', 'URÂNIA', 'URU', 'URUPÊS', 'VALENTIM GENTIL', 'VALINHOS', 'VALPARAÍSO', 'VARGEM GRANDE DO SUL', 'VARGEM GRANDE PAULISTA', 'VÁRZEA PAULISTA', 'VINHEDO', 'VIRADOURO', 'VISTA ALEGRE DO ALTO', 'VITÓRIA BRASIL', 'VOTORANTIM', 'VOTUPORANGA', 'ZACARIAS', 'ABREULÂNDIA', 'AGUIARNÓPOLIS', 'ALIANÇA DO TOCANTINS', 'ALMAS', 'ANANÁS', 'ANGICO', 'APARECIDA DO RIO NEGRO', 'ARAGOMINAS', 'ARAGUACEMA', 'ARAGUAÇU', 'ARAGUAÍNA', 'ARAGUATINS', 'ARAPOEMA', 'ARRAIAS', 'AUGUSTINÓPOLIS', 'AURORA DO TOCANTINS', 'AXIXÁ DO TOCANTINS', 'BABAÇULÂNDIA', 'BANDEIRANTES DO TOCANTINS', 'BARRA DO OURO', 'BARROLÂNDIA', 'BERNARDO SAYÃO', 'BRASILÂNDIA DO TOCANTINS', 'BREJINHO DE NAZARÉ', 'BURITI DO TOCANTINS', 'CAMPOS LINDOS', 'CARIRI DO TOCANTINS', 'CARMOLÂNDIA', 'CARRASCO BONITO', 'CASEARA', 'CHAPADA DA NATIVIDADE', 'CHAPADA DE AREIA', 'COLINAS DO TOCANTINS', 'COLMÉIA', 'COMBINADO', 'CONCEIÇÃO DO TOCANTINS', 'COUTO MAGALHÃES', 'CRISTALÂNDIA', 'CRIXÁS DO TOCANTINS', 'DARCINÓPOLIS', 'DIANÓPOLIS', 'DIVINÓPOLIS DO TOCANTINS', 'DOIS IRMÃOS DO TOCANTINS', 'DUERÉ', 'FIGUEIRÓPOLIS', 'FORMOSO DO ARAGUAIA', 'GOIANORTE', 'GOIATINS', 'GUARAÍ', 'GURUPI', 'ITACAJÁ', 'ITAGUATINS', 'ITAPIRATINS', 'ITAPORÃ DO TOCANTINS', 'JAÚ DO TOCANTINS', 'JUARINA', 'LAGOA DA CONFUSÃO', 'LAGOA DO TOCANTINS', 'LAVANDEIRA', 'LIZARDA', 'LUZINÓPOLIS', 'MARIANÓPOLIS DO TOCANTINS', 'MATEIROS', 'MAURILÂNDIA DO TOCANTINS', 'MIRACEMA DO TOCANTINS', 'MIRANORTE', 'MONTE DO CARMO', 'MONTE SANTO DO TOCANTINS', 'MURICILÂNDIA', 'NOVA ROSALÂNDIA', 'NOVO ACORDO', 'NOVO ALEGRE', 'NOVO JARDIM', 'OLIVEIRA DE FÁTIMA', 'PALMEIRANTE', 'PALMEIRAS DO TOCANTINS', 'PALMEIRÓPOLIS', 'PARAÍSO DO TOCANTINS', 'PARANÃ', 'PEDRO AFONSO', 'PEIXE', 'PEQUIZEIRO', 'PINDORAMA DO TOCANTINS', 'PIRAQUÊ', 'PIUM', 'PONTE ALTA DO BOM JESUS', 'PONTE ALTA DO TOCANTINS', 'PORTO ALEGRE DO TOCANTINS', 'PORTO NACIONAL', 'PRAIA NORTE', 'PRESIDENTE KENNEDY', 'PUGMIL', 'RECURSOLÂNDIA', 'RIO DA CONCEIÇÃO', 'RIO DOS BOIS', 'RIO SONO', 'SAMPAIO', 'SANDOLÂNDIA', 'SANTA FÉ DO ARAGUAIA', 'SANTA MARIA DO TOCANTINS', 'SANTA RITA DO TOCANTINS', 'SANTA ROSA DO TOCANTINS', 'SANTA TEREZA DO TOCANTINS', 'SANTA TEREZINHA DO TOCANTINS', 'SÃO BENTO DO TOCANTINS', 'SÃO FÉLIX DO TOCANTINS', 'SÃO MIGUEL DO TOCANTINS', 'SÃO SALVADOR DO TOCANTINS', 'SÃO SEBASTIÃO DO TOCANTINS', 'SÃO VALÉRIO', 'SILVANÓPOLIS', 'SÍTIO NOVO DO TOCANTINS', 'SUCUPIRA', 'TABOCÃO', 'TAGUATINGA', 'TAIPAS DO TOCANTINS', 'TALISMÃ', 'TOCANTÍNIA', 'TOCANTINÓPOLIS', 'TUPIRAMA', 'TUPIRATINS', 'WANDERLÂNDIA', 'XAMBIOÁ', 'AFONSO CLÁUDIO', 'ÁGUA DOCE DO NORTE', 'ÁGUIA BRANCA', 'ALEGRE', 'ALFREDO CHAVES', 'ALTO RIO NOVO', 'APIACÁ', 'ARACRUZ', 'ATÍLIO VIVÁCQUA', 'BAIXO GUANDU', 'BARRA DE SÃO FRANCISCO', 'BOM JESUS DO NORTE', 'BREJETUBA', 'CACHOEIRO DE ITAPEMIRIM', 'CARIACICA', 'CASTELO', 'COLATINA', 'CONCEIÇÃO DA BARRA', 'CONCEIÇÃO DO CASTELO', 'DIVINO DE SÃO LOURENÇO', 'DOMINGOS MARTINS', 'DORES DO RIO PRETO', 'ECOPORANGA', 'FUNDÃO', 'GOVERNADOR LINDENBERG', 'GUAÇUÍ', 'GUARAPARI', 'IBATIBA', 'IBIRAÇU', 'IBITIRAMA', 'ICONHA', 'IRUPI', 'ITAGUAÇU', 'ITAPEMIRIM', 'ITARANA', 'IÚNA', 'JAGUARÉ', 'JERÔNIMO MONTEIRO', 'JOÃO NEIVA', 'LARANJA DA TERRA', 'LINHARES', 'MANTENÓPOLIS', 'MARATAÍZES', 'MARECHAL FLORIANO', 'MARILÂNDIA', 'MIMOSO DO SUL', 'MONTANHA', 'MUCURICI', 'MUNIZ FREIRE', 'MUQUI', 'NOVA VENÉCIA', 'PANCAS', 'PEDRO CANÁRIO', 'PINHEIROS', 'PIÚMA', 'PONTO BELO', 'RIO BANANAL', 'RIO NOVO DO SUL', 'SANTA LEOPOLDINA', 'SANTA MARIA DE JETIBÁ', 'SANTA TERESA', 'SÃO DOMINGOS DO NORTE', 'SÃO GABRIEL DA PALHA', 'SÃO JOSÉ DO CALÇADO', 'SÃO MATEUS', 'SÃO ROQUE DO CANAÃ', 'SERRA', 'SOORETAMA', 'VARGEM ALTA', 'VENDA NOVA DO IMIGRANTE', 'VILA PAVÃO', 'VILA VALÉRIO', 'VILA VELHA', 'VITÓRIA', 'ÁGUAS CLARAS', 'ARNIQUEIRA', 'BRASÍLIA/PLANO PILOTO', 'BRAZLÂNDIA', 'CANDANGOLÂNDIA', 'CEILÂNDIA', 'FERCAL', 'GAMA', 'ITAPOÃ', 'JARDIM BOTÂNICO', 'LAGO NORTE', 'LAGO SUL', 'NÚCLEO BANDEIRANTE', 'PARANOÁ', 'PARK WAY', 'RECANTO DAS EMAS', 'RIACHO FUNDO', 'RIACHO FUNDO II', 'SAMAMBAIA', 'SCIA', 'SIA', 'SOBRADINHO II', 'SOL NASCENTE/PÔR DO SOL', 'SUDOESTE/OCTOGONAL', 'VICENTE PIRES']\n"
          ]
        }
      ]
    },
    {
      "cell_type": "code",
      "source": [
        "# Remove as linhas onde o município é \"NÃO INFORMADO\"\n",
        "df_copia = df_copia[df_copia['municipio'] != 'NÃO INFORMADO']\n",
        "\n",
        "# Verificação opcional: mostra os municípios restantes\n",
        "print(\"Valores únicos restantes na coluna 'municipio':\")\n",
        "print(df_copia['municipio'].unique())"
      ],
      "metadata": {
        "colab": {
          "base_uri": "https://localhost:8080/"
        },
        "id": "ADN0b5cavaU8",
        "outputId": "c6efd069-ea26-412b-d0d9-a07843257c7a"
      },
      "execution_count": null,
      "outputs": [
        {
          "output_type": "stream",
          "name": "stdout",
          "text": [
            "Valores únicos restantes na coluna 'municipio':\n",
            "['ACRELÂNDIA' 'ASSIS BRASIL' 'BRASILÉIA' ... 'SOL NASCENTE/PÔR DO SOL'\n",
            " 'SUDOESTE/OCTOGONAL' 'VICENTE PIRES']\n"
          ]
        }
      ]
    },
    {
      "cell_type": "code",
      "source": [
        "# Contar valores NaN por coluna\n",
        "nan_por_coluna = df_copia.isna().sum()\n",
        "print(nan_por_coluna)"
      ],
      "metadata": {
        "colab": {
          "base_uri": "https://localhost:8080/"
        },
        "id": "R0YZs94P3sBM",
        "outputId": "742a4dad-40c1-4530-a0b0-29858ec6e9a7"
      },
      "execution_count": null,
      "outputs": [
        {
          "output_type": "stream",
          "name": "stdout",
          "text": [
            "uf                      0\n",
            "municipio               0\n",
            "evento                  0\n",
            "data_referencia         0\n",
            "arma                    0\n",
            "faixa_etaria            0\n",
            "feminino           274353\n",
            "masculino          272049\n",
            "nao_informado      273054\n",
            "total_vitima       269360\n",
            "Ano                     0\n",
            "Mes                     0\n",
            "dtype: int64\n"
          ]
        }
      ]
    },
    {
      "cell_type": "code",
      "source": [
        "# Converte para numérico com tratamento de erro\n",
        "df_copia[['feminino', 'masculino', 'nao_informado']] = df_copia[['feminino', 'masculino', 'nao_informado']].apply(pd.to_numeric, errors='coerce')\n",
        "\n",
        "# Substitui NaN por 0 e converte para inteiro\n",
        "df_copia[['feminino', 'masculino', 'nao_informado']] = df_copia[['feminino', 'masculino', 'nao_informado']].fillna(0).astype(int)\n",
        "\n",
        "# Agora calcula total_vitima com essas colunas já limpas\n",
        "df_copia['total_vitima'] = (\n",
        "    df_copia['feminino'] +\n",
        "    df_copia['masculino'] +\n",
        "    df_copia['nao_informado']\n",
        ")"
      ],
      "metadata": {
        "id": "PN7AD0t76X4X"
      },
      "execution_count": null,
      "outputs": []
    },
    {
      "cell_type": "code",
      "source": [
        "# Remove as linhas onde total_vitima == 0\n",
        "df_copia = df_copia[df_copia['total_vitima'] != 0]"
      ],
      "metadata": {
        "id": "YSJ4nR266X2K"
      },
      "execution_count": null,
      "outputs": []
    },
    {
      "cell_type": "code",
      "source": [
        "# Contar valores NaN por coluna\n",
        "nan_por_coluna = df_copia.isna().sum()\n",
        "print(nan_por_coluna)"
      ],
      "metadata": {
        "colab": {
          "base_uri": "https://localhost:8080/"
        },
        "id": "QR5Fp9Glpp2X",
        "outputId": "2b62be50-fc45-46b3-e648-ebca06dad587"
      },
      "execution_count": null,
      "outputs": [
        {
          "output_type": "stream",
          "name": "stdout",
          "text": [
            "uf                 0\n",
            "municipio          0\n",
            "evento             0\n",
            "data_referencia    0\n",
            "arma               0\n",
            "faixa_etaria       0\n",
            "feminino           0\n",
            "masculino          0\n",
            "nao_informado      0\n",
            "total_vitima       0\n",
            "Ano                0\n",
            "Mes                0\n",
            "dtype: int64\n"
          ]
        }
      ]
    },
    {
      "cell_type": "code",
      "source": [
        "print(df_copia.head(1000))"
      ],
      "metadata": {
        "colab": {
          "base_uri": "https://localhost:8080/"
        },
        "id": "f2R32MKM6X74",
        "outputId": "a5ab749c-322e-40bf-c8ff-2882e9a80a26"
      },
      "execution_count": null,
      "outputs": [
        {
          "output_type": "stream",
          "name": "stdout",
          "text": [
            "       uf             municipio            evento data_referencia        arma  \\\n",
            "6685   MG                ABAETÉ       Feminicídio      2015-01-01    Carabina   \n",
            "6689   MG              ÁGUA BOA       Feminicídio      2015-01-01    Carabina   \n",
            "6749   MG        BELO HORIZONTE       Feminicídio      2015-01-01       Outra   \n",
            "6755   MG                 BETIM       Feminicídio      2015-01-01       Outra   \n",
            "6776   MG  BRASILÂNDIA DE MINAS       Feminicídio      2015-01-01       Fuzil   \n",
            "...    ..                   ...               ...             ...         ...   \n",
            "74445  MG          VIRGINÓPOLIS  Homicídio doloso      2015-01-01    Carabina   \n",
            "74450  MS            ÁGUA CLARA  Homicídio doloso      2015-01-01    Carabina   \n",
            "74452  MS               AMAMBAI  Homicídio doloso      2015-01-01  Espingarda   \n",
            "74453  MS             ANASTÁCIO  Homicídio doloso      2015-01-01  Espingarda   \n",
            "74457  MS  APARECIDA DO TABOADO  Homicídio doloso      2015-01-01     Pistola   \n",
            "\n",
            "              faixa_etaria  feminino  masculino  nao_informado  total_vitima  \\\n",
            "6685        Maior de Idade         1          0              0             1   \n",
            "6689        Maior de Idade         1          0              0             1   \n",
            "6749   Idade Não Informada         3          0              0             3   \n",
            "6755        Menor de Idade         1          0              0             1   \n",
            "6776        Menor de Idade         1          0              0             1   \n",
            "...                    ...       ...        ...            ...           ...   \n",
            "74445       Maior de Idade         0          1              0             1   \n",
            "74450       Menor de Idade         1          0              0             1   \n",
            "74452  Idade Não Informada         0          0              2             2   \n",
            "74453  Idade Não Informada         0          0              1             1   \n",
            "74457       Menor de Idade         0          0              1             1   \n",
            "\n",
            "        Ano      Mes  \n",
            "6685   2015  Janeiro  \n",
            "6689   2015  Janeiro  \n",
            "6749   2015  Janeiro  \n",
            "6755   2015  Janeiro  \n",
            "6776   2015  Janeiro  \n",
            "...     ...      ...  \n",
            "74445  2015  Janeiro  \n",
            "74450  2015  Janeiro  \n",
            "74452  2015  Janeiro  \n",
            "74453  2015  Janeiro  \n",
            "74457  2015  Janeiro  \n",
            "\n",
            "[1000 rows x 12 columns]\n"
          ]
        }
      ]
    },
    {
      "cell_type": "code",
      "source": [
        "# Verifica como ficou em linhas e colunas\n",
        "print(df_copia.shape)"
      ],
      "metadata": {
        "colab": {
          "base_uri": "https://localhost:8080/"
        },
        "id": "aErmQoi08qQ8",
        "outputId": "459cd797-d092-4e02-94fb-cf43a9168cc8"
      },
      "execution_count": null,
      "outputs": [
        {
          "output_type": "stream",
          "name": "stdout",
          "text": [
            "(301891, 12)\n"
          ]
        }
      ]
    },
    {
      "cell_type": "code",
      "source": [
        "# Salvar o DataFrame filtrado em um arquivo CSV com o nome desejado\n",
        "df_copia.to_csv(\"Dados_2015_2024.csv\", index=False)\n"
      ],
      "metadata": {
        "id": "VW2DozCa5YOF"
      },
      "execution_count": null,
      "outputs": []
    },
    {
      "cell_type": "markdown",
      "source": [
        "##Gráficos"
      ],
      "metadata": {
        "id": "PXFHyBVO-UU3"
      }
    },
    {
      "source": [
        "# ========== Carregamento e pré-processamento ==========\n",
        "df = pd.read_csv(\"Dados_2015_2024.csv\")\n",
        "df['data_referencia'] = pd.to_datetime(df['data_referencia'])\n",
        "df['Ano'] = df['data_referencia'].dt.year\n",
        "\n",
        "# Create a dictionary to map English month names to Portuguese month names\n",
        "meses_en_pt = {\n",
        "    'January': 'Janeiro', 'February': 'Fevereiro', 'March': 'Março', 'April': 'Abril',\n",
        "    'May': 'Maio', 'June': 'Junho', 'July': 'Julho', 'August': 'Agosto',\n",
        "    'September': 'Setembro', 'October': 'Outubro', 'November': 'Novembro', 'December': 'Dezembro'\n",
        "}\n",
        "\n",
        "# Get the month name in English and then map it to Portuguese\n",
        "df['Mes'] = df['data_referencia'].dt.month_name().map(meses_en_pt)\n",
        "\n",
        "\n",
        "# Ordenação de meses\n",
        "ordem_meses = ['Janeiro', 'Fevereiro', 'Março', 'Abril', 'Maio', 'Junho',\n",
        "               'Julho', 'Agosto', 'Setembro', 'Outubro', 'Novembro', 'Dezembro']\n",
        "df['Mes'] = pd.Categorical(df['Mes'], categories=ordem_meses, ordered=True)\n",
        "\n",
        "# ========== App ==========\n",
        "app = Dash(__name__)\n",
        "app.title = \"Dashboard de Homicídios e Feminicídios\"\n",
        "\n",
        "app.layout = html.Div([\n",
        "    html.H2(\"Filtros\", style={'textAlign': 'center', 'marginBottom': '20px'}),\n",
        "\n",
        "    html.Div([\n",
        "        html.Div([\n",
        "            html.Label(\"Ano\"),\n",
        "            dcc.Dropdown(\n",
        "                df['Ano'].sort_values().unique(), 2019,\n",
        "                id='filtro_ano', placeholder='Ano'\n",
        "            )\n",
        "        ], style={'width': '10%', 'minWidth': '150px'}),\n",
        "\n",
        "        html.Div([\n",
        "            html.Label(\"Estado\"),\n",
        "            dcc.Dropdown(\n",
        "                df['uf'].sort_values().unique(), multi=True,\n",
        "                id='filtro_estado', placeholder='Estados'\n",
        "            )\n",
        "        ], style={'width': '10%', 'minWidth': '150px'}),\n",
        "\n",
        "        html.Div([\n",
        "            html.Label(\"Cidade\"),\n",
        "            dcc.Dropdown(\n",
        "                ['Todos'] + sorted(df['municipio'].dropna().unique()),\n",
        "                'Todos', id='filtro_cidade'\n",
        "            )\n",
        "        ], style={'width': '10%', 'minWidth': '150px'}),\n",
        "\n",
        "        html.Div([\n",
        "            html.Label(\"Evento\"),\n",
        "            dcc.Dropdown(\n",
        "                ['Todos'] + sorted(df['evento'].dropna().unique()),\n",
        "                'Todos', id='filtro_evento'\n",
        "            )\n",
        "        ], style={'width': '10%', 'minWidth': '150px'}),\n",
        "\n",
        "        html.Div([\n",
        "            html.Label(\"Faixa Etária\"),\n",
        "            dcc.Dropdown(\n",
        "                ['Todas'] + sorted(df['faixa_etaria'].dropna().unique()),\n",
        "                'Todas', id='filtro_faixa'\n",
        "            )\n",
        "        ], style={'width': '10%', 'minWidth': '150px'}),\n",
        "\n",
        "        html.Div([\n",
        "            html.Label(\"Arma\"),\n",
        "            dcc.Dropdown(\n",
        "                ['Todas'] + sorted(df['arma'].dropna().unique()),\n",
        "                'Todas', id='filtro_arma'\n",
        "            )\n",
        "        ], style={'width': '10%', 'minWidth': '150px'})\n",
        "    ], style={\n",
        "        'display': 'flex',\n",
        "        'flexWrap': 'wrap',\n",
        "        'gap': '10px',\n",
        "        'justifyContent': 'center',\n",
        "        'marginBottom': '30px'\n",
        "    }),\n",
        "\n",
        "    dcc.Graph(id='grafico_barra'),\n",
        "    dcc.Graph(id='grafico_linha'),\n",
        "    dcc.Graph(id='grafico_pizza'),\n",
        "\n",
        "    html.H3(\"Tabela de Dados Filtrados\"),\n",
        "    dash_table.DataTable(\n",
        "        id='tabela_dados',\n",
        "        page_size=10,\n",
        "        style_table={'overflowX': 'auto'}\n",
        "    )\n",
        "])\n",
        "\n",
        "\n",
        "@app.callback(\n",
        "    [Output('grafico_barra', 'figure'),\n",
        "     Output('grafico_linha', 'figure'),\n",
        "     Output('grafico_pizza', 'figure'),\n",
        "     Output('tabela_dados', 'data'),\n",
        "     Output('tabela_dados', 'columns')],\n",
        "    [Input('filtro_ano', 'value'),\n",
        "     Input('filtro_estado', 'value'),\n",
        "     Input('filtro_cidade', 'value'),\n",
        "     Input('filtro_evento', 'value'),\n",
        "     Input('filtro_faixa', 'value'),\n",
        "     Input('filtro_arma', 'value')]\n",
        ")\n",
        "def atualizar_graficos(ano, estados, cidade, evento, faixa, arma):\n",
        "    df_filt = df[df['Ano'] == ano]\n",
        "\n",
        "    if estados:\n",
        "        df_filt = df_filt[df_filt['uf'].isin(estados)]\n",
        "\n",
        "    if cidade != \"Todos\":\n",
        "        df_filt = df_filt[df_filt['municipio'] == cidade]\n",
        "\n",
        "    if evento != \"Todos\":\n",
        "        df_filt = df_filt[df_filt['evento'] == evento]\n",
        "\n",
        "    if faixa != \"Todas\":\n",
        "        df_filt = df_filt[df_filt['faixa_etaria'] == faixa]\n",
        "\n",
        "    if arma != \"Todas\":\n",
        "        df_filt = df_filt[df_filt['arma'] == arma]\n",
        "\n",
        "    # Gráfico de barras\n",
        "    df_bar = df_filt.groupby('uf')['total_vitima'].sum().reset_index()\n",
        "    fig_bar = px.bar(df_bar, x='uf', y='total_vitima', text='total_vitima',\n",
        "                     color='uf', title='Total de Vítimas por Estado')\n",
        "\n",
        "    # Gráfico de linha\n",
        "    df_linha = df_filt.groupby(['uf', 'Mes'])['total_vitima'].sum().reset_index()\n",
        "    fig_linha = px.line(df_linha, x='Mes', y='total_vitima', color='uf',\n",
        "                        markers=True, title='Evolução Mensal dos Casos por Estado')\n",
        "\n",
        "    # Gráfico de pizza\n",
        "    df_pizza = df_filt.groupby('arma').size().reset_index(name='quantidade')\n",
        "    if not df_pizza.empty:\n",
        "        fig_pizza = px.pie(df_pizza, names='arma', values='quantidade',\n",
        "                           hole=0.4, title='Distribuição de Tipos de Arma')\n",
        "    else:\n",
        "        fig_pizza = px.pie(title=\"Sem dados para gráfico de pizza\")\n",
        "\n",
        "    # Tabela\n",
        "    df_tab = df_filt[(df_filt['feminino'] >= 1) | (df_filt['masculino'] >= 1) | (df_filt['nao_informado'] >= 1)]\n",
        "    df_tab = df_tab.copy()\n",
        "    df_tab['data_referencia'] = df_tab['data_referencia'].dt.strftime('%d-%m-%Y')\n",
        "\n",
        "    colunas_numericas = df_tab.select_dtypes(include='number')\n",
        "    colunas_validas = colunas_numericas.columns[colunas_numericas.sum() > 0]\n",
        "    df_final = pd.concat([df_tab.select_dtypes(exclude='number'), df_tab[colunas_validas]], axis=1)\n",
        "\n",
        "    colunas = [{\"name\": col, \"id\": col} for col in df_final.columns]\n",
        "\n",
        "    return fig_bar, fig_linha, fig_pizza, df_final.to_dict('records'), colunas\n",
        "\n",
        "\n",
        "if __name__ == '__main__':\n",
        "    app.run(debug=True)"
      ],
      "cell_type": "code",
      "metadata": {
        "colab": {
          "base_uri": "https://localhost:8080/",
          "height": 671
        },
        "id": "lske561_EwBX",
        "outputId": "72822e50-950e-43e6-9b10-4549af9aff08"
      },
      "execution_count": null,
      "outputs": [
        {
          "output_type": "display_data",
          "data": {
            "text/plain": [
              "<IPython.core.display.Javascript object>"
            ],
            "application/javascript": [
              "(async (port, path, width, height, cache, element) => {\n",
              "    if (!google.colab.kernel.accessAllowed && !cache) {\n",
              "      return;\n",
              "    }\n",
              "    element.appendChild(document.createTextNode(''));\n",
              "    const url = await google.colab.kernel.proxyPort(port, {cache});\n",
              "    const iframe = document.createElement('iframe');\n",
              "    iframe.src = new URL(path, url).toString();\n",
              "    iframe.height = height;\n",
              "    iframe.width = width;\n",
              "    iframe.style.border = 0;\n",
              "    iframe.allow = [\n",
              "        'accelerometer',\n",
              "        'autoplay',\n",
              "        'camera',\n",
              "        'clipboard-read',\n",
              "        'clipboard-write',\n",
              "        'gyroscope',\n",
              "        'magnetometer',\n",
              "        'microphone',\n",
              "        'serial',\n",
              "        'usb',\n",
              "        'xr-spatial-tracking',\n",
              "    ].join('; ');\n",
              "    element.appendChild(iframe);\n",
              "  })(8050, \"/\", \"100%\", 650, false, window.element)"
            ]
          },
          "metadata": {}
        }
      ]
    },
    {
      "cell_type": "markdown",
      "source": [
        "##Previsões"
      ],
      "metadata": {
        "id": "YSpY20lsp_0K"
      }
    },
    {
      "cell_type": "markdown",
      "source": [
        "###Multivalorado"
      ],
      "metadata": {
        "id": "pnpDUU7-63h-"
      }
    },
    {
      "cell_type": "code",
      "source": [
        "import numpy as np\n",
        "import pandas as pd\n",
        "from sklearn.preprocessing import MinMaxScaler, OneHotEncoder\n",
        "from sklearn.compose import ColumnTransformer\n",
        "from tensorflow.keras.models import Sequential, load_model\n",
        "from tensorflow.keras.layers import GRU, Dense, Dropout\n",
        "from tensorflow.keras.callbacks import ModelCheckpoint\n",
        "import joblib\n",
        "\n",
        "print(\"--- INICIANDO A CRIAÇÃO DO MODELO MULTIVARIADO (VERSÃO OTIMIZADA) ---\")\n",
        "\n",
        "# --- 1. CARREGAMENTO E PREPARAÇÃO INICIAL DOS DADOS ---\n",
        "try:\n",
        "    df = pd.read_csv(\"Dados_2015_2024.csv\")\n",
        "    df['data_referencia'] = pd.to_datetime(df['data_referencia'])\n",
        "    df = df.sort_values('data_referencia').reset_index(drop=True)\n",
        "except FileNotFoundError:\n",
        "    print(\"\\n❌ ERRO: Arquivo 'Dados_2015_2024.csv' não encontrado.\")\n",
        "    exit()\n",
        "\n",
        "# Separa a variável alvo (y) das variáveis de features (X)\n",
        "y_df = df[['total_vitima']]\n",
        "\n",
        "# MODIFICAÇÃO PRINCIPAL: REMOVER A COLUNA 'municipio' ANTES DO TREINAMENTO\n",
        "print(\"Removendo a coluna 'municipio' para otimizar o uso de memória...\")\n",
        "X_df = df.drop(columns=['total_vitima', 'data_referencia', 'municipio']) # <-- MUNICÍPIO REMOVIDO AQUI\n",
        "\n",
        "# --- 2. PRÉ-PROCESSAMENTO E FEATURE ENGINEERING ---\n",
        "colunas_categoricas = X_df.select_dtypes(include=['object', 'category']).columns\n",
        "colunas_numericas = X_df.select_dtypes(include=np.number).columns\n",
        "\n",
        "print(f\"\\nColunas Categóricas para transformar: {list(colunas_categoricas)}\")\n",
        "\n",
        "preprocessor = ColumnTransformer(\n",
        "    transformers=[\n",
        "        ('num', MinMaxScaler(), colunas_numericas),\n",
        "        ('cat', OneHotEncoder(handle_unknown='ignore', sparse_output=False), colunas_categoricas)\n",
        "    ],\n",
        "    remainder='passthrough'\n",
        ")\n",
        "\n",
        "print(\"\\nAplicando pré-processamento (OneHotEncoding e Scaler)...\")\n",
        "X_processed = preprocessor.fit_transform(X_df)\n",
        "\n",
        "y_scaler = MinMaxScaler()\n",
        "y_processed = y_scaler.fit_transform(y_df)\n",
        "\n",
        "print(f\"Shape dos dados de treino após transformação: {X_processed.shape}\")\n",
        "\n",
        "# --- 3. CRIAÇÃO DAS SEQUÊNCIAS PARA A REDE NEURAL ---\n",
        "janela = 10\n",
        "X_seq, y_seq = [], []\n",
        "\n",
        "print(f\"\\nCriando sequências de dados com janela de {janela} eventos...\")\n",
        "for i in range(janela, len(X_processed)):\n",
        "    X_seq.append(X_processed[i-janela:i])\n",
        "    y_seq.append(y_processed[i])\n",
        "\n",
        "X_seq = np.array(X_seq)\n",
        "y_seq = np.array(y_seq)\n",
        "\n",
        "print(f\"Shape final dos dados de entrada do modelo (X): {X_seq.shape}\")\n",
        "\n",
        "# --- 4. CONSTRUÇÃO E TREINAMENTO DO MODELO GRU ---\n",
        "n_features = X_seq.shape[2]\n",
        "model = Sequential([\n",
        "    GRU(units=100, return_sequences=True, input_shape=(janela, n_features)),\n",
        "    Dropout(0.2),\n",
        "    GRU(units=50),\n",
        "    Dropout(0.2),\n",
        "    Dense(units=25, activation='relu'),\n",
        "    Dense(units=1)\n",
        "])\n",
        "model.compile(optimizer='adam', loss='mean_squared_error')\n",
        "model.summary()\n",
        "\n",
        "filepath_modelo = 'melhor_modelo_multivariado.keras'\n",
        "checkpoint = ModelCheckpoint(filepath_modelo, monitor='val_loss', save_best_only=True, mode='min', verbose=1)\n",
        "\n",
        "print(\"\\n--- INICIANDO TREINAMENTO DO MODELO MULTIVARIADO ---\")\n",
        "model.fit(X_seq, y_seq, epochs=1, batch_size=32, callbacks=[checkpoint], validation_split=0.1, verbose=1)\n",
        "\n",
        "# --- 5. SALVANDO OS COMPONENTES FINAIS ---\n",
        "joblib.dump(preprocessor, 'preprocessor.joblib')\n",
        "joblib.dump(y_scaler, 'y_scaler.joblib')\n",
        "\n",
        "print(\"\\n--- PROCESSO CONCLUÍDO ---\")\n",
        "print(f\"✅ Melhor modelo salvo em: '{filepath_modelo}'\")\n",
        "print(f\"✅ Pré-processador de dados salvo em: 'preprocessor.joblib'\")\n",
        "print(f\"✅ Normalizador da variável alvo salvo em: 'y_scaler.joblib'\")"
      ],
      "metadata": {
        "colab": {
          "base_uri": "https://localhost:8080/",
          "height": 757
        },
        "id": "a6onfXY-6nI0",
        "outputId": "74534a4c-35c1-4e25-8138-56a5ab182433"
      },
      "execution_count": null,
      "outputs": [
        {
          "output_type": "stream",
          "name": "stdout",
          "text": [
            "--- INICIANDO A CRIAÇÃO DO MODELO MULTIVARIADO (VERSÃO OTIMIZADA) ---\n",
            "Removendo a coluna 'municipio' para otimizar o uso de memória...\n",
            "\n",
            "Colunas Categóricas para transformar: ['uf', 'evento', 'arma', 'faixa_etaria', 'Mes']\n",
            "\n",
            "Aplicando pré-processamento (OneHotEncoding e Scaler)...\n",
            "Shape dos dados de treino após transformação: (301891, 59)\n",
            "\n",
            "Criando sequências de dados com janela de 10 eventos...\n",
            "Shape final dos dados de entrada do modelo (X): (301881, 10, 59)\n"
          ]
        },
        {
          "output_type": "stream",
          "name": "stderr",
          "text": [
            "/usr/local/lib/python3.11/dist-packages/keras/src/layers/rnn/rnn.py:199: UserWarning:\n",
            "\n",
            "Do not pass an `input_shape`/`input_dim` argument to a layer. When using Sequential models, prefer using an `Input(shape)` object as the first layer in the model instead.\n",
            "\n"
          ]
        },
        {
          "output_type": "display_data",
          "data": {
            "text/plain": [
              "\u001b[1mModel: \"sequential\"\u001b[0m\n"
            ],
            "text/html": [
              "<pre style=\"white-space:pre;overflow-x:auto;line-height:normal;font-family:Menlo,'DejaVu Sans Mono',consolas,'Courier New',monospace\"><span style=\"font-weight: bold\">Model: \"sequential\"</span>\n",
              "</pre>\n"
            ]
          },
          "metadata": {}
        },
        {
          "output_type": "display_data",
          "data": {
            "text/plain": [
              "┏━━━━━━━━━━━━━━━━━━━━━━━━━━━━━━━━━┳━━━━━━━━━━━━━━━━━━━━━━━━┳━━━━━━━━━━━━━━━┓\n",
              "┃\u001b[1m \u001b[0m\u001b[1mLayer (type)                   \u001b[0m\u001b[1m \u001b[0m┃\u001b[1m \u001b[0m\u001b[1mOutput Shape          \u001b[0m\u001b[1m \u001b[0m┃\u001b[1m \u001b[0m\u001b[1m      Param #\u001b[0m\u001b[1m \u001b[0m┃\n",
              "┡━━━━━━━━━━━━━━━━━━━━━━━━━━━━━━━━━╇━━━━━━━━━━━━━━━━━━━━━━━━╇━━━━━━━━━━━━━━━┩\n",
              "│ gru (\u001b[38;5;33mGRU\u001b[0m)                       │ (\u001b[38;5;45mNone\u001b[0m, \u001b[38;5;34m10\u001b[0m, \u001b[38;5;34m100\u001b[0m)        │        \u001b[38;5;34m48,300\u001b[0m │\n",
              "├─────────────────────────────────┼────────────────────────┼───────────────┤\n",
              "│ dropout (\u001b[38;5;33mDropout\u001b[0m)               │ (\u001b[38;5;45mNone\u001b[0m, \u001b[38;5;34m10\u001b[0m, \u001b[38;5;34m100\u001b[0m)        │             \u001b[38;5;34m0\u001b[0m │\n",
              "├─────────────────────────────────┼────────────────────────┼───────────────┤\n",
              "│ gru_1 (\u001b[38;5;33mGRU\u001b[0m)                     │ (\u001b[38;5;45mNone\u001b[0m, \u001b[38;5;34m50\u001b[0m)             │        \u001b[38;5;34m22,800\u001b[0m │\n",
              "├─────────────────────────────────┼────────────────────────┼───────────────┤\n",
              "│ dropout_1 (\u001b[38;5;33mDropout\u001b[0m)             │ (\u001b[38;5;45mNone\u001b[0m, \u001b[38;5;34m50\u001b[0m)             │             \u001b[38;5;34m0\u001b[0m │\n",
              "├─────────────────────────────────┼────────────────────────┼───────────────┤\n",
              "│ dense (\u001b[38;5;33mDense\u001b[0m)                   │ (\u001b[38;5;45mNone\u001b[0m, \u001b[38;5;34m25\u001b[0m)             │         \u001b[38;5;34m1,275\u001b[0m │\n",
              "├─────────────────────────────────┼────────────────────────┼───────────────┤\n",
              "│ dense_1 (\u001b[38;5;33mDense\u001b[0m)                 │ (\u001b[38;5;45mNone\u001b[0m, \u001b[38;5;34m1\u001b[0m)              │            \u001b[38;5;34m26\u001b[0m │\n",
              "└─────────────────────────────────┴────────────────────────┴───────────────┘\n"
            ],
            "text/html": [
              "<pre style=\"white-space:pre;overflow-x:auto;line-height:normal;font-family:Menlo,'DejaVu Sans Mono',consolas,'Courier New',monospace\">┏━━━━━━━━━━━━━━━━━━━━━━━━━━━━━━━━━┳━━━━━━━━━━━━━━━━━━━━━━━━┳━━━━━━━━━━━━━━━┓\n",
              "┃<span style=\"font-weight: bold\"> Layer (type)                    </span>┃<span style=\"font-weight: bold\"> Output Shape           </span>┃<span style=\"font-weight: bold\">       Param # </span>┃\n",
              "┡━━━━━━━━━━━━━━━━━━━━━━━━━━━━━━━━━╇━━━━━━━━━━━━━━━━━━━━━━━━╇━━━━━━━━━━━━━━━┩\n",
              "│ gru (<span style=\"color: #0087ff; text-decoration-color: #0087ff\">GRU</span>)                       │ (<span style=\"color: #00d7ff; text-decoration-color: #00d7ff\">None</span>, <span style=\"color: #00af00; text-decoration-color: #00af00\">10</span>, <span style=\"color: #00af00; text-decoration-color: #00af00\">100</span>)        │        <span style=\"color: #00af00; text-decoration-color: #00af00\">48,300</span> │\n",
              "├─────────────────────────────────┼────────────────────────┼───────────────┤\n",
              "│ dropout (<span style=\"color: #0087ff; text-decoration-color: #0087ff\">Dropout</span>)               │ (<span style=\"color: #00d7ff; text-decoration-color: #00d7ff\">None</span>, <span style=\"color: #00af00; text-decoration-color: #00af00\">10</span>, <span style=\"color: #00af00; text-decoration-color: #00af00\">100</span>)        │             <span style=\"color: #00af00; text-decoration-color: #00af00\">0</span> │\n",
              "├─────────────────────────────────┼────────────────────────┼───────────────┤\n",
              "│ gru_1 (<span style=\"color: #0087ff; text-decoration-color: #0087ff\">GRU</span>)                     │ (<span style=\"color: #00d7ff; text-decoration-color: #00d7ff\">None</span>, <span style=\"color: #00af00; text-decoration-color: #00af00\">50</span>)             │        <span style=\"color: #00af00; text-decoration-color: #00af00\">22,800</span> │\n",
              "├─────────────────────────────────┼────────────────────────┼───────────────┤\n",
              "│ dropout_1 (<span style=\"color: #0087ff; text-decoration-color: #0087ff\">Dropout</span>)             │ (<span style=\"color: #00d7ff; text-decoration-color: #00d7ff\">None</span>, <span style=\"color: #00af00; text-decoration-color: #00af00\">50</span>)             │             <span style=\"color: #00af00; text-decoration-color: #00af00\">0</span> │\n",
              "├─────────────────────────────────┼────────────────────────┼───────────────┤\n",
              "│ dense (<span style=\"color: #0087ff; text-decoration-color: #0087ff\">Dense</span>)                   │ (<span style=\"color: #00d7ff; text-decoration-color: #00d7ff\">None</span>, <span style=\"color: #00af00; text-decoration-color: #00af00\">25</span>)             │         <span style=\"color: #00af00; text-decoration-color: #00af00\">1,275</span> │\n",
              "├─────────────────────────────────┼────────────────────────┼───────────────┤\n",
              "│ dense_1 (<span style=\"color: #0087ff; text-decoration-color: #0087ff\">Dense</span>)                 │ (<span style=\"color: #00d7ff; text-decoration-color: #00d7ff\">None</span>, <span style=\"color: #00af00; text-decoration-color: #00af00\">1</span>)              │            <span style=\"color: #00af00; text-decoration-color: #00af00\">26</span> │\n",
              "└─────────────────────────────────┴────────────────────────┴───────────────┘\n",
              "</pre>\n"
            ]
          },
          "metadata": {}
        },
        {
          "output_type": "display_data",
          "data": {
            "text/plain": [
              "\u001b[1m Total params: \u001b[0m\u001b[38;5;34m72,401\u001b[0m (282.82 KB)\n"
            ],
            "text/html": [
              "<pre style=\"white-space:pre;overflow-x:auto;line-height:normal;font-family:Menlo,'DejaVu Sans Mono',consolas,'Courier New',monospace\"><span style=\"font-weight: bold\"> Total params: </span><span style=\"color: #00af00; text-decoration-color: #00af00\">72,401</span> (282.82 KB)\n",
              "</pre>\n"
            ]
          },
          "metadata": {}
        },
        {
          "output_type": "display_data",
          "data": {
            "text/plain": [
              "\u001b[1m Trainable params: \u001b[0m\u001b[38;5;34m72,401\u001b[0m (282.82 KB)\n"
            ],
            "text/html": [
              "<pre style=\"white-space:pre;overflow-x:auto;line-height:normal;font-family:Menlo,'DejaVu Sans Mono',consolas,'Courier New',monospace\"><span style=\"font-weight: bold\"> Trainable params: </span><span style=\"color: #00af00; text-decoration-color: #00af00\">72,401</span> (282.82 KB)\n",
              "</pre>\n"
            ]
          },
          "metadata": {}
        },
        {
          "output_type": "display_data",
          "data": {
            "text/plain": [
              "\u001b[1m Non-trainable params: \u001b[0m\u001b[38;5;34m0\u001b[0m (0.00 B)\n"
            ],
            "text/html": [
              "<pre style=\"white-space:pre;overflow-x:auto;line-height:normal;font-family:Menlo,'DejaVu Sans Mono',consolas,'Courier New',monospace\"><span style=\"font-weight: bold\"> Non-trainable params: </span><span style=\"color: #00af00; text-decoration-color: #00af00\">0</span> (0.00 B)\n",
              "</pre>\n"
            ]
          },
          "metadata": {}
        },
        {
          "output_type": "stream",
          "name": "stdout",
          "text": [
            "\n",
            "--- INICIANDO TREINAMENTO DO MODELO MULTIVARIADO ---\n",
            "\u001b[1m8491/8491\u001b[0m \u001b[32m━━━━━━━━━━━━━━━━━━━━\u001b[0m\u001b[37m\u001b[0m \u001b[1m0s\u001b[0m 21ms/step - loss: 5.9651e-04\n",
            "Epoch 1: val_loss improved from inf to 0.00025, saving model to melhor_modelo_multivariado.keras\n",
            "\u001b[1m8491/8491\u001b[0m \u001b[32m━━━━━━━━━━━━━━━━━━━━\u001b[0m\u001b[37m\u001b[0m \u001b[1m191s\u001b[0m 22ms/step - loss: 5.9649e-04 - val_loss: 2.4676e-04\n",
            "\n",
            "--- PROCESSO CONCLUÍDO ---\n",
            "✅ Melhor modelo salvo em: 'melhor_modelo_multivariado.keras'\n",
            "✅ Pré-processador de dados salvo em: 'preprocessor.joblib'\n",
            "✅ Normalizador da variável alvo salvo em: 'y_scaler.joblib'\n"
          ]
        }
      ]
    },
    {
      "cell_type": "code",
      "source": [
        "import numpy as np\n",
        "import pandas as pd\n",
        "import joblib\n",
        "from tensorflow.keras.models import load_model\n",
        "import warnings\n",
        "\n",
        "# Suprimir avisos de formatação do pandas que podem poluir a saída\n",
        "warnings.filterwarnings(\"ignore\", category=FutureWarning)\n",
        "\n",
        "# --- 1. CARREGAR O MODELO E OS COMPONENTES SALVOS ---\n",
        "print(\"--- Carregando modelo e componentes de previsão ---\")\n",
        "try:\n",
        "    model = load_model('melhor_modelo_multivariado.keras')\n",
        "    preprocessor = joblib.load('preprocessor.joblib')\n",
        "    y_scaler = joblib.load('y_scaler.joblib')\n",
        "    df = pd.read_csv(\"Dados_2015_2024.csv\")\n",
        "    df['data_referencia'] = pd.to_datetime(df['data_referencia'])\n",
        "    df = df.sort_values('data_referencia').reset_index(drop=True)\n",
        "    print(\"✅ Modelo e componentes carregados com sucesso.\")\n",
        "except FileNotFoundError as e:\n",
        "    print(f\"\\n❌ ERRO: Arquivo não encontrado. Certifique-se que o arquivo '{e.filename}' está no diretório.\")\n",
        "    exit()\n",
        "\n",
        "# --- 2. FUNÇÃO AUXILIAR PARA OBTER INPUTS (sem alterações) ---\n",
        "def obter_filtro_usuario(df_local, nome_coluna, nome_amigavel):\n",
        "    print(f\"\\n--- Filtro de {nome_amigavel} (Opcional) ---\")\n",
        "    print(\"Para não usar este filtro, apenas pressione Enter.\")\n",
        "    opcoes = sorted(df_local[nome_coluna].unique())\n",
        "    if len(opcoes) > 15:\n",
        "        print(f\"(Mostrando as primeiras 15 de {len(opcoes)} opções)\")\n",
        "        for i, opcao in enumerate(opcoes[:15]): print(f\"[{i+1}] {opcao}\")\n",
        "        print(\"...\")\n",
        "    else:\n",
        "        for i, opcao in enumerate(opcoes): print(f\"[{i+1}] {opcao}\")\n",
        "    while True:\n",
        "        escolha = input(f\"Digite o NÚMERO, NOME exato, ou deixe em branco para pular: \")\n",
        "        if not escolha: return None\n",
        "        try:\n",
        "            if 0 <= int(escolha) - 1 < len(opcoes): return opcoes[int(escolha) - 1]\n",
        "        except ValueError:\n",
        "            if escolha in opcoes: return escolha\n",
        "        print(\"Opção inválida.\")\n",
        "\n",
        "# --- 3. LÓGICA DE PREVISÃO INTERATIVA (FLUXO CORRIGIDO) ---\n",
        "while True:\n",
        "    print(\"\\n\\n--- NOVA PREVISÃO ANUAL ESTIMADA ---\")\n",
        "\n",
        "    # ETAPA 1: PEDIR O ANO (OBRIGATÓRIO)\n",
        "    while True:\n",
        "        try:\n",
        "            ano_desejado = int(input(\"\\nDigite o ANO para a previsão (Obrigatório, ex: 2026): \"))\n",
        "            if ano_desejado > df['Ano'].max():\n",
        "                break\n",
        "            else:\n",
        "                print(f\"Por favor, digite um ano futuro, maior que {df['Ano'].max()}.\")\n",
        "        except ValueError:\n",
        "            print(\"Entrada inválida. Por favor, digite um número inteiro.\")\n",
        "\n",
        "    # ETAPA 2: PEDIR OS FILTROS (OPCIONAIS)\n",
        "    df_filtrado = df.copy()\n",
        "    filtros_aplicados = {}\n",
        "    colunas_para_filtrar = ['uf', 'evento', 'arma', 'faixa_etaria']\n",
        "    for coluna in colunas_para_filtrar:\n",
        "        escolha = obter_filtro_usuario(df_filtrado, coluna, coluna.replace('_', ' ').title())\n",
        "        if escolha:\n",
        "            filtros_aplicados[coluna] = escolha\n",
        "            df_filtrado = df_filtrado[df_filtrado[coluna] == escolha]\n",
        "\n",
        "    # ETAPA 3: PREPARAR DADOS E FAZER A PREVISÃO\n",
        "    janela = 10\n",
        "    if len(df_filtrado) < janela:\n",
        "        print(f\"\\n❌ ERRO: Não há dados históricos suficientes ({len(df_filtrado)} eventos) para o cenário escolhido.\")\n",
        "    else:\n",
        "        # Calcular a média de eventos por ano para o cenário filtrado\n",
        "        num_anos_historico = df_filtrado['Ano'].nunique()\n",
        "        media_eventos_ano = len(df_filtrado) / num_anos_historico if num_anos_historico > 0 else 0\n",
        "\n",
        "        # Montar a sequência de entrada para o modelo\n",
        "        # Pegamos os últimos 9 eventos reais e criamos um 10º evento \"fictício\" no ano desejado\n",
        "        sequencia_base = df_filtrado.tail(janela - 1).copy()\n",
        "        evento_futuro_template = df_filtrado.tail(1).copy()\n",
        "        evento_futuro_template['Ano'] = ano_desejado\n",
        "\n",
        "        sequencia_final_df = pd.concat([sequencia_base, evento_futuro_template], ignore_index=True)\n",
        "\n",
        "        # Preparar os dados para o modelo usando o preprocessor carregado\n",
        "        X_para_prever = sequencia_final_df.drop(columns=['total_vitima', 'data_referencia', 'municipio'])\n",
        "        X_processado = preprocessor.transform(X_para_prever)\n",
        "        X_final = np.reshape(X_processado, (1, X_processado.shape[0], X_processado.shape[1]))\n",
        "\n",
        "        # Fazer a previsão para um evento típico no futuro\n",
        "        previsao_evento_normalizada = model.predict(X_final)\n",
        "        previsao_evento_real = y_scaler.inverse_transform(previsao_evento_normalizada)\n",
        "        vitimas_por_evento = np.ceil(previsao_evento_real[0][0])\n",
        "\n",
        "        # Calcular o total anual estimado\n",
        "        previsao_anual_total = vitimas_por_evento * media_eventos_ano\n",
        "\n",
        "        # ETAPA 4: MOSTRAR O RESULTADO FINAL\n",
        "        print(\"\\n-------------------------------------------\")\n",
        "        print(\"Cenário da Previsão:\")\n",
        "        print(f\"- Ano Previsto: {ano_desejado}\")\n",
        "        for nome, valor in filtros_aplicados.items():\n",
        "            print(f\"- {nome.title()}: {valor}\")\n",
        "        if not filtros_aplicados:\n",
        "            print(\"- Nenhum filtro adicional (cenário geral).\")\n",
        "\n",
        "        print(\"\\n🎯 PREVISÃO ANUAL ESTIMADA:\")\n",
        "        print(f\"O total de vítimas estimado para o ano de {ano_desejado} neste cenário é de: {int(previsao_anual_total)}\")\n",
        "        print(\"-------------------------------------------\")\n",
        "        print(f\"(Nota: Estimativa baseada em uma previsão de {int(vitimas_por_evento)} vítimas por evento, multiplicada pela média de {media_eventos_ano:.1f} eventos por ano para este cenário).\")\n",
        "\n",
        "    if input(\"\\nDeseja fazer uma nova previsão? (s/n): \").lower() != 's':\n",
        "        break\n",
        "\n",
        "print(\"\\nScript de previsão finalizado.\")"
      ],
      "metadata": {
        "colab": {
          "base_uri": "https://localhost:8080/"
        },
        "id": "e0pH3wUC6nFc",
        "outputId": "5971d688-b846-46c2-d2c2-46baad74f0d4"
      },
      "execution_count": null,
      "outputs": [
        {
          "output_type": "stream",
          "name": "stdout",
          "text": [
            "--- Carregando modelo e componentes de previsão ---\n",
            "✅ Modelo e componentes carregados com sucesso.\n",
            "\n",
            "\n",
            "--- NOVA PREVISÃO ANUAL ESTIMADA ---\n",
            "\n",
            "Digite o ANO para a previsão (Obrigatório, ex: 2026): 2032\n",
            "\n",
            "--- Filtro de Uf (Opcional) ---\n",
            "Para não usar este filtro, apenas pressione Enter.\n",
            "(Mostrando as primeiras 15 de 27 opções)\n",
            "[1] AC\n",
            "[2] AL\n",
            "[3] AM\n",
            "[4] AP\n",
            "[5] BA\n",
            "[6] CE\n",
            "[7] DF\n",
            "[8] ES\n",
            "[9] GO\n",
            "[10] MA\n",
            "[11] MG\n",
            "[12] MS\n",
            "[13] MT\n",
            "[14] PA\n",
            "[15] PB\n",
            "...\n",
            "Digite o NÚMERO, NOME exato, ou deixe em branco para pular: \n",
            "\n",
            "--- Filtro de Evento (Opcional) ---\n",
            "Para não usar este filtro, apenas pressione Enter.\n",
            "[1] Feminicídio\n",
            "[2] Homicídio doloso\n",
            "[3] Lesão corporal seguida de morte\n",
            "[4] Mortes a esclarecer (sem indício de crime)\n",
            "[5] Roubo seguido de morte (latrocínio)\n",
            "[6] Suicídio\n",
            "Digite o NÚMERO, NOME exato, ou deixe em branco para pular: \n",
            "\n",
            "--- Filtro de Arma (Opcional) ---\n",
            "Para não usar este filtro, apenas pressione Enter.\n",
            "[1] Carabina\n",
            "[2] Espingarda\n",
            "[3] Fuzil\n",
            "[4] Outra\n",
            "[5] Pistola\n",
            "[6] Revolver\n",
            "[7] Rifle\n",
            "Digite o NÚMERO, NOME exato, ou deixe em branco para pular: \n",
            "\n",
            "--- Filtro de Faixa Etaria (Opcional) ---\n",
            "Para não usar este filtro, apenas pressione Enter.\n",
            "[1] Idade Não Informada\n",
            "[2] Maior de Idade\n",
            "[3] Menor de Idade\n",
            "Digite o NÚMERO, NOME exato, ou deixe em branco para pular: \n",
            "\u001b[1m1/1\u001b[0m \u001b[32m━━━━━━━━━━━━━━━━━━━━\u001b[0m\u001b[37m\u001b[0m \u001b[1m0s\u001b[0m 439ms/step\n",
            "\n",
            "-------------------------------------------\n",
            "Cenário da Previsão:\n",
            "- Ano Previsto: 2032\n",
            "- Nenhum filtro adicional (cenário geral).\n",
            "\n",
            "🎯 PREVISÃO ANUAL ESTIMADA:\n",
            "O total de vítimas estimado para o ano de 2032 neste cenário é de: 120756\n",
            "-------------------------------------------\n",
            "(Nota: Estimativa baseada em uma previsão de 4 vítimas por evento, multiplicada pela média de 30189.1 eventos por ano para este cenário).\n",
            "\n",
            "Deseja fazer uma nova previsão? (s/n): n\n",
            "\n",
            "Script de previsão finalizado.\n"
          ]
        }
      ]
    }
  ]
}