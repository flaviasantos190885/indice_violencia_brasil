{
  "nbformat": 4,
  "nbformat_minor": 0,
  "metadata": {
    "colab": {
      "provenance": []
    },
    "kernelspec": {
      "name": "python3",
      "display_name": "Python 3"
    },
    "language_info": {
      "name": "python"
    }
  },
  "cells": [
    {
      "cell_type": "markdown",
      "source": [
        "Criação de arquivo CSV somente com as frases da coluna Evento - para ser usado no módulo de Nuvem de Palavras"
      ],
      "metadata": {
        "id": "uWG0e_GtqTGM"
      }
    },
    {
      "cell_type": "code",
      "source": [
        "from google.colab import drive\n",
        "drive.mount('/content/drive')"
      ],
      "metadata": {
        "colab": {
          "base_uri": "https://localhost:8080/"
        },
        "id": "JUxRek6Bj1LV",
        "outputId": "5586b12d-7b64-4fa3-8d9c-caeec559c0fe"
      },
      "execution_count": null,
      "outputs": [
        {
          "output_type": "stream",
          "name": "stdout",
          "text": [
            "Mounted at /content/drive\n"
          ]
        }
      ]
    },
    {
      "cell_type": "code",
      "source": [
        "# Conecta ao Google Drive\n",
        "drive.mount('/content/drive', force_remount=True)\n",
        "\n",
        "# --- CAMINHOS DOS ARQUIVOS ---\n",
        "# Use o seu arquivo GRANDE E COMPLETO aqui\n",
        "caminho_arquivo_grande = \"/content/drive/MyDrive/TCC/TCC Final/dados/BancoVDE_2015_2024_Completo.csv\"\n",
        "# Nome do novo arquivo de saída. Mudei o nome para não confundir com o anterior.\n",
        "caminho_arquivo_novo = \"/content/drive/MyDrive/TCC/TCC Final/dados/Frequencia_Frases_Evento.csv\"\n",
        "\n",
        "print(\"Iniciando o processamento...\")\n",
        "\n",
        "try:\n",
        "    # --- 1. CARREGAR APENAS A COLUNA 'evento' ---\n",
        "    df = pd.read_csv(caminho_arquivo_grande, usecols=['evento'])\n",
        "    print(\"Coluna 'evento' carregada.\")\n",
        "\n",
        "    # --- 2. CÁLCULO DE FREQUÊNCIA (DA FORMA CORRETA, POR FRASE) ---\n",
        "    # value_counts() conta a ocorrência de cada frase única. É tudo que precisamos.\n",
        "    contagem_frases = df['evento'].value_counts()\n",
        "\n",
        "    # Cria o DataFrame final a partir da contagem\n",
        "    df_frequencia = pd.DataFrame(contagem_frases).reset_index()\n",
        "    df_frequencia.columns = ['Frase', 'Contagem']\n",
        "\n",
        "    # Calcula a porcentagem de cada frase em relação ao total\n",
        "    total_de_registros = df_frequencia['Contagem'].sum()\n",
        "    df_frequencia['Porcentagem'] = (df_frequencia['Contagem'] / total_de_registros) * 100\n",
        "\n",
        "    print(\"Cálculo de frequência de frases finalizado.\")\n",
        "\n",
        "    # --- 3. SALVAR O RESULTADO ---\n",
        "    df_frequencia.to_csv(caminho_arquivo_novo, index=False)\n",
        "\n",
        "    print(\"-\" * 30)\n",
        "    print(\"✅ SUCESSO!\")\n",
        "    print(f\"Novo arquivo '{caminho_arquivo_novo.split('/')[-1]}' criado com sucesso!\")\n",
        "    print(\"Ele contém as colunas: Frase, Contagem, Porcentagem.\")\n",
        "\n",
        "except Exception as e:\n",
        "    print(f\"Ocorreu um erro: {e}\")\n"
      ],
      "metadata": {
        "colab": {
          "base_uri": "https://localhost:8080/"
        },
        "id": "FlXMPD3Bof3U",
        "outputId": "b908e732-b107-4c97-9219-510c818e9f5f"
      },
      "execution_count": null,
      "outputs": [
        {
          "output_type": "stream",
          "name": "stdout",
          "text": [
            "Mounted at /content/drive\n",
            "Iniciando o processamento...\n",
            "Coluna 'evento' carregada.\n",
            "Cálculo de frequência de frases finalizado.\n",
            "------------------------------\n",
            "✅ SUCESSO!\n",
            "Novo arquivo 'Frequencia_Frases_Evento.csv' criado com sucesso!\n",
            "Ele contém as colunas: Frase, Contagem, Porcentagem.\n"
          ]
        }
      ]
    }
  ]
}